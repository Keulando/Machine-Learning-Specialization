{
 "cells": [
  {
   "cell_type": "markdown",
   "metadata": {},
   "source": [
    "In this notebook, you will implement your very own LASSO solver via coordinate descent. You will:\n",
    "\n",
    "Write a function to normalize features\n",
    "Implement coordinate descent for LASSO\n",
    "Explore effects of L1 penalty"
   ]
  },
  {
   "cell_type": "code",
   "execution_count": 1,
   "metadata": {
    "ExecuteTime": {
     "end_time": "2018-03-30T19:21:44.828031Z",
     "start_time": "2018-03-30T19:21:44.437239Z"
    }
   },
   "outputs": [],
   "source": [
    "import numpy as np\n",
    "import pandas as pd"
   ]
  },
  {
   "cell_type": "code",
   "execution_count": 2,
   "metadata": {
    "ExecuteTime": {
     "end_time": "2018-03-30T19:21:44.833546Z",
     "start_time": "2018-03-30T19:21:44.829534Z"
    }
   },
   "outputs": [],
   "source": [
    "dtype_dict = {'bathrooms':float, 'waterfront':int, 'sqft_above':int, 'sqft_living15':float, \n",
    "              'grade':int, 'yr_renovated':int, 'price':float, 'bedrooms':float, 'zipcode':str, 'long':float, \n",
    "              'sqft_lot15':float, 'sqft_living':float, 'floors':float, 'condition':int, 'lat':float, 'date':str, \n",
    "              'sqft_basement':int, 'yr_built':int, 'id':str, 'sqft_lot':int, 'view':int}"
   ]
  },
  {
   "cell_type": "code",
   "execution_count": 3,
   "metadata": {
    "ExecuteTime": {
     "end_time": "2018-03-30T19:21:44.988019Z",
     "start_time": "2018-03-30T19:21:44.835050Z"
    }
   },
   "outputs": [],
   "source": [
    "sales=pd.read_csv('kc_house_data.csv', dtype=dtype_dict)\n",
    "train=pd.read_csv(\"kc_house_train_data.csv\", dtype=dtype_dict)\n",
    "test=pd.read_csv('kc_house_test_data.csv', dtype=dtype_dict)"
   ]
  },
  {
   "cell_type": "code",
   "execution_count": 4,
   "metadata": {
    "ExecuteTime": {
     "end_time": "2018-03-30T19:21:44.996981Z",
     "start_time": "2018-03-30T19:21:44.989960Z"
    }
   },
   "outputs": [],
   "source": [
    "def get_data(data_frame, features, output):\n",
    "    '''args: \n",
    "    data_frame= array, dataframe alike\n",
    "    features: list-like []\n",
    "    output: str'''\n",
    "    \n",
    "    import numpy as np\n",
    "    \n",
    "    data_frame[\"constant\"]=1\n",
    "    features= [\"constant\"] + features\n",
    "    \n",
    "    features_frame= data_frame[features]\n",
    "    feature_matrix= np.array(features_frame)\n",
    "    \n",
    "    output_array = np.array(data_frame[output])\n",
    "    return(feature_matrix, output_array)"
   ]
  },
  {
   "cell_type": "code",
   "execution_count": 5,
   "metadata": {
    "ExecuteTime": {
     "end_time": "2018-03-30T19:21:45.008112Z",
     "start_time": "2018-03-30T19:21:44.998531Z"
    }
   },
   "outputs": [],
   "source": [
    "def predict_output(feature_matrix, weights):\n",
    "    \n",
    "    predictions = np.dot(feature_matrix, weights)\n",
    "    return predictions"
   ]
  },
  {
   "cell_type": "code",
   "execution_count": 6,
   "metadata": {
    "ExecuteTime": {
     "end_time": "2018-03-30T19:21:45.022651Z",
     "start_time": "2018-03-30T19:21:45.009559Z"
    }
   },
   "outputs": [],
   "source": [
    "def normalize_features(feature_matrix):\n",
    "    norms=np.linalg.norm(feature_matrix, axis=0)\n",
    "    X_normalized = feature_matrix/norms\n",
    "    return X_normalized, norms"
   ]
  },
  {
   "cell_type": "markdown",
   "metadata": {},
   "source": [
    "# \n",
    "- cost function: SUM[ (prediction - output)^2 ] + lambda*( |w[1]| + ... + |w[k]|)\n",
    "\n",
    "- coordinate descent: argmin_{w[i]} [ SUM[ (prediction - output)^2 ] + lambda*( |w[1]| + ... + |w[k]|) ]\n",
    "\n",
    "- optimizing each coordinate:        \n",
    "\n",
    "       ┌ (ro[i] + lambda/2)    if ro[i] < -lambda/2\n",
    "w[i] = ├ 0 _____________________                         if -lambda/2 <= ro[i] <= lambda/2\n",
    "       └ (ro[i] - lambda/2)    if ro[i] > lambda/2\n",
    "       \n",
    "- ro func: ro[i] = SUM[ [feature_i]*(output - prediction + w[i]*[feature_i]) ]."
   ]
  },
  {
   "cell_type": "code",
   "execution_count": 7,
   "metadata": {
    "ExecuteTime": {
     "end_time": "2018-03-30T19:21:45.037671Z",
     "start_time": "2018-03-30T19:21:45.024598Z"
    }
   },
   "outputs": [],
   "source": [
    "simple_features=['sqft_living','bedrooms']\n",
    "target= 'price'\n",
    "\n",
    "simple_features_matrix, output = get_data(sales,simple_features,target)\n",
    "simple_features_matrix, norms  = normalize_features(simple_features_matrix)\n",
    "\n",
    "initial_weights= np.array([1.,4.,1.])\n",
    "\n",
    "simple_predictions = predict_output(simple_features_matrix, initial_weights)"
   ]
  },
  {
   "cell_type": "code",
   "execution_count": 8,
   "metadata": {
    "ExecuteTime": {
     "end_time": "2018-03-30T19:21:45.062763Z",
     "start_time": "2018-03-30T19:21:45.039638Z"
    }
   },
   "outputs": [],
   "source": [
    "#compute values for ro[i]\n",
    "\n",
    "ro  = np.zeros(simple_features_matrix.shape[1]) #init ro values with zeros\n",
    "foo = (output - simple_predictions) + np.dot(initial_weights,simple_features_matrix.T)\n",
    "ro  = np.dot(simple_features_matrix.T, foo)"
   ]
  },
  {
   "cell_type": "code",
   "execution_count": 9,
   "metadata": {
    "ExecuteTime": {
     "end_time": "2018-03-30T19:21:45.089335Z",
     "start_time": "2018-03-30T19:21:45.065770Z"
    }
   },
   "outputs": [
    {
     "data": {
      "text/plain": [
       "array([79400304.6376446 , 87939472.68182787, 80966703.40538491])"
      ]
     },
     "execution_count": 9,
     "metadata": {},
     "output_type": "execute_result"
    }
   ],
   "source": [
    "ro"
   ]
  },
  {
   "cell_type": "code",
   "execution_count": 10,
   "metadata": {
    "ExecuteTime": {
     "end_time": "2018-03-30T19:21:45.101867Z",
     "start_time": "2018-03-30T19:21:45.091338Z"
    }
   },
   "outputs": [
    {
     "data": {
      "text/plain": [
       "(3,)"
      ]
     },
     "execution_count": 10,
     "metadata": {},
     "output_type": "execute_result"
    }
   ],
   "source": [
    "initial_weights.shape"
   ]
  },
  {
   "cell_type": "code",
   "execution_count": 11,
   "metadata": {
    "ExecuteTime": {
     "end_time": "2018-03-30T19:21:45.113398Z",
     "start_time": "2018-03-30T19:21:45.103872Z"
    }
   },
   "outputs": [
    {
     "data": {
      "text/plain": [
       "(21613, 3)"
      ]
     },
     "execution_count": 11,
     "metadata": {},
     "output_type": "execute_result"
    }
   ],
   "source": [
    "simple_features_matrix.shape"
   ]
  },
  {
   "cell_type": "code",
   "execution_count": 12,
   "metadata": {
    "ExecuteTime": {
     "end_time": "2018-03-30T19:21:45.126433Z",
     "start_time": "2018-03-30T19:21:45.115403Z"
    }
   },
   "outputs": [
    {
     "data": {
      "text/plain": [
       "array([79400304.6376446 , 87939472.68182787, 80966703.40538491])"
      ]
     },
     "execution_count": 12,
     "metadata": {},
     "output_type": "execute_result"
    }
   ],
   "source": [
    "foo = (output - simple_predictions)  + np.dot(initial_weights,simple_features_matrix.T)\n",
    "ro = np.dot(simple_features_matrix.T, foo)\n",
    "ro"
   ]
  },
  {
   "cell_type": "markdown",
   "metadata": {},
   "source": [
    "# Q1  Recall that, whenever ro[i] falls between -l1_penalty/2 and l1_penalty/2, the corresponding weight w[i] is sent to zero. Now suppose we were to take one step of coordinate descent on either feature 1 or feature 2. What range of values of l1_penalty would not set w[1] zero, but would set w[2] to zero, if we were to take a step in that coordinate?"
   ]
  },
  {
   "cell_type": "markdown",
   "metadata": {},
   "source": [
    "w[2] = 0  if -lambda/2 <= ro[2] <= lambda/2\n",
    "\n",
    "lambda >= 2ro[2] and lambda >= -2ro[2]\n"
   ]
  },
  {
   "cell_type": "code",
   "execution_count": 13,
   "metadata": {
    "ExecuteTime": {
     "end_time": "2018-03-30T19:21:45.137461Z",
     "start_time": "2018-03-30T19:21:45.128438Z"
    }
   },
   "outputs": [
    {
     "data": {
      "text/plain": [
       "(161933406.81076983, 175878945.36365575)"
      ]
     },
     "execution_count": 13,
     "metadata": {},
     "output_type": "execute_result"
    }
   ],
   "source": [
    "2*ro[2], 2*ro[1]"
   ]
  },
  {
   "cell_type": "markdown",
   "metadata": {},
   "source": [
    "lambda has to be greater th`an ro[2] but less than ro[1] "
   ]
  },
  {
   "cell_type": "markdown",
   "metadata": {},
   "source": [
    "# Q2 lambda values for both Ws ot be zero"
   ]
  },
  {
   "cell_type": "markdown",
   "metadata": {},
   "source": [
    "lambda > 2*ro[1]"
   ]
  },
  {
   "cell_type": "markdown",
   "metadata": {},
   "source": [
    "# single coordinate descent step"
   ]
  },
  {
   "cell_type": "code",
   "execution_count": 14,
   "metadata": {
    "ExecuteTime": {
     "end_time": "2018-03-30T19:21:45.155511Z",
     "start_time": "2018-03-30T19:21:45.139466Z"
    }
   },
   "outputs": [],
   "source": [
    "def lasso_coordinate_descent_step(i, feature_matrix, output, weights, l1_penalty):\n",
    "    \n",
    "    prediction= predict_output(feature_matrix, weights)\n",
    "    \n",
    "    foo = (output - prediction)  + np.dot(weights[i], feature_matrix[:,i])\n",
    "    ro = np.dot(feature_matrix[:,i], foo)\n",
    "    \n",
    "    if i==0: #is intercept\n",
    "        new_weight_i = ro\n",
    "    elif ro < -0.5*l1_penalty:\n",
    "        new_weight_i = ro + 0.5*l1_penalty\n",
    "    elif ro > 0.5*l1_penalty:\n",
    "        new_weight_i = ro - 0.5*l1_penalty\n",
    "    else:\n",
    "        new_weight_i = 0\n",
    "        \n",
    "    return new_weight_i"
   ]
  },
  {
   "cell_type": "code",
   "execution_count": 15,
   "metadata": {
    "ExecuteTime": {
     "end_time": "2018-03-30T19:21:45.169046Z",
     "start_time": "2018-03-30T19:21:45.158518Z"
    }
   },
   "outputs": [
    {
     "name": "stdout",
     "output_type": "stream",
     "text": [
      "0.4255588466910251\n"
     ]
    }
   ],
   "source": [
    "# test\n",
    "import math \n",
    "feat=np.array([[3./math.sqrt(13),1./math.sqrt(10)],[2./math.sqrt(13),3./math.sqrt(10)]])\n",
    "output=np.array([1., 1.])\n",
    "weights=np.array([1., 4.])\n",
    "print(lasso_coordinate_descent_step(1, feat, output , weights , 0.1))"
   ]
  },
  {
   "cell_type": "markdown",
   "metadata": {},
   "source": [
    "# Cyclical coordinate descent\n"
   ]
  },
  {
   "cell_type": "markdown",
   "metadata": {},
   "source": [
    "Now that we have a function that optimizes the cost function over a single coordinate, let us implement cyclical coordinate descent where we optimize coordinates 0, 1, ..., (d-1) in order and repeat.\n",
    "\n",
    "When do we know to stop? Each time we scan all the coordinates (features) once, we measure the change in weight for each coordinate. If no coordinate changes by more than a specified threshold, we stop."
   ]
  },
  {
   "cell_type": "code",
   "execution_count": 16,
   "metadata": {
    "ExecuteTime": {
     "end_time": "2018-03-30T19:21:45.187594Z",
     "start_time": "2018-03-30T19:21:45.171553Z"
    }
   },
   "outputs": [],
   "source": [
    "def lasso_cyclical_coordinate_descent(feature_matrix, output, initial_weights, l1_penalty, tolerance):\n",
    "    \n",
    "    converged = False\n",
    "    weights = np.array(initial_weights)\n",
    "    delta = np.zeros(weights.shape)\n",
    "    D = feature_matrix.shape[1]\n",
    "    \n",
    "    while not converged:\n",
    "        \n",
    "        for i in range(D):\n",
    "            weight_update = lasso_coordinate_descent_step(i, feature_matrix, output, weights, l1_penalty)\n",
    "            delta[i] = np.abs(weight_update - weights[i])\n",
    "            weights[i] = weight_update\n",
    "            \n",
    "        max_delta = max(delta)\n",
    "        if max_delta < tolerance:\n",
    "            converged = True\n",
    "    \n",
    "    return weights"
   ]
  },
  {
   "cell_type": "code",
   "execution_count": 17,
   "metadata": {
    "ExecuteTime": {
     "end_time": "2018-03-30T19:21:45.202191Z",
     "start_time": "2018-03-30T19:21:45.190138Z"
    }
   },
   "outputs": [],
   "source": [
    "# try out simple model\n",
    "simple_features=['sqft_living','bedrooms']\n",
    "target= 'price'\n",
    "\n",
    "simple_features_matrix, output = get_data(sales,simple_features,target)\n",
    "normalized_simple_features_matrix, norms  = normalize_features(simple_features_matrix)\n",
    "initial_weights=np.zeros(simple_features_matrix.shape[1])\n",
    "l1=1e7\n",
    "tolerance =1.0"
   ]
  },
  {
   "cell_type": "code",
   "execution_count": 18,
   "metadata": {
    "ExecuteTime": {
     "end_time": "2018-03-30T19:21:45.251263Z",
     "start_time": "2018-03-30T19:21:45.203638Z"
    }
   },
   "outputs": [],
   "source": [
    "weights = lasso_cyclical_coordinate_descent(normalized_simple_features_matrix,output, initial_weights,l1,tolerance)"
   ]
  },
  {
   "cell_type": "code",
   "execution_count": 19,
   "metadata": {
    "ExecuteTime": {
     "end_time": "2018-03-30T19:21:45.255274Z",
     "start_time": "2018-03-30T19:21:45.252266Z"
    }
   },
   "outputs": [],
   "source": [
    "#lean on whole sales set\n",
    "\n",
    "prediction = predict_output(normalized_simple_features_matrix, weights)"
   ]
  },
  {
   "cell_type": "code",
   "execution_count": 20,
   "metadata": {
    "ExecuteTime": {
     "end_time": "2018-03-30T19:21:45.268372Z",
     "start_time": "2018-03-30T19:21:45.257280Z"
    }
   },
   "outputs": [],
   "source": [
    "rss = ( (output-prediction)**2 ).sum()"
   ]
  },
  {
   "cell_type": "code",
   "execution_count": 21,
   "metadata": {
    "ExecuteTime": {
     "end_time": "2018-03-30T19:21:45.279842Z",
     "start_time": "2018-03-30T19:21:45.269847Z"
    }
   },
   "outputs": [
    {
     "name": "stdout",
     "output_type": "stream",
     "text": [
      "rss is 1.630e+15\n"
     ]
    }
   ],
   "source": [
    "print('rss is {:.3e}'.format(rss))"
   ]
  },
  {
   "cell_type": "code",
   "execution_count": 22,
   "metadata": {
    "ExecuteTime": {
     "end_time": "2018-03-30T19:21:45.296885Z",
     "start_time": "2018-03-30T19:21:45.282348Z"
    }
   },
   "outputs": [
    {
     "data": {
      "text/plain": [
       "array([21624997.95951914, 63157247.20788951,        0.        ])"
      ]
     },
     "execution_count": 22,
     "metadata": {},
     "output_type": "execute_result"
    }
   ],
   "source": [
    "weights"
   ]
  },
  {
   "cell_type": "markdown",
   "metadata": {},
   "source": [
    "# lasso with more features"
   ]
  },
  {
   "cell_type": "code",
   "execution_count": 30,
   "metadata": {
    "ExecuteTime": {
     "end_time": "2018-03-30T19:23:45.693852Z",
     "start_time": "2018-03-30T19:23:45.688839Z"
    }
   },
   "outputs": [],
   "source": [
    "def table_weights(features_list, weights):\n",
    "    featuress=list(features_list)\n",
    "\n",
    "    featuress.insert(0,'constant')\n",
    "    df=pd.DataFrame(data={'Features':featuress, 'Weights':weights})\n",
    "    return df"
   ]
  },
  {
   "cell_type": "code",
   "execution_count": 24,
   "metadata": {
    "ExecuteTime": {
     "end_time": "2018-03-30T19:21:45.322499Z",
     "start_time": "2018-03-30T19:21:45.310421Z"
    }
   },
   "outputs": [
    {
     "data": {
      "text/plain": [
       "13"
      ]
     },
     "execution_count": 24,
     "metadata": {},
     "output_type": "execute_result"
    }
   ],
   "source": [
    "features = ['bedrooms', 'bathrooms', 'sqft_living', 'sqft_lot', 'floors',\n",
    "            'waterfront', 'view','condition', 'grade', 'sqft_above',\n",
    "            'sqft_basement', 'yr_built', 'yr_renovated']\n",
    "\n",
    "target = 'price'\n",
    "\n",
    "len(features)"
   ]
  },
  {
   "cell_type": "code",
   "execution_count": 26,
   "metadata": {
    "ExecuteTime": {
     "end_time": "2018-03-30T19:21:45.512458Z",
     "start_time": "2018-03-30T19:21:45.333985Z"
    }
   },
   "outputs": [],
   "source": [
    "feature_matrix, y_train = get_data(train, features, target)\n",
    "normalized_feature_matrix, norms = normalize_features(feature_matrix)\n",
    "\n",
    "l1_penalty=1e7\n",
    "initial_weights = np.zeros(normalized_feature_matrix.shape[1])\n",
    "tolerance =1.\n",
    "\n",
    "weights1e7=lasso_cyclical_coordinate_descent(normalized_feature_matrix, y_train, initial_weights,\n",
    "                                            l1_penalty,tolerance)\n"
   ]
  },
  {
   "cell_type": "markdown",
   "metadata": {},
   "source": [
    "## Q5 In the model trained with l1_penalty=1e7//1e8, which of the following features has non-zero weight? (Select all that apply)"
   ]
  },
  {
   "cell_type": "code",
   "execution_count": 31,
   "metadata": {
    "ExecuteTime": {
     "end_time": "2018-03-30T19:23:50.245653Z",
     "start_time": "2018-03-30T19:23:50.236629Z"
    }
   },
   "outputs": [
    {
     "data": {
      "text/html": [
       "<div>\n",
       "<style>\n",
       "    .dataframe thead tr:only-child th {\n",
       "        text-align: right;\n",
       "    }\n",
       "\n",
       "    .dataframe thead th {\n",
       "        text-align: left;\n",
       "    }\n",
       "\n",
       "    .dataframe tbody tr th {\n",
       "        vertical-align: top;\n",
       "    }\n",
       "</style>\n",
       "<table border=\"1\" class=\"dataframe\">\n",
       "  <thead>\n",
       "    <tr style=\"text-align: right;\">\n",
       "      <th></th>\n",
       "      <th>Features</th>\n",
       "      <th>Weights</th>\n",
       "    </tr>\n",
       "  </thead>\n",
       "  <tbody>\n",
       "    <tr>\n",
       "      <th>0</th>\n",
       "      <td>constant</td>\n",
       "      <td>2.442960e+07</td>\n",
       "    </tr>\n",
       "    <tr>\n",
       "      <th>1</th>\n",
       "      <td>bedrooms</td>\n",
       "      <td>0.000000e+00</td>\n",
       "    </tr>\n",
       "    <tr>\n",
       "      <th>2</th>\n",
       "      <td>bathrooms</td>\n",
       "      <td>0.000000e+00</td>\n",
       "    </tr>\n",
       "    <tr>\n",
       "      <th>3</th>\n",
       "      <td>sqft_living</td>\n",
       "      <td>4.838917e+07</td>\n",
       "    </tr>\n",
       "    <tr>\n",
       "      <th>4</th>\n",
       "      <td>sqft_lot</td>\n",
       "      <td>0.000000e+00</td>\n",
       "    </tr>\n",
       "    <tr>\n",
       "      <th>5</th>\n",
       "      <td>floors</td>\n",
       "      <td>0.000000e+00</td>\n",
       "    </tr>\n",
       "    <tr>\n",
       "      <th>6</th>\n",
       "      <td>waterfront</td>\n",
       "      <td>3.317511e+06</td>\n",
       "    </tr>\n",
       "    <tr>\n",
       "      <th>7</th>\n",
       "      <td>view</td>\n",
       "      <td>7.329962e+06</td>\n",
       "    </tr>\n",
       "    <tr>\n",
       "      <th>8</th>\n",
       "      <td>condition</td>\n",
       "      <td>0.000000e+00</td>\n",
       "    </tr>\n",
       "    <tr>\n",
       "      <th>9</th>\n",
       "      <td>grade</td>\n",
       "      <td>0.000000e+00</td>\n",
       "    </tr>\n",
       "    <tr>\n",
       "      <th>10</th>\n",
       "      <td>sqft_above</td>\n",
       "      <td>0.000000e+00</td>\n",
       "    </tr>\n",
       "    <tr>\n",
       "      <th>11</th>\n",
       "      <td>sqft_basement</td>\n",
       "      <td>0.000000e+00</td>\n",
       "    </tr>\n",
       "    <tr>\n",
       "      <th>12</th>\n",
       "      <td>yr_built</td>\n",
       "      <td>0.000000e+00</td>\n",
       "    </tr>\n",
       "    <tr>\n",
       "      <th>13</th>\n",
       "      <td>yr_renovated</td>\n",
       "      <td>0.000000e+00</td>\n",
       "    </tr>\n",
       "  </tbody>\n",
       "</table>\n",
       "</div>"
      ],
      "text/plain": [
       "         Features       Weights\n",
       "0        constant  2.442960e+07\n",
       "1        bedrooms  0.000000e+00\n",
       "2       bathrooms  0.000000e+00\n",
       "3     sqft_living  4.838917e+07\n",
       "4        sqft_lot  0.000000e+00\n",
       "5          floors  0.000000e+00\n",
       "6      waterfront  3.317511e+06\n",
       "7            view  7.329962e+06\n",
       "8       condition  0.000000e+00\n",
       "9           grade  0.000000e+00\n",
       "10     sqft_above  0.000000e+00\n",
       "11  sqft_basement  0.000000e+00\n",
       "12       yr_built  0.000000e+00\n",
       "13   yr_renovated  0.000000e+00"
      ]
     },
     "execution_count": 31,
     "metadata": {},
     "output_type": "execute_result"
    }
   ],
   "source": [
    "table_weights(features, weights1e7)"
   ]
  },
  {
   "cell_type": "code",
   "execution_count": 32,
   "metadata": {
    "ExecuteTime": {
     "end_time": "2018-03-30T19:23:51.759207Z",
     "start_time": "2018-03-30T19:23:51.736808Z"
    }
   },
   "outputs": [
    {
     "data": {
      "text/html": [
       "<div>\n",
       "<style>\n",
       "    .dataframe thead tr:only-child th {\n",
       "        text-align: right;\n",
       "    }\n",
       "\n",
       "    .dataframe thead th {\n",
       "        text-align: left;\n",
       "    }\n",
       "\n",
       "    .dataframe tbody tr th {\n",
       "        vertical-align: top;\n",
       "    }\n",
       "</style>\n",
       "<table border=\"1\" class=\"dataframe\">\n",
       "  <thead>\n",
       "    <tr style=\"text-align: right;\">\n",
       "      <th></th>\n",
       "      <th>Features</th>\n",
       "      <th>Weights</th>\n",
       "    </tr>\n",
       "  </thead>\n",
       "  <tbody>\n",
       "    <tr>\n",
       "      <th>0</th>\n",
       "      <td>constant</td>\n",
       "      <td>7.111463e+07</td>\n",
       "    </tr>\n",
       "    <tr>\n",
       "      <th>1</th>\n",
       "      <td>bedrooms</td>\n",
       "      <td>0.000000e+00</td>\n",
       "    </tr>\n",
       "    <tr>\n",
       "      <th>2</th>\n",
       "      <td>bathrooms</td>\n",
       "      <td>0.000000e+00</td>\n",
       "    </tr>\n",
       "    <tr>\n",
       "      <th>3</th>\n",
       "      <td>sqft_living</td>\n",
       "      <td>0.000000e+00</td>\n",
       "    </tr>\n",
       "    <tr>\n",
       "      <th>4</th>\n",
       "      <td>sqft_lot</td>\n",
       "      <td>0.000000e+00</td>\n",
       "    </tr>\n",
       "    <tr>\n",
       "      <th>5</th>\n",
       "      <td>floors</td>\n",
       "      <td>0.000000e+00</td>\n",
       "    </tr>\n",
       "    <tr>\n",
       "      <th>6</th>\n",
       "      <td>waterfront</td>\n",
       "      <td>0.000000e+00</td>\n",
       "    </tr>\n",
       "    <tr>\n",
       "      <th>7</th>\n",
       "      <td>view</td>\n",
       "      <td>0.000000e+00</td>\n",
       "    </tr>\n",
       "    <tr>\n",
       "      <th>8</th>\n",
       "      <td>condition</td>\n",
       "      <td>0.000000e+00</td>\n",
       "    </tr>\n",
       "    <tr>\n",
       "      <th>9</th>\n",
       "      <td>grade</td>\n",
       "      <td>0.000000e+00</td>\n",
       "    </tr>\n",
       "    <tr>\n",
       "      <th>10</th>\n",
       "      <td>sqft_above</td>\n",
       "      <td>0.000000e+00</td>\n",
       "    </tr>\n",
       "    <tr>\n",
       "      <th>11</th>\n",
       "      <td>sqft_basement</td>\n",
       "      <td>0.000000e+00</td>\n",
       "    </tr>\n",
       "    <tr>\n",
       "      <th>12</th>\n",
       "      <td>yr_built</td>\n",
       "      <td>0.000000e+00</td>\n",
       "    </tr>\n",
       "    <tr>\n",
       "      <th>13</th>\n",
       "      <td>yr_renovated</td>\n",
       "      <td>0.000000e+00</td>\n",
       "    </tr>\n",
       "  </tbody>\n",
       "</table>\n",
       "</div>"
      ],
      "text/plain": [
       "         Features       Weights\n",
       "0        constant  7.111463e+07\n",
       "1        bedrooms  0.000000e+00\n",
       "2       bathrooms  0.000000e+00\n",
       "3     sqft_living  0.000000e+00\n",
       "4        sqft_lot  0.000000e+00\n",
       "5          floors  0.000000e+00\n",
       "6      waterfront  0.000000e+00\n",
       "7            view  0.000000e+00\n",
       "8       condition  0.000000e+00\n",
       "9           grade  0.000000e+00\n",
       "10     sqft_above  0.000000e+00\n",
       "11  sqft_basement  0.000000e+00\n",
       "12       yr_built  0.000000e+00\n",
       "13   yr_renovated  0.000000e+00"
      ]
     },
     "execution_count": 32,
     "metadata": {},
     "output_type": "execute_result"
    }
   ],
   "source": [
    "feature_matrix, y_train = get_data(train, features, target)\n",
    "normalized_feature_matrix, norms = normalize_features(feature_matrix)\n",
    "\n",
    "l1_penalty=1e8\n",
    "initial_weights = np.zeros(normalized_feature_matrix.shape[1])\n",
    "tolerance =1.\n",
    "\n",
    "weights1e8=lasso_cyclical_coordinate_descent(normalized_feature_matrix, y_train, initial_weights,\n",
    "                                            l1_penalty,tolerance)\n",
    "\n",
    "table_weights(features, weights1e8)"
   ]
  },
  {
   "cell_type": "code",
   "execution_count": 33,
   "metadata": {
    "ExecuteTime": {
     "end_time": "2018-03-30T19:25:36.290510Z",
     "start_time": "2018-03-30T19:25:36.059690Z"
    }
   },
   "outputs": [
    {
     "data": {
      "text/html": [
       "<div>\n",
       "<style>\n",
       "    .dataframe thead tr:only-child th {\n",
       "        text-align: right;\n",
       "    }\n",
       "\n",
       "    .dataframe thead th {\n",
       "        text-align: left;\n",
       "    }\n",
       "\n",
       "    .dataframe tbody tr th {\n",
       "        vertical-align: top;\n",
       "    }\n",
       "</style>\n",
       "<table border=\"1\" class=\"dataframe\">\n",
       "  <thead>\n",
       "    <tr style=\"text-align: right;\">\n",
       "      <th></th>\n",
       "      <th>Features</th>\n",
       "      <th>Weights</th>\n",
       "    </tr>\n",
       "  </thead>\n",
       "  <tbody>\n",
       "    <tr>\n",
       "      <th>0</th>\n",
       "      <td>constant</td>\n",
       "      <td>7.856474e+07</td>\n",
       "    </tr>\n",
       "    <tr>\n",
       "      <th>1</th>\n",
       "      <td>bedrooms</td>\n",
       "      <td>-2.209740e+07</td>\n",
       "    </tr>\n",
       "    <tr>\n",
       "      <th>2</th>\n",
       "      <td>bathrooms</td>\n",
       "      <td>1.279107e+07</td>\n",
       "    </tr>\n",
       "    <tr>\n",
       "      <th>3</th>\n",
       "      <td>sqft_living</td>\n",
       "      <td>9.380809e+07</td>\n",
       "    </tr>\n",
       "    <tr>\n",
       "      <th>4</th>\n",
       "      <td>sqft_lot</td>\n",
       "      <td>-2.013173e+06</td>\n",
       "    </tr>\n",
       "    <tr>\n",
       "      <th>5</th>\n",
       "      <td>floors</td>\n",
       "      <td>-4.219185e+06</td>\n",
       "    </tr>\n",
       "    <tr>\n",
       "      <th>6</th>\n",
       "      <td>waterfront</td>\n",
       "      <td>6.482843e+06</td>\n",
       "    </tr>\n",
       "    <tr>\n",
       "      <th>7</th>\n",
       "      <td>view</td>\n",
       "      <td>7.127409e+06</td>\n",
       "    </tr>\n",
       "    <tr>\n",
       "      <th>8</th>\n",
       "      <td>condition</td>\n",
       "      <td>5.001665e+06</td>\n",
       "    </tr>\n",
       "    <tr>\n",
       "      <th>9</th>\n",
       "      <td>grade</td>\n",
       "      <td>1.432752e+07</td>\n",
       "    </tr>\n",
       "    <tr>\n",
       "      <th>10</th>\n",
       "      <td>sqft_above</td>\n",
       "      <td>-1.577096e+07</td>\n",
       "    </tr>\n",
       "    <tr>\n",
       "      <th>11</th>\n",
       "      <td>sqft_basement</td>\n",
       "      <td>-5.159591e+06</td>\n",
       "    </tr>\n",
       "    <tr>\n",
       "      <th>12</th>\n",
       "      <td>yr_built</td>\n",
       "      <td>-8.449534e+07</td>\n",
       "    </tr>\n",
       "    <tr>\n",
       "      <th>13</th>\n",
       "      <td>yr_renovated</td>\n",
       "      <td>2.824439e+06</td>\n",
       "    </tr>\n",
       "  </tbody>\n",
       "</table>\n",
       "</div>"
      ],
      "text/plain": [
       "         Features       Weights\n",
       "0        constant  7.856474e+07\n",
       "1        bedrooms -2.209740e+07\n",
       "2       bathrooms  1.279107e+07\n",
       "3     sqft_living  9.380809e+07\n",
       "4        sqft_lot -2.013173e+06\n",
       "5          floors -4.219185e+06\n",
       "6      waterfront  6.482843e+06\n",
       "7            view  7.127409e+06\n",
       "8       condition  5.001665e+06\n",
       "9           grade  1.432752e+07\n",
       "10     sqft_above -1.577096e+07\n",
       "11  sqft_basement -5.159591e+06\n",
       "12       yr_built -8.449534e+07\n",
       "13   yr_renovated  2.824439e+06"
      ]
     },
     "execution_count": 33,
     "metadata": {},
     "output_type": "execute_result"
    }
   ],
   "source": [
    "feature_matrix, y_train = get_data(train, features, target)\n",
    "normalized_feature_matrix, norms = normalize_features(feature_matrix)\n",
    "\n",
    "l1_penalty=1e4\n",
    "initial_weights = np.zeros(normalized_feature_matrix.shape[1])\n",
    "tolerance =5e5\n",
    "\n",
    "weights1e4=lasso_cyclical_coordinate_descent(normalized_feature_matrix, y_train, initial_weights,\n",
    "                                            l1_penalty,tolerance)\n",
    "\n",
    "table_weights(features, weights1e4)"
   ]
  },
  {
   "cell_type": "markdown",
   "metadata": {},
   "source": [
    "# Rescaling learned weights\n"
   ]
  },
  {
   "cell_type": "code",
   "execution_count": 37,
   "metadata": {
    "ExecuteTime": {
     "end_time": "2018-03-30T19:31:17.862715Z",
     "start_time": "2018-03-30T19:31:17.857701Z"
    }
   },
   "outputs": [],
   "source": [
    "def weights_normalized(weights):\n",
    "    normalized_weights = weights / norms\n",
    "    return normalized_weights"
   ]
  },
  {
   "cell_type": "code",
   "execution_count": 40,
   "metadata": {
    "ExecuteTime": {
     "end_time": "2018-03-30T19:32:13.452717Z",
     "start_time": "2018-03-30T19:32:13.448207Z"
    }
   },
   "outputs": [],
   "source": [
    "norm_weights_1e7=weights_normalized(weights1e7)\n",
    "norm_weights_1e8=weights_normalized(weights1e8)\n",
    "norm_weights_1e4=weights_normalized(weights1e4)"
   ]
  },
  {
   "cell_type": "code",
   "execution_count": 42,
   "metadata": {
    "ExecuteTime": {
     "end_time": "2018-03-30T19:33:35.725132Z",
     "start_time": "2018-03-30T19:33:35.722122Z"
    }
   },
   "outputs": [],
   "source": [
    "# evaluate models on test data WITHOUT normalizing feature"
   ]
  },
  {
   "cell_type": "code",
   "execution_count": 43,
   "metadata": {
    "ExecuteTime": {
     "end_time": "2018-03-30T19:37:37.673848Z",
     "start_time": "2018-03-30T19:37:37.668835Z"
    }
   },
   "outputs": [],
   "source": [
    "test_feature_matrix, y_test = get_data(test, features, target)"
   ]
  },
  {
   "cell_type": "code",
   "execution_count": 47,
   "metadata": {
    "ExecuteTime": {
     "end_time": "2018-03-30T19:39:14.400300Z",
     "start_time": "2018-03-30T19:39:14.396290Z"
    }
   },
   "outputs": [
    {
     "name": "stdout",
     "output_type": "stream",
     "text": [
      "RSS for model with weights1e7 =2.760e+14 \n"
     ]
    }
   ],
   "source": [
    "prediction =  predict_output(test_feature_matrix, norm_weights_1e7)\n",
    "RSS = ( (y_test-prediction)**2 ).sum()\n",
    "print('RSS for model with weights1e7 ={:.3e} '.format( RSS))"
   ]
  },
  {
   "cell_type": "code",
   "execution_count": 48,
   "metadata": {
    "ExecuteTime": {
     "end_time": "2018-03-30T19:39:35.393600Z",
     "start_time": "2018-03-30T19:39:35.389054Z"
    }
   },
   "outputs": [
    {
     "name": "stdout",
     "output_type": "stream",
     "text": [
      "RSS for model with weights1e8 =5.372e+14 \n"
     ]
    }
   ],
   "source": [
    "prediction =  predict_output(test_feature_matrix, norm_weights_1e8)\n",
    "RSS = ( (y_test-prediction)**2 ).sum()\n",
    "print('RSS for model with weights1e8 ={:.3e} '.format( RSS))"
   ]
  },
  {
   "cell_type": "code",
   "execution_count": 49,
   "metadata": {
    "ExecuteTime": {
     "end_time": "2018-03-30T19:40:06.254470Z",
     "start_time": "2018-03-30T19:40:06.249958Z"
    }
   },
   "outputs": [
    {
     "name": "stdout",
     "output_type": "stream",
     "text": [
      "RSS for model with weights1e4 =2.285e+14 \n"
     ]
    }
   ],
   "source": [
    "prediction = predict_output(test_feature_matrix, norm_weights_1e4)\n",
    "RSS = ( (y_test-prediction)**2 ).sum()\n",
    "print('RSS for model with weights1e4 ={:.3e} '.format( RSS))"
   ]
  },
  {
   "cell_type": "code",
   "execution_count": null,
   "metadata": {},
   "outputs": [],
   "source": []
  }
 ],
 "metadata": {
  "kernelspec": {
   "display_name": "Python 3",
   "language": "python",
   "name": "python3"
  },
  "language_info": {
   "codemirror_mode": {
    "name": "ipython",
    "version": 3
   },
   "file_extension": ".py",
   "mimetype": "text/x-python",
   "name": "python",
   "nbconvert_exporter": "python",
   "pygments_lexer": "ipython3",
   "version": "3.6.3"
  },
  "toc": {
   "nav_menu": {},
   "number_sections": true,
   "sideBar": true,
   "skip_h1_title": false,
   "title_cell": "Table of Contents",
   "title_sidebar": "Contents",
   "toc_cell": false,
   "toc_position": {},
   "toc_section_display": true,
   "toc_window_display": false
  },
  "varInspector": {
   "cols": {
    "lenName": 16,
    "lenType": 16,
    "lenVar": 40
   },
   "kernels_config": {
    "python": {
     "delete_cmd_postfix": "",
     "delete_cmd_prefix": "del ",
     "library": "var_list.py",
     "varRefreshCmd": "print(var_dic_list())"
    },
    "r": {
     "delete_cmd_postfix": ") ",
     "delete_cmd_prefix": "rm(",
     "library": "var_list.r",
     "varRefreshCmd": "cat(var_dic_list()) "
    }
   },
   "types_to_exclude": [
    "module",
    "function",
    "builtin_function_or_method",
    "instance",
    "_Feature"
   ],
   "window_display": false
  }
 },
 "nbformat": 4,
 "nbformat_minor": 2
}
