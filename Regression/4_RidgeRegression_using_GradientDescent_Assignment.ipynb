{
 "cells": [
  {
   "cell_type": "markdown",
   "metadata": {},
   "source": [
    "In this assignment, you will implement ridge regression via gradient descent. You will:\n",
    "\n"
   ]
  },
  {
   "cell_type": "code",
   "execution_count": 10,
   "metadata": {
    "ExecuteTime": {
     "end_time": "2018-03-24T13:18:14.762482Z",
     "start_time": "2018-03-24T13:18:14.758974Z"
    }
   },
   "outputs": [],
   "source": [
    "import pandas as pd\n",
    "import numpy as np"
   ]
  },
  {
   "cell_type": "markdown",
   "metadata": {},
   "source": [
    "# Data"
   ]
  },
  {
   "cell_type": "code",
   "execution_count": 11,
   "metadata": {
    "ExecuteTime": {
     "end_time": "2018-03-24T13:18:14.957142Z",
     "start_time": "2018-03-24T13:18:14.953132Z"
    }
   },
   "outputs": [],
   "source": [
    "dtype_dict = {'bathrooms':float, 'waterfront':int, 'sqft_above':int, 'sqft_living15':float, 'grade':int, 'yr_renovated':int, 'price':float, 'bedrooms':float, 'zipcode':str, 'long':float, 'sqft_lot15':float, 'sqft_living':float, 'floors':str, 'condition':int, 'lat':float, 'date':str, 'sqft_basement':int, 'yr_built':int, 'id':str, 'sqft_lot':int, 'view':int}"
   ]
  },
  {
   "cell_type": "code",
   "execution_count": 20,
   "metadata": {
    "ExecuteTime": {
     "end_time": "2018-03-24T13:44:24.373151Z",
     "start_time": "2018-03-24T13:44:24.259084Z"
    }
   },
   "outputs": [],
   "source": [
    "sales=pd.read_csv('kc_house_data.csv')\n",
    "train=pd.read_csv('kc_house_train_data.csv')\n",
    "test=pd.read_csv('kc_house_test_data.csv')"
   ]
  },
  {
   "cell_type": "markdown",
   "metadata": {},
   "source": [
    "# useful functions"
   ]
  },
  {
   "cell_type": "code",
   "execution_count": 21,
   "metadata": {
    "ExecuteTime": {
     "end_time": "2018-03-24T13:44:25.227437Z",
     "start_time": "2018-03-24T13:44:25.220920Z"
    }
   },
   "outputs": [],
   "source": [
    "def get_data(data_frame, features, output):\n",
    "    '''args: \n",
    "    data_frame= array, dataframe alike\n",
    "    features: list-like []\n",
    "    output: str'''\n",
    "    \n",
    "    data_frame[\"constant\"]=1\n",
    "    features= [\"constant\"] + features\n",
    "    \n",
    "    features_frame= data_frame[features]\n",
    "    feature_matrix= np.array(features_frame)\n",
    "    \n",
    "    output_array = np.array(data_frame[output])\n",
    "    return(feature_matrix, output_array)"
   ]
  },
  {
   "cell_type": "code",
   "execution_count": 22,
   "metadata": {
    "ExecuteTime": {
     "end_time": "2018-03-24T13:44:25.579483Z",
     "start_time": "2018-03-24T13:44:25.575974Z"
    }
   },
   "outputs": [],
   "source": [
    "def predict_output(feature_matrix, weights):\n",
    "    \n",
    "    predictions = np.dot(feature_matrix, weights)\n",
    "    return predictions"
   ]
  },
  {
   "cell_type": "code",
   "execution_count": 23,
   "metadata": {
    "ExecuteTime": {
     "end_time": "2018-03-24T13:44:25.975409Z",
     "start_time": "2018-03-24T13:44:25.969357Z"
    }
   },
   "outputs": [],
   "source": [
    "def feature_derivative_ridge(errors, feature, weights, l2_penalty, feature_is_constant):\n",
    "    d_error = 2*np.dot(errors, feature)\n",
    "    d_l2    = 2*np.dot(l2_penalty, weights)\n",
    "    if feature_is_constant == True:\n",
    "        derivative = d_error\n",
    "    else:\n",
    "        derivative = d_error + d_l2\n",
    "    \n",
    "    return derivative"
   ]
  },
  {
   "cell_type": "code",
   "execution_count": 24,
   "metadata": {
    "ExecuteTime": {
     "end_time": "2018-03-24T13:44:26.635725Z",
     "start_time": "2018-03-24T13:44:26.619189Z"
    }
   },
   "outputs": [
    {
     "name": "stdout",
     "output_type": "stream",
     "text": [
      "-56554166815950.0\n",
      "-56554166815950.0\n",
      "\n",
      "-22446749330.0\n",
      "-22446749330.0\n"
     ]
    }
   ],
   "source": [
    "#test feature_derivative_ridge\n",
    "\n",
    "(example_features, example_output) = get_data(sales, ['sqft_living'], 'price')\n",
    "my_weights = np.array([1., 10.])\n",
    "test_predictions = predict_output(example_features, my_weights)\n",
    "errors = test_predictions - example_output # prediction errors\n",
    "\n",
    "# next two lines should print the same values\n",
    "print(feature_derivative_ridge(errors, example_features[:,1], my_weights[1], 1, False))\n",
    "print(np.sum(errors*example_features[:,1])*2+20.)\n",
    "print('')\n",
    "\n",
    "# next two lines should print the same values\n",
    "print(feature_derivative_ridge(errors, example_features[:,0], my_weights[0], 1, True))\n",
    "print(np.sum(errors)*2.)"
   ]
  },
  {
   "cell_type": "code",
   "execution_count": 70,
   "metadata": {
    "ExecuteTime": {
     "end_time": "2018-03-24T14:02:39.423050Z",
     "start_time": "2018-03-24T14:02:39.403460Z"
    }
   },
   "outputs": [],
   "source": [
    "def ridge_regression_gradient_descent(feature_matrix, output, initial_weights, step_size, l2_penalty, max_iterations=100):\n",
    "    \n",
    "    weights = np.array(initial_weights, dtype=object)\n",
    "    \n",
    "    while max_iterations >0:\n",
    "        predictions = predict_output(feature_matrix, weights)\n",
    "        errors = predictions - output\n",
    "        \n",
    "        for i in range(len(weights)):\n",
    "            if i == 0:\n",
    "                feature_is_constant = True\n",
    "            else:\n",
    "                feature_is_constant = False\n",
    "        \n",
    "            derivative = feature_derivative_ridge(errors, feature_matrix[:,i], weights[i], l2_penalty, feature_is_constant)\n",
    "            weights[i] = weights[i] - (step_size*derivative)\n",
    "        \n",
    "        max_iterations -= 1\n",
    "    return weights"
   ]
  },
  {
   "cell_type": "markdown",
   "metadata": {},
   "source": [
    "# simple test\n"
   ]
  },
  {
   "cell_type": "code",
   "execution_count": 71,
   "metadata": {
    "ExecuteTime": {
     "end_time": "2018-03-24T14:02:39.659672Z",
     "start_time": "2018-03-24T14:02:39.652620Z"
    }
   },
   "outputs": [],
   "source": [
    "\n",
    "simple_features = ['sqft_living']\n",
    "my_output = 'price'\n",
    "\n",
    "(simple_feature_matrix, output) = get_data(train, simple_features, my_output)\n",
    "(simple_test_feature_matrix, test_output) = get_data(test, simple_features, my_output)"
   ]
  },
  {
   "cell_type": "markdown",
   "metadata": {},
   "source": [
    "## no L2"
   ]
  },
  {
   "cell_type": "code",
   "execution_count": 72,
   "metadata": {
    "ExecuteTime": {
     "end_time": "2018-03-24T14:03:01.591299Z",
     "start_time": "2018-03-24T14:02:39.962728Z"
    }
   },
   "outputs": [],
   "source": [
    "\n",
    "step_size=1e-12\n",
    "max_iterations = 1000\n",
    "initial_weights = np.array([0.,0.])\n",
    "simple_weights_0_penalty=ridge_regression_gradient_descent(simple_feature_matrix,\n",
    "                                                          output, initial_weights,\n",
    "                                                          step_size, 0.0, max_iterations)\n"
   ]
  },
  {
   "cell_type": "markdown",
   "metadata": {},
   "source": [
    "### Q1 What is the value of the coefficient for sqft_living that you learned with no regularization, rounded to 1 decimal place? What about the one with high regularization?"
   ]
  },
  {
   "cell_type": "code",
   "execution_count": 79,
   "metadata": {
    "ExecuteTime": {
     "end_time": "2018-03-24T14:11:46.705893Z",
     "start_time": "2018-03-24T14:11:46.700880Z"
    }
   },
   "outputs": [
    {
     "data": {
      "text/plain": [
       "array([-0.16311351478746433, 263.0243689653849], dtype=object)"
      ]
     },
     "execution_count": 79,
     "metadata": {},
     "output_type": "execute_result"
    }
   ],
   "source": [
    "simple_weights_0_penalty"
   ]
  },
  {
   "cell_type": "markdown",
   "metadata": {},
   "source": [
    "## high regularization L2"
   ]
  },
  {
   "cell_type": "code",
   "execution_count": 73,
   "metadata": {
    "ExecuteTime": {
     "end_time": "2018-03-24T14:04:02.222038Z",
     "start_time": "2018-03-24T14:03:40.552090Z"
    }
   },
   "outputs": [],
   "source": [
    "simple_weights_high_penalty=ridge_regression_gradient_descent(simple_feature_matrix,\n",
    "                                                          output, initial_weights,\n",
    "                                                          step_size, 1e11, max_iterations)\n"
   ]
  },
  {
   "cell_type": "markdown",
   "metadata": {},
   "source": [
    "### Q2 What is the value of the coefficient for sqft_living that you learned with high regularization (l2_penalty=1e11)? Use American-style decimals (e.g. 30.5) and round your answer to 1 decimal place."
   ]
  },
  {
   "cell_type": "code",
   "execution_count": 81,
   "metadata": {
    "ExecuteTime": {
     "end_time": "2018-03-24T14:14:34.495875Z",
     "start_time": "2018-03-24T14:14:34.491329Z"
    }
   },
   "outputs": [
    {
     "data": {
      "text/plain": [
       "array([9.767303822265427, 124.57217567413912], dtype=object)"
      ]
     },
     "execution_count": 81,
     "metadata": {},
     "output_type": "execute_result"
    }
   ],
   "source": [
    "simple_weights_high_penalty"
   ]
  },
  {
   "cell_type": "markdown",
   "metadata": {},
   "source": [
    "### Q3 Quiz Question: Comparing the lines you fit with the with no regularization versus high regularization, which one is steeper?"
   ]
  },
  {
   "cell_type": "code",
   "execution_count": 78,
   "metadata": {
    "ExecuteTime": {
     "end_time": "2018-03-24T14:06:27.992892Z",
     "start_time": "2018-03-24T14:06:27.762779Z"
    },
    "collapsed": true
   },
   "outputs": [
    {
     "data": {
      "application/javascript": [
       "/* Put everything inside the global mpl namespace */\n",
       "window.mpl = {};\n",
       "\n",
       "\n",
       "mpl.get_websocket_type = function() {\n",
       "    if (typeof(WebSocket) !== 'undefined') {\n",
       "        return WebSocket;\n",
       "    } else if (typeof(MozWebSocket) !== 'undefined') {\n",
       "        return MozWebSocket;\n",
       "    } else {\n",
       "        alert('Your browser does not have WebSocket support.' +\n",
       "              'Please try Chrome, Safari or Firefox ≥ 6. ' +\n",
       "              'Firefox 4 and 5 are also supported but you ' +\n",
       "              'have to enable WebSockets in about:config.');\n",
       "    };\n",
       "}\n",
       "\n",
       "mpl.figure = function(figure_id, websocket, ondownload, parent_element) {\n",
       "    this.id = figure_id;\n",
       "\n",
       "    this.ws = websocket;\n",
       "\n",
       "    this.supports_binary = (this.ws.binaryType != undefined);\n",
       "\n",
       "    if (!this.supports_binary) {\n",
       "        var warnings = document.getElementById(\"mpl-warnings\");\n",
       "        if (warnings) {\n",
       "            warnings.style.display = 'block';\n",
       "            warnings.textContent = (\n",
       "                \"This browser does not support binary websocket messages. \" +\n",
       "                    \"Performance may be slow.\");\n",
       "        }\n",
       "    }\n",
       "\n",
       "    this.imageObj = new Image();\n",
       "\n",
       "    this.context = undefined;\n",
       "    this.message = undefined;\n",
       "    this.canvas = undefined;\n",
       "    this.rubberband_canvas = undefined;\n",
       "    this.rubberband_context = undefined;\n",
       "    this.format_dropdown = undefined;\n",
       "\n",
       "    this.image_mode = 'full';\n",
       "\n",
       "    this.root = $('<div/>');\n",
       "    this._root_extra_style(this.root)\n",
       "    this.root.attr('style', 'display: inline-block');\n",
       "\n",
       "    $(parent_element).append(this.root);\n",
       "\n",
       "    this._init_header(this);\n",
       "    this._init_canvas(this);\n",
       "    this._init_toolbar(this);\n",
       "\n",
       "    var fig = this;\n",
       "\n",
       "    this.waiting = false;\n",
       "\n",
       "    this.ws.onopen =  function () {\n",
       "            fig.send_message(\"supports_binary\", {value: fig.supports_binary});\n",
       "            fig.send_message(\"send_image_mode\", {});\n",
       "            if (mpl.ratio != 1) {\n",
       "                fig.send_message(\"set_dpi_ratio\", {'dpi_ratio': mpl.ratio});\n",
       "            }\n",
       "            fig.send_message(\"refresh\", {});\n",
       "        }\n",
       "\n",
       "    this.imageObj.onload = function() {\n",
       "            if (fig.image_mode == 'full') {\n",
       "                // Full images could contain transparency (where diff images\n",
       "                // almost always do), so we need to clear the canvas so that\n",
       "                // there is no ghosting.\n",
       "                fig.context.clearRect(0, 0, fig.canvas.width, fig.canvas.height);\n",
       "            }\n",
       "            fig.context.drawImage(fig.imageObj, 0, 0);\n",
       "        };\n",
       "\n",
       "    this.imageObj.onunload = function() {\n",
       "        fig.ws.close();\n",
       "    }\n",
       "\n",
       "    this.ws.onmessage = this._make_on_message_function(this);\n",
       "\n",
       "    this.ondownload = ondownload;\n",
       "}\n",
       "\n",
       "mpl.figure.prototype._init_header = function() {\n",
       "    var titlebar = $(\n",
       "        '<div class=\"ui-dialog-titlebar ui-widget-header ui-corner-all ' +\n",
       "        'ui-helper-clearfix\"/>');\n",
       "    var titletext = $(\n",
       "        '<div class=\"ui-dialog-title\" style=\"width: 100%; ' +\n",
       "        'text-align: center; padding: 3px;\"/>');\n",
       "    titlebar.append(titletext)\n",
       "    this.root.append(titlebar);\n",
       "    this.header = titletext[0];\n",
       "}\n",
       "\n",
       "\n",
       "\n",
       "mpl.figure.prototype._canvas_extra_style = function(canvas_div) {\n",
       "\n",
       "}\n",
       "\n",
       "\n",
       "mpl.figure.prototype._root_extra_style = function(canvas_div) {\n",
       "\n",
       "}\n",
       "\n",
       "mpl.figure.prototype._init_canvas = function() {\n",
       "    var fig = this;\n",
       "\n",
       "    var canvas_div = $('<div/>');\n",
       "\n",
       "    canvas_div.attr('style', 'position: relative; clear: both; outline: 0');\n",
       "\n",
       "    function canvas_keyboard_event(event) {\n",
       "        return fig.key_event(event, event['data']);\n",
       "    }\n",
       "\n",
       "    canvas_div.keydown('key_press', canvas_keyboard_event);\n",
       "    canvas_div.keyup('key_release', canvas_keyboard_event);\n",
       "    this.canvas_div = canvas_div\n",
       "    this._canvas_extra_style(canvas_div)\n",
       "    this.root.append(canvas_div);\n",
       "\n",
       "    var canvas = $('<canvas/>');\n",
       "    canvas.addClass('mpl-canvas');\n",
       "    canvas.attr('style', \"left: 0; top: 0; z-index: 0; outline: 0\")\n",
       "\n",
       "    this.canvas = canvas[0];\n",
       "    this.context = canvas[0].getContext(\"2d\");\n",
       "\n",
       "    var backingStore = this.context.backingStorePixelRatio ||\n",
       "\tthis.context.webkitBackingStorePixelRatio ||\n",
       "\tthis.context.mozBackingStorePixelRatio ||\n",
       "\tthis.context.msBackingStorePixelRatio ||\n",
       "\tthis.context.oBackingStorePixelRatio ||\n",
       "\tthis.context.backingStorePixelRatio || 1;\n",
       "\n",
       "    mpl.ratio = (window.devicePixelRatio || 1) / backingStore;\n",
       "\n",
       "    var rubberband = $('<canvas/>');\n",
       "    rubberband.attr('style', \"position: absolute; left: 0; top: 0; z-index: 1;\")\n",
       "\n",
       "    var pass_mouse_events = true;\n",
       "\n",
       "    canvas_div.resizable({\n",
       "        start: function(event, ui) {\n",
       "            pass_mouse_events = false;\n",
       "        },\n",
       "        resize: function(event, ui) {\n",
       "            fig.request_resize(ui.size.width, ui.size.height);\n",
       "        },\n",
       "        stop: function(event, ui) {\n",
       "            pass_mouse_events = true;\n",
       "            fig.request_resize(ui.size.width, ui.size.height);\n",
       "        },\n",
       "    });\n",
       "\n",
       "    function mouse_event_fn(event) {\n",
       "        if (pass_mouse_events)\n",
       "            return fig.mouse_event(event, event['data']);\n",
       "    }\n",
       "\n",
       "    rubberband.mousedown('button_press', mouse_event_fn);\n",
       "    rubberband.mouseup('button_release', mouse_event_fn);\n",
       "    // Throttle sequential mouse events to 1 every 20ms.\n",
       "    rubberband.mousemove('motion_notify', mouse_event_fn);\n",
       "\n",
       "    rubberband.mouseenter('figure_enter', mouse_event_fn);\n",
       "    rubberband.mouseleave('figure_leave', mouse_event_fn);\n",
       "\n",
       "    canvas_div.on(\"wheel\", function (event) {\n",
       "        event = event.originalEvent;\n",
       "        event['data'] = 'scroll'\n",
       "        if (event.deltaY < 0) {\n",
       "            event.step = 1;\n",
       "        } else {\n",
       "            event.step = -1;\n",
       "        }\n",
       "        mouse_event_fn(event);\n",
       "    });\n",
       "\n",
       "    canvas_div.append(canvas);\n",
       "    canvas_div.append(rubberband);\n",
       "\n",
       "    this.rubberband = rubberband;\n",
       "    this.rubberband_canvas = rubberband[0];\n",
       "    this.rubberband_context = rubberband[0].getContext(\"2d\");\n",
       "    this.rubberband_context.strokeStyle = \"#000000\";\n",
       "\n",
       "    this._resize_canvas = function(width, height) {\n",
       "        // Keep the size of the canvas, canvas container, and rubber band\n",
       "        // canvas in synch.\n",
       "        canvas_div.css('width', width)\n",
       "        canvas_div.css('height', height)\n",
       "\n",
       "        canvas.attr('width', width * mpl.ratio);\n",
       "        canvas.attr('height', height * mpl.ratio);\n",
       "        canvas.attr('style', 'width: ' + width + 'px; height: ' + height + 'px;');\n",
       "\n",
       "        rubberband.attr('width', width);\n",
       "        rubberband.attr('height', height);\n",
       "    }\n",
       "\n",
       "    // Set the figure to an initial 600x600px, this will subsequently be updated\n",
       "    // upon first draw.\n",
       "    this._resize_canvas(600, 600);\n",
       "\n",
       "    // Disable right mouse context menu.\n",
       "    $(this.rubberband_canvas).bind(\"contextmenu\",function(e){\n",
       "        return false;\n",
       "    });\n",
       "\n",
       "    function set_focus () {\n",
       "        canvas.focus();\n",
       "        canvas_div.focus();\n",
       "    }\n",
       "\n",
       "    window.setTimeout(set_focus, 100);\n",
       "}\n",
       "\n",
       "mpl.figure.prototype._init_toolbar = function() {\n",
       "    var fig = this;\n",
       "\n",
       "    var nav_element = $('<div/>')\n",
       "    nav_element.attr('style', 'width: 100%');\n",
       "    this.root.append(nav_element);\n",
       "\n",
       "    // Define a callback function for later on.\n",
       "    function toolbar_event(event) {\n",
       "        return fig.toolbar_button_onclick(event['data']);\n",
       "    }\n",
       "    function toolbar_mouse_event(event) {\n",
       "        return fig.toolbar_button_onmouseover(event['data']);\n",
       "    }\n",
       "\n",
       "    for(var toolbar_ind in mpl.toolbar_items) {\n",
       "        var name = mpl.toolbar_items[toolbar_ind][0];\n",
       "        var tooltip = mpl.toolbar_items[toolbar_ind][1];\n",
       "        var image = mpl.toolbar_items[toolbar_ind][2];\n",
       "        var method_name = mpl.toolbar_items[toolbar_ind][3];\n",
       "\n",
       "        if (!name) {\n",
       "            // put a spacer in here.\n",
       "            continue;\n",
       "        }\n",
       "        var button = $('<button/>');\n",
       "        button.addClass('ui-button ui-widget ui-state-default ui-corner-all ' +\n",
       "                        'ui-button-icon-only');\n",
       "        button.attr('role', 'button');\n",
       "        button.attr('aria-disabled', 'false');\n",
       "        button.click(method_name, toolbar_event);\n",
       "        button.mouseover(tooltip, toolbar_mouse_event);\n",
       "\n",
       "        var icon_img = $('<span/>');\n",
       "        icon_img.addClass('ui-button-icon-primary ui-icon');\n",
       "        icon_img.addClass(image);\n",
       "        icon_img.addClass('ui-corner-all');\n",
       "\n",
       "        var tooltip_span = $('<span/>');\n",
       "        tooltip_span.addClass('ui-button-text');\n",
       "        tooltip_span.html(tooltip);\n",
       "\n",
       "        button.append(icon_img);\n",
       "        button.append(tooltip_span);\n",
       "\n",
       "        nav_element.append(button);\n",
       "    }\n",
       "\n",
       "    var fmt_picker_span = $('<span/>');\n",
       "\n",
       "    var fmt_picker = $('<select/>');\n",
       "    fmt_picker.addClass('mpl-toolbar-option ui-widget ui-widget-content');\n",
       "    fmt_picker_span.append(fmt_picker);\n",
       "    nav_element.append(fmt_picker_span);\n",
       "    this.format_dropdown = fmt_picker[0];\n",
       "\n",
       "    for (var ind in mpl.extensions) {\n",
       "        var fmt = mpl.extensions[ind];\n",
       "        var option = $(\n",
       "            '<option/>', {selected: fmt === mpl.default_extension}).html(fmt);\n",
       "        fmt_picker.append(option)\n",
       "    }\n",
       "\n",
       "    // Add hover states to the ui-buttons\n",
       "    $( \".ui-button\" ).hover(\n",
       "        function() { $(this).addClass(\"ui-state-hover\");},\n",
       "        function() { $(this).removeClass(\"ui-state-hover\");}\n",
       "    );\n",
       "\n",
       "    var status_bar = $('<span class=\"mpl-message\"/>');\n",
       "    nav_element.append(status_bar);\n",
       "    this.message = status_bar[0];\n",
       "}\n",
       "\n",
       "mpl.figure.prototype.request_resize = function(x_pixels, y_pixels) {\n",
       "    // Request matplotlib to resize the figure. Matplotlib will then trigger a resize in the client,\n",
       "    // which will in turn request a refresh of the image.\n",
       "    this.send_message('resize', {'width': x_pixels, 'height': y_pixels});\n",
       "}\n",
       "\n",
       "mpl.figure.prototype.send_message = function(type, properties) {\n",
       "    properties['type'] = type;\n",
       "    properties['figure_id'] = this.id;\n",
       "    this.ws.send(JSON.stringify(properties));\n",
       "}\n",
       "\n",
       "mpl.figure.prototype.send_draw_message = function() {\n",
       "    if (!this.waiting) {\n",
       "        this.waiting = true;\n",
       "        this.ws.send(JSON.stringify({type: \"draw\", figure_id: this.id}));\n",
       "    }\n",
       "}\n",
       "\n",
       "\n",
       "mpl.figure.prototype.handle_save = function(fig, msg) {\n",
       "    var format_dropdown = fig.format_dropdown;\n",
       "    var format = format_dropdown.options[format_dropdown.selectedIndex].value;\n",
       "    fig.ondownload(fig, format);\n",
       "}\n",
       "\n",
       "\n",
       "mpl.figure.prototype.handle_resize = function(fig, msg) {\n",
       "    var size = msg['size'];\n",
       "    if (size[0] != fig.canvas.width || size[1] != fig.canvas.height) {\n",
       "        fig._resize_canvas(size[0], size[1]);\n",
       "        fig.send_message(\"refresh\", {});\n",
       "    };\n",
       "}\n",
       "\n",
       "mpl.figure.prototype.handle_rubberband = function(fig, msg) {\n",
       "    var x0 = msg['x0'] / mpl.ratio;\n",
       "    var y0 = (fig.canvas.height - msg['y0']) / mpl.ratio;\n",
       "    var x1 = msg['x1'] / mpl.ratio;\n",
       "    var y1 = (fig.canvas.height - msg['y1']) / mpl.ratio;\n",
       "    x0 = Math.floor(x0) + 0.5;\n",
       "    y0 = Math.floor(y0) + 0.5;\n",
       "    x1 = Math.floor(x1) + 0.5;\n",
       "    y1 = Math.floor(y1) + 0.5;\n",
       "    var min_x = Math.min(x0, x1);\n",
       "    var min_y = Math.min(y0, y1);\n",
       "    var width = Math.abs(x1 - x0);\n",
       "    var height = Math.abs(y1 - y0);\n",
       "\n",
       "    fig.rubberband_context.clearRect(\n",
       "        0, 0, fig.canvas.width, fig.canvas.height);\n",
       "\n",
       "    fig.rubberband_context.strokeRect(min_x, min_y, width, height);\n",
       "}\n",
       "\n",
       "mpl.figure.prototype.handle_figure_label = function(fig, msg) {\n",
       "    // Updates the figure title.\n",
       "    fig.header.textContent = msg['label'];\n",
       "}\n",
       "\n",
       "mpl.figure.prototype.handle_cursor = function(fig, msg) {\n",
       "    var cursor = msg['cursor'];\n",
       "    switch(cursor)\n",
       "    {\n",
       "    case 0:\n",
       "        cursor = 'pointer';\n",
       "        break;\n",
       "    case 1:\n",
       "        cursor = 'default';\n",
       "        break;\n",
       "    case 2:\n",
       "        cursor = 'crosshair';\n",
       "        break;\n",
       "    case 3:\n",
       "        cursor = 'move';\n",
       "        break;\n",
       "    }\n",
       "    fig.rubberband_canvas.style.cursor = cursor;\n",
       "}\n",
       "\n",
       "mpl.figure.prototype.handle_message = function(fig, msg) {\n",
       "    fig.message.textContent = msg['message'];\n",
       "}\n",
       "\n",
       "mpl.figure.prototype.handle_draw = function(fig, msg) {\n",
       "    // Request the server to send over a new figure.\n",
       "    fig.send_draw_message();\n",
       "}\n",
       "\n",
       "mpl.figure.prototype.handle_image_mode = function(fig, msg) {\n",
       "    fig.image_mode = msg['mode'];\n",
       "}\n",
       "\n",
       "mpl.figure.prototype.updated_canvas_event = function() {\n",
       "    // Called whenever the canvas gets updated.\n",
       "    this.send_message(\"ack\", {});\n",
       "}\n",
       "\n",
       "// A function to construct a web socket function for onmessage handling.\n",
       "// Called in the figure constructor.\n",
       "mpl.figure.prototype._make_on_message_function = function(fig) {\n",
       "    return function socket_on_message(evt) {\n",
       "        if (evt.data instanceof Blob) {\n",
       "            /* FIXME: We get \"Resource interpreted as Image but\n",
       "             * transferred with MIME type text/plain:\" errors on\n",
       "             * Chrome.  But how to set the MIME type?  It doesn't seem\n",
       "             * to be part of the websocket stream */\n",
       "            evt.data.type = \"image/png\";\n",
       "\n",
       "            /* Free the memory for the previous frames */\n",
       "            if (fig.imageObj.src) {\n",
       "                (window.URL || window.webkitURL).revokeObjectURL(\n",
       "                    fig.imageObj.src);\n",
       "            }\n",
       "\n",
       "            fig.imageObj.src = (window.URL || window.webkitURL).createObjectURL(\n",
       "                evt.data);\n",
       "            fig.updated_canvas_event();\n",
       "            fig.waiting = false;\n",
       "            return;\n",
       "        }\n",
       "        else if (typeof evt.data === 'string' && evt.data.slice(0, 21) == \"data:image/png;base64\") {\n",
       "            fig.imageObj.src = evt.data;\n",
       "            fig.updated_canvas_event();\n",
       "            fig.waiting = false;\n",
       "            return;\n",
       "        }\n",
       "\n",
       "        var msg = JSON.parse(evt.data);\n",
       "        var msg_type = msg['type'];\n",
       "\n",
       "        // Call the  \"handle_{type}\" callback, which takes\n",
       "        // the figure and JSON message as its only arguments.\n",
       "        try {\n",
       "            var callback = fig[\"handle_\" + msg_type];\n",
       "        } catch (e) {\n",
       "            console.log(\"No handler for the '\" + msg_type + \"' message type: \", msg);\n",
       "            return;\n",
       "        }\n",
       "\n",
       "        if (callback) {\n",
       "            try {\n",
       "                // console.log(\"Handling '\" + msg_type + \"' message: \", msg);\n",
       "                callback(fig, msg);\n",
       "            } catch (e) {\n",
       "                console.log(\"Exception inside the 'handler_\" + msg_type + \"' callback:\", e, e.stack, msg);\n",
       "            }\n",
       "        }\n",
       "    };\n",
       "}\n",
       "\n",
       "// from http://stackoverflow.com/questions/1114465/getting-mouse-location-in-canvas\n",
       "mpl.findpos = function(e) {\n",
       "    //this section is from http://www.quirksmode.org/js/events_properties.html\n",
       "    var targ;\n",
       "    if (!e)\n",
       "        e = window.event;\n",
       "    if (e.target)\n",
       "        targ = e.target;\n",
       "    else if (e.srcElement)\n",
       "        targ = e.srcElement;\n",
       "    if (targ.nodeType == 3) // defeat Safari bug\n",
       "        targ = targ.parentNode;\n",
       "\n",
       "    // jQuery normalizes the pageX and pageY\n",
       "    // pageX,Y are the mouse positions relative to the document\n",
       "    // offset() returns the position of the element relative to the document\n",
       "    var x = e.pageX - $(targ).offset().left;\n",
       "    var y = e.pageY - $(targ).offset().top;\n",
       "\n",
       "    return {\"x\": x, \"y\": y};\n",
       "};\n",
       "\n",
       "/*\n",
       " * return a copy of an object with only non-object keys\n",
       " * we need this to avoid circular references\n",
       " * http://stackoverflow.com/a/24161582/3208463\n",
       " */\n",
       "function simpleKeys (original) {\n",
       "  return Object.keys(original).reduce(function (obj, key) {\n",
       "    if (typeof original[key] !== 'object')\n",
       "        obj[key] = original[key]\n",
       "    return obj;\n",
       "  }, {});\n",
       "}\n",
       "\n",
       "mpl.figure.prototype.mouse_event = function(event, name) {\n",
       "    var canvas_pos = mpl.findpos(event)\n",
       "\n",
       "    if (name === 'button_press')\n",
       "    {\n",
       "        this.canvas.focus();\n",
       "        this.canvas_div.focus();\n",
       "    }\n",
       "\n",
       "    var x = canvas_pos.x * mpl.ratio;\n",
       "    var y = canvas_pos.y * mpl.ratio;\n",
       "\n",
       "    this.send_message(name, {x: x, y: y, button: event.button,\n",
       "                             step: event.step,\n",
       "                             guiEvent: simpleKeys(event)});\n",
       "\n",
       "    /* This prevents the web browser from automatically changing to\n",
       "     * the text insertion cursor when the button is pressed.  We want\n",
       "     * to control all of the cursor setting manually through the\n",
       "     * 'cursor' event from matplotlib */\n",
       "    event.preventDefault();\n",
       "    return false;\n",
       "}\n",
       "\n",
       "mpl.figure.prototype._key_event_extra = function(event, name) {\n",
       "    // Handle any extra behaviour associated with a key event\n",
       "}\n",
       "\n",
       "mpl.figure.prototype.key_event = function(event, name) {\n",
       "\n",
       "    // Prevent repeat events\n",
       "    if (name == 'key_press')\n",
       "    {\n",
       "        if (event.which === this._key)\n",
       "            return;\n",
       "        else\n",
       "            this._key = event.which;\n",
       "    }\n",
       "    if (name == 'key_release')\n",
       "        this._key = null;\n",
       "\n",
       "    var value = '';\n",
       "    if (event.ctrlKey && event.which != 17)\n",
       "        value += \"ctrl+\";\n",
       "    if (event.altKey && event.which != 18)\n",
       "        value += \"alt+\";\n",
       "    if (event.shiftKey && event.which != 16)\n",
       "        value += \"shift+\";\n",
       "\n",
       "    value += 'k';\n",
       "    value += event.which.toString();\n",
       "\n",
       "    this._key_event_extra(event, name);\n",
       "\n",
       "    this.send_message(name, {key: value,\n",
       "                             guiEvent: simpleKeys(event)});\n",
       "    return false;\n",
       "}\n",
       "\n",
       "mpl.figure.prototype.toolbar_button_onclick = function(name) {\n",
       "    if (name == 'download') {\n",
       "        this.handle_save(this, null);\n",
       "    } else {\n",
       "        this.send_message(\"toolbar_button\", {name: name});\n",
       "    }\n",
       "};\n",
       "\n",
       "mpl.figure.prototype.toolbar_button_onmouseover = function(tooltip) {\n",
       "    this.message.textContent = tooltip;\n",
       "};\n",
       "mpl.toolbar_items = [[\"Home\", \"Reset original view\", \"fa fa-home icon-home\", \"home\"], [\"Back\", \"Back to  previous view\", \"fa fa-arrow-left icon-arrow-left\", \"back\"], [\"Forward\", \"Forward to next view\", \"fa fa-arrow-right icon-arrow-right\", \"forward\"], [\"\", \"\", \"\", \"\"], [\"Pan\", \"Pan axes with left mouse, zoom with right\", \"fa fa-arrows icon-move\", \"pan\"], [\"Zoom\", \"Zoom to rectangle\", \"fa fa-square-o icon-check-empty\", \"zoom\"], [\"\", \"\", \"\", \"\"], [\"Download\", \"Download plot\", \"fa fa-floppy-o icon-save\", \"download\"]];\n",
       "\n",
       "mpl.extensions = [\"eps\", \"jpeg\", \"pdf\", \"png\", \"ps\", \"raw\", \"svg\", \"tif\"];\n",
       "\n",
       "mpl.default_extension = \"png\";var comm_websocket_adapter = function(comm) {\n",
       "    // Create a \"websocket\"-like object which calls the given IPython comm\n",
       "    // object with the appropriate methods. Currently this is a non binary\n",
       "    // socket, so there is still some room for performance tuning.\n",
       "    var ws = {};\n",
       "\n",
       "    ws.close = function() {\n",
       "        comm.close()\n",
       "    };\n",
       "    ws.send = function(m) {\n",
       "        //console.log('sending', m);\n",
       "        comm.send(m);\n",
       "    };\n",
       "    // Register the callback with on_msg.\n",
       "    comm.on_msg(function(msg) {\n",
       "        //console.log('receiving', msg['content']['data'], msg);\n",
       "        // Pass the mpl event to the overriden (by mpl) onmessage function.\n",
       "        ws.onmessage(msg['content']['data'])\n",
       "    });\n",
       "    return ws;\n",
       "}\n",
       "\n",
       "mpl.mpl_figure_comm = function(comm, msg) {\n",
       "    // This is the function which gets called when the mpl process\n",
       "    // starts-up an IPython Comm through the \"matplotlib\" channel.\n",
       "\n",
       "    var id = msg.content.data.id;\n",
       "    // Get hold of the div created by the display call when the Comm\n",
       "    // socket was opened in Python.\n",
       "    var element = $(\"#\" + id);\n",
       "    var ws_proxy = comm_websocket_adapter(comm)\n",
       "\n",
       "    function ondownload(figure, format) {\n",
       "        window.open(figure.imageObj.src);\n",
       "    }\n",
       "\n",
       "    var fig = new mpl.figure(id, ws_proxy,\n",
       "                           ondownload,\n",
       "                           element.get(0));\n",
       "\n",
       "    // Call onopen now - mpl needs it, as it is assuming we've passed it a real\n",
       "    // web socket which is closed, not our websocket->open comm proxy.\n",
       "    ws_proxy.onopen();\n",
       "\n",
       "    fig.parent_element = element.get(0);\n",
       "    fig.cell_info = mpl.find_output_cell(\"<div id='\" + id + \"'></div>\");\n",
       "    if (!fig.cell_info) {\n",
       "        console.error(\"Failed to find cell for figure\", id, fig);\n",
       "        return;\n",
       "    }\n",
       "\n",
       "    var output_index = fig.cell_info[2]\n",
       "    var cell = fig.cell_info[0];\n",
       "\n",
       "};\n",
       "\n",
       "mpl.figure.prototype.handle_close = function(fig, msg) {\n",
       "    var width = fig.canvas.width/mpl.ratio\n",
       "    fig.root.unbind('remove')\n",
       "\n",
       "    // Update the output cell to use the data from the current canvas.\n",
       "    fig.push_to_output();\n",
       "    var dataURL = fig.canvas.toDataURL();\n",
       "    // Re-enable the keyboard manager in IPython - without this line, in FF,\n",
       "    // the notebook keyboard shortcuts fail.\n",
       "    IPython.keyboard_manager.enable()\n",
       "    $(fig.parent_element).html('<img src=\"' + dataURL + '\" width=\"' + width + '\">');\n",
       "    fig.close_ws(fig, msg);\n",
       "}\n",
       "\n",
       "mpl.figure.prototype.close_ws = function(fig, msg){\n",
       "    fig.send_message('closing', msg);\n",
       "    // fig.ws.close()\n",
       "}\n",
       "\n",
       "mpl.figure.prototype.push_to_output = function(remove_interactive) {\n",
       "    // Turn the data on the canvas into data in the output cell.\n",
       "    var width = this.canvas.width/mpl.ratio\n",
       "    var dataURL = this.canvas.toDataURL();\n",
       "    this.cell_info[1]['text/html'] = '<img src=\"' + dataURL + '\" width=\"' + width + '\">';\n",
       "}\n",
       "\n",
       "mpl.figure.prototype.updated_canvas_event = function() {\n",
       "    // Tell IPython that the notebook contents must change.\n",
       "    IPython.notebook.set_dirty(true);\n",
       "    this.send_message(\"ack\", {});\n",
       "    var fig = this;\n",
       "    // Wait a second, then push the new image to the DOM so\n",
       "    // that it is saved nicely (might be nice to debounce this).\n",
       "    setTimeout(function () { fig.push_to_output() }, 1000);\n",
       "}\n",
       "\n",
       "mpl.figure.prototype._init_toolbar = function() {\n",
       "    var fig = this;\n",
       "\n",
       "    var nav_element = $('<div/>')\n",
       "    nav_element.attr('style', 'width: 100%');\n",
       "    this.root.append(nav_element);\n",
       "\n",
       "    // Define a callback function for later on.\n",
       "    function toolbar_event(event) {\n",
       "        return fig.toolbar_button_onclick(event['data']);\n",
       "    }\n",
       "    function toolbar_mouse_event(event) {\n",
       "        return fig.toolbar_button_onmouseover(event['data']);\n",
       "    }\n",
       "\n",
       "    for(var toolbar_ind in mpl.toolbar_items){\n",
       "        var name = mpl.toolbar_items[toolbar_ind][0];\n",
       "        var tooltip = mpl.toolbar_items[toolbar_ind][1];\n",
       "        var image = mpl.toolbar_items[toolbar_ind][2];\n",
       "        var method_name = mpl.toolbar_items[toolbar_ind][3];\n",
       "\n",
       "        if (!name) { continue; };\n",
       "\n",
       "        var button = $('<button class=\"btn btn-default\" href=\"#\" title=\"' + name + '\"><i class=\"fa ' + image + ' fa-lg\"></i></button>');\n",
       "        button.click(method_name, toolbar_event);\n",
       "        button.mouseover(tooltip, toolbar_mouse_event);\n",
       "        nav_element.append(button);\n",
       "    }\n",
       "\n",
       "    // Add the status bar.\n",
       "    var status_bar = $('<span class=\"mpl-message\" style=\"text-align:right; float: right;\"/>');\n",
       "    nav_element.append(status_bar);\n",
       "    this.message = status_bar[0];\n",
       "\n",
       "    // Add the close button to the window.\n",
       "    var buttongrp = $('<div class=\"btn-group inline pull-right\"></div>');\n",
       "    var button = $('<button class=\"btn btn-mini btn-primary\" href=\"#\" title=\"Stop Interaction\"><i class=\"fa fa-power-off icon-remove icon-large\"></i></button>');\n",
       "    button.click(function (evt) { fig.handle_close(fig, {}); } );\n",
       "    button.mouseover('Stop Interaction', toolbar_mouse_event);\n",
       "    buttongrp.append(button);\n",
       "    var titlebar = this.root.find($('.ui-dialog-titlebar'));\n",
       "    titlebar.prepend(buttongrp);\n",
       "}\n",
       "\n",
       "mpl.figure.prototype._root_extra_style = function(el){\n",
       "    var fig = this\n",
       "    el.on(\"remove\", function(){\n",
       "\tfig.close_ws(fig, {});\n",
       "    });\n",
       "}\n",
       "\n",
       "mpl.figure.prototype._canvas_extra_style = function(el){\n",
       "    // this is important to make the div 'focusable\n",
       "    el.attr('tabindex', 0)\n",
       "    // reach out to IPython and tell the keyboard manager to turn it's self\n",
       "    // off when our div gets focus\n",
       "\n",
       "    // location in version 3\n",
       "    if (IPython.notebook.keyboard_manager) {\n",
       "        IPython.notebook.keyboard_manager.register_events(el);\n",
       "    }\n",
       "    else {\n",
       "        // location in version 2\n",
       "        IPython.keyboard_manager.register_events(el);\n",
       "    }\n",
       "\n",
       "}\n",
       "\n",
       "mpl.figure.prototype._key_event_extra = function(event, name) {\n",
       "    var manager = IPython.notebook.keyboard_manager;\n",
       "    if (!manager)\n",
       "        manager = IPython.keyboard_manager;\n",
       "\n",
       "    // Check for shift+enter\n",
       "    if (event.shiftKey && event.which == 13) {\n",
       "        this.canvas_div.blur();\n",
       "        event.shiftKey = false;\n",
       "        // Send a \"J\" for go to next cell\n",
       "        event.which = 74;\n",
       "        event.keyCode = 74;\n",
       "        manager.command_mode();\n",
       "        manager.handle_keydown(event);\n",
       "    }\n",
       "}\n",
       "\n",
       "mpl.figure.prototype.handle_save = function(fig, msg) {\n",
       "    fig.ondownload(fig, null);\n",
       "}\n",
       "\n",
       "\n",
       "mpl.find_output_cell = function(html_output) {\n",
       "    // Return the cell and output element which can be found *uniquely* in the notebook.\n",
       "    // Note - this is a bit hacky, but it is done because the \"notebook_saving.Notebook\"\n",
       "    // IPython event is triggered only after the cells have been serialised, which for\n",
       "    // our purposes (turning an active figure into a static one), is too late.\n",
       "    var cells = IPython.notebook.get_cells();\n",
       "    var ncells = cells.length;\n",
       "    for (var i=0; i<ncells; i++) {\n",
       "        var cell = cells[i];\n",
       "        if (cell.cell_type === 'code'){\n",
       "            for (var j=0; j<cell.output_area.outputs.length; j++) {\n",
       "                var data = cell.output_area.outputs[j];\n",
       "                if (data.data) {\n",
       "                    // IPython >= 3 moved mimebundle to data attribute of output\n",
       "                    data = data.data;\n",
       "                }\n",
       "                if (data['text/html'] == html_output) {\n",
       "                    return [cell, data, j];\n",
       "                }\n",
       "            }\n",
       "        }\n",
       "    }\n",
       "}\n",
       "\n",
       "// Register the function which deals with the matplotlib target/channel.\n",
       "// The kernel may be null if the page has been refreshed.\n",
       "if (IPython.notebook.kernel != null) {\n",
       "    IPython.notebook.kernel.comm_manager.register_target('matplotlib', mpl.mpl_figure_comm);\n",
       "}\n"
      ],
      "text/plain": [
       "<IPython.core.display.Javascript object>"
      ]
     },
     "metadata": {},
     "output_type": "display_data"
    },
    {
     "data": {
      "text/html": [
       "<img src=\"data:image/png;base64,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\" width=\"639.4710340596957\">"
      ],
      "text/plain": [
       "<IPython.core.display.HTML object>"
      ]
     },
     "metadata": {},
     "output_type": "display_data"
    },
    {
     "data": {
      "text/plain": [
       "[<matplotlib.lines.Line2D at 0x28cb928e4e0>,\n",
       " <matplotlib.lines.Line2D at 0x28ccda2a978>,\n",
       " <matplotlib.lines.Line2D at 0x28ccda2aa90>,\n",
       " <matplotlib.lines.Line2D at 0x28ccda1c160>,\n",
       " <matplotlib.lines.Line2D at 0x28ccda1c2b0>,\n",
       " <matplotlib.lines.Line2D at 0x28ccda1c9b0>]"
      ]
     },
     "execution_count": 78,
     "metadata": {},
     "output_type": "execute_result"
    }
   ],
   "source": [
    "import matplotlib.pyplot as plt\n",
    "%matplotlib notebook\n",
    "plt.plot(simple_feature_matrix,output,'k.',\n",
    "        simple_feature_matrix,predict_output(simple_feature_matrix, simple_weights_0_penalty),'b-',\n",
    "        simple_feature_matrix,predict_output(simple_feature_matrix, simple_weights_high_penalty),'r-')"
   ]
  },
  {
   "cell_type": "markdown",
   "metadata": {
    "ExecuteTime": {
     "end_time": "2018-03-24T14:15:54.382592Z",
     "start_time": "2018-03-24T14:15:54.379115Z"
    }
   },
   "source": [
    "# compute RSS on test data"
   ]
  },
  {
   "cell_type": "markdown",
   "metadata": {},
   "source": [
    "## Q4: What are the RSS on the test data for each of the set of weights above (initial, no regularization, high regularization)?"
   ]
  },
  {
   "cell_type": "code",
   "execution_count": 83,
   "metadata": {
    "ExecuteTime": {
     "end_time": "2018-03-24T14:19:42.392793Z",
     "start_time": "2018-03-24T14:19:42.387280Z"
    }
   },
   "outputs": [
    {
     "name": "stdout",
     "output_type": "stream",
     "text": [
      "1.78e+15\n"
     ]
    }
   ],
   "source": [
    "# weights all zero\n",
    "\n",
    "initial_pred=predict_output(simple_test_feature_matrix, inital_weights)\n",
    "initial_rss = ((test_output - initial_pred)**2).sum()\n",
    "print('{:.2e}'.format(initial_rss))"
   ]
  },
  {
   "cell_type": "code",
   "execution_count": 84,
   "metadata": {
    "ExecuteTime": {
     "end_time": "2018-03-24T14:21:50.893183Z",
     "start_time": "2018-03-24T14:21:50.880679Z"
    }
   },
   "outputs": [
    {
     "name": "stdout",
     "output_type": "stream",
     "text": [
      "2.76e+14\n"
     ]
    }
   ],
   "source": [
    "# no l2 weights\n",
    "\n",
    "L2_0_pred= predict_output(simple_test_feature_matrix, simple_weights_0_penalty)\n",
    "L2_0_RSS = ((test_output - L2_0_pred)**2).sum()\n",
    "print('{:.2e}'.format(L2_0_RSS))"
   ]
  },
  {
   "cell_type": "code",
   "execution_count": 86,
   "metadata": {
    "ExecuteTime": {
     "end_time": "2018-03-24T14:22:39.375298Z",
     "start_time": "2018-03-24T14:22:39.363768Z"
    }
   },
   "outputs": [
    {
     "name": "stdout",
     "output_type": "stream",
     "text": [
      "6.95e+14\n"
     ]
    }
   ],
   "source": [
    "# high L2\n",
    "\n",
    "L2_high_pred= predict_output(simple_test_feature_matrix, simple_weights_high_penalty)\n",
    "L2_high_RSS = ((test_output - L2_high_pred)**2).sum()\n",
    "print('{:.2e}'.format(L2_high_RSS))"
   ]
  },
  {
   "cell_type": "markdown",
   "metadata": {},
   "source": [
    "# Ridge regression on 2 features"
   ]
  },
  {
   "cell_type": "code",
   "execution_count": 90,
   "metadata": {
    "ExecuteTime": {
     "end_time": "2018-03-24T14:32:27.715760Z",
     "start_time": "2018-03-24T14:32:27.708241Z"
    }
   },
   "outputs": [],
   "source": [
    "model_features = ['sqft_living', 'sqft_living15']\n",
    "my_output = 'price'\n",
    "(feature_matrix, output) = get_data(train, model_features, my_output)\n",
    "(test_feature_matrix, test_output) = get_data(test, model_features, my_output)"
   ]
  },
  {
   "cell_type": "markdown",
   "metadata": {},
   "source": [
    "## Q5, Q6  What is the value of the coefficient for ‘sqft_living’ that you learned with no regularization, rounded to 1 decimal place? What about the one with high regularization?"
   ]
  },
  {
   "cell_type": "markdown",
   "metadata": {},
   "source": [
    "## No L2"
   ]
  },
  {
   "cell_type": "code",
   "execution_count": 102,
   "metadata": {
    "ExecuteTime": {
     "end_time": "2018-03-24T14:40:55.853934Z",
     "start_time": "2018-03-24T14:40:55.849925Z"
    }
   },
   "outputs": [],
   "source": [
    "step_size=1e-12\n",
    "max_iterations = 1000\n",
    "initial_weights = np.array([0.,0.,0.])"
   ]
  },
  {
   "cell_type": "code",
   "execution_count": 103,
   "metadata": {
    "ExecuteTime": {
     "end_time": "2018-03-24T14:41:30.817835Z",
     "start_time": "2018-03-24T14:40:56.067947Z"
    }
   },
   "outputs": [],
   "source": [
    "multiple_weights_0_penalty=ridge_regression_gradient_descent(feature_matrix,\n",
    "                                                          output, initial_weights,\n",
    "                                                          step_size, 0.0, max_iterations)"
   ]
  },
  {
   "cell_type": "code",
   "execution_count": 104,
   "metadata": {
    "ExecuteTime": {
     "end_time": "2018-03-24T14:41:31.017900Z",
     "start_time": "2018-03-24T14:41:31.010348Z"
    }
   },
   "outputs": [
    {
     "data": {
      "text/plain": [
       "array([-0.35743482903403373, 243.05416982095642, 22.414814971402635],\n",
       "      dtype=object)"
      ]
     },
     "execution_count": 104,
     "metadata": {},
     "output_type": "execute_result"
    }
   ],
   "source": [
    "multiple_weights_0_penalty"
   ]
  },
  {
   "cell_type": "markdown",
   "metadata": {},
   "source": [
    "## HIgh L2"
   ]
  },
  {
   "cell_type": "code",
   "execution_count": 110,
   "metadata": {
    "ExecuteTime": {
     "end_time": "2018-03-24T14:47:36.734650Z",
     "start_time": "2018-03-24T14:47:03.588574Z"
    }
   },
   "outputs": [],
   "source": [
    "multiple_weights_high_penalty=ridge_regression_gradient_descent(feature_matrix,\n",
    "                                                          output, initial_weights,\n",
    "                                                          step_size, 1e11, max_iterations)"
   ]
  },
  {
   "cell_type": "code",
   "execution_count": 111,
   "metadata": {
    "ExecuteTime": {
     "end_time": "2018-03-24T14:47:36.916413Z",
     "start_time": "2018-03-24T14:47:36.911898Z"
    }
   },
   "outputs": [
    {
     "data": {
      "text/plain": [
       "array([6.74296578942628, 91.48927364712398, 78.4365876633503],\n",
       "      dtype=object)"
      ]
     },
     "execution_count": 111,
     "metadata": {},
     "output_type": "execute_result"
    }
   ],
   "source": [
    "multiple_weights_high_penalty"
   ]
  },
  {
   "cell_type": "markdown",
   "metadata": {},
   "source": [
    "# Compute RSS "
   ]
  },
  {
   "cell_type": "markdown",
   "metadata": {},
   "source": [
    "## Q6  What are the RSS on the test data for each of the set of weights above  no regularization)?"
   ]
  },
  {
   "cell_type": "code",
   "execution_count": 108,
   "metadata": {
    "ExecuteTime": {
     "end_time": "2018-03-24T14:44:49.447429Z",
     "start_time": "2018-03-24T14:44:49.420357Z"
    }
   },
   "outputs": [
    {
     "name": "stdout",
     "output_type": "stream",
     "text": [
      "2.74e+14\n"
     ]
    }
   ],
   "source": [
    "mult_L2_0_pred=predict_output(test_feature_matrix, multiple_weights_0_penalty)\n",
    "mult_L2_0_rss = ((test_output - mult_L2_0_pred)**2).sum()\n",
    "print('{:.2e}'.format(mult_L2_0_rss))"
   ]
  },
  {
   "cell_type": "code",
   "execution_count": 113,
   "metadata": {
    "ExecuteTime": {
     "end_time": "2018-03-24T14:48:03.317769Z",
     "start_time": "2018-03-24T14:48:03.301727Z"
    }
   },
   "outputs": [
    {
     "name": "stdout",
     "output_type": "stream",
     "text": [
      "5.00e+14\n"
     ]
    }
   ],
   "source": [
    "mult_L2_high_pred=predict_output(test_feature_matrix, multiple_weights_high_penalty)\n",
    "mult_L2_high_rss = ((test_output - mult_L2_high_pred)**2).sum()\n",
    "print('{:.2e}'.format(mult_L2_high_rss))"
   ]
  },
  {
   "cell_type": "markdown",
   "metadata": {},
   "source": [
    "# predict house price for 1st house uwing no reg and hgh reg models"
   ]
  },
  {
   "cell_type": "code",
   "execution_count": 116,
   "metadata": {
    "ExecuteTime": {
     "end_time": "2018-03-24T14:50:39.425854Z",
     "start_time": "2018-03-24T14:50:39.411782Z"
    }
   },
   "outputs": [
    {
     "name": "stdout",
     "output_type": "stream",
     "text": [
      "prediction using NO regularization\n",
      "the predicted price for the house is: 387465.48\n",
      "the deviation from actual price is: -77465.48\n"
     ]
    }
   ],
   "source": [
    "print('prediction using NO regularization')\n",
    "print('the predicted price for the house is: {:.2f}'.format(mult_L2_0_pred[0]))\n",
    "print('the deviation from actual price is: {:.2f}'.format( test_output[0] - mult_L2_0_pred[0]))"
   ]
  },
  {
   "cell_type": "code",
   "execution_count": 117,
   "metadata": {
    "ExecuteTime": {
     "end_time": "2018-03-24T14:51:07.065458Z",
     "start_time": "2018-03-24T14:51:07.058400Z"
    }
   },
   "outputs": [
    {
     "name": "stdout",
     "output_type": "stream",
     "text": [
      "prediction using HIGH regularization\n",
      "the predicted price for the house is: 270453.53\n",
      "the deviation from actual price is: 39546.47\n"
     ]
    }
   ],
   "source": [
    "print('prediction using HIGH regularization')\n",
    "print('the predicted price for the house is: {:.2f}'.format(mult_L2_high_pred[0]))\n",
    "print('the deviation from actual price is: {:.2f}'.format( test_output[0] - mult_L2_high_pred[0]))"
   ]
  },
  {
   "cell_type": "code",
   "execution_count": null,
   "metadata": {},
   "outputs": [],
   "source": []
  }
 ],
 "metadata": {
  "kernelspec": {
   "display_name": "Python 3",
   "language": "python",
   "name": "python3"
  },
  "language_info": {
   "codemirror_mode": {
    "name": "ipython",
    "version": 3
   },
   "file_extension": ".py",
   "mimetype": "text/x-python",
   "name": "python",
   "nbconvert_exporter": "python",
   "pygments_lexer": "ipython3",
   "version": "3.6.3"
  },
  "toc": {
   "nav_menu": {},
   "number_sections": true,
   "sideBar": true,
   "skip_h1_title": false,
   "title_cell": "Table of Contents",
   "title_sidebar": "Contents",
   "toc_cell": false,
   "toc_position": {},
   "toc_section_display": true,
   "toc_window_display": false
  },
  "varInspector": {
   "cols": {
    "lenName": 16,
    "lenType": 16,
    "lenVar": 40
   },
   "kernels_config": {
    "python": {
     "delete_cmd_postfix": "",
     "delete_cmd_prefix": "del ",
     "library": "var_list.py",
     "varRefreshCmd": "print(var_dic_list())"
    },
    "r": {
     "delete_cmd_postfix": ") ",
     "delete_cmd_prefix": "rm(",
     "library": "var_list.r",
     "varRefreshCmd": "cat(var_dic_list()) "
    }
   },
   "types_to_exclude": [
    "module",
    "function",
    "builtin_function_or_method",
    "instance",
    "_Feature"
   ],
   "window_display": false
  }
 },
 "nbformat": 4,
 "nbformat_minor": 2
}
