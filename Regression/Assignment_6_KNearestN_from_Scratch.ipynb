{
 "cells": [
  {
   "cell_type": "markdown",
   "metadata": {},
   "source": [
    "In this notebook, you will implement k-nearest neighbors regression. You will:\n",
    "\n",
    "- Find the k-nearest neighbors of a given query input\n",
    "\n",
    "- Predict the output for the query input using the k-nearest neighbors\n",
    "- Choose the best value of k using a validation set"
   ]
  },
  {
   "cell_type": "code",
   "execution_count": 14,
   "metadata": {
    "ExecuteTime": {
     "end_time": "2018-03-31T13:42:50.031225Z",
     "start_time": "2018-03-31T13:42:50.008196Z"
    }
   },
   "outputs": [],
   "source": [
    "import pandas as pd\n",
    "import numpy as np"
   ]
  },
  {
   "cell_type": "code",
   "execution_count": 15,
   "metadata": {
    "ExecuteTime": {
     "end_time": "2018-03-31T13:42:50.072349Z",
     "start_time": "2018-03-31T13:42:50.034237Z"
    }
   },
   "outputs": [],
   "source": [
    "dtype_dict = {'bathrooms':float, 'waterfront':int, 'sqft_above':int, 'sqft_living15':float, 'grade':int, 'yr_renovated':int, 'price':float, 'bedrooms':float, 'zipcode':str, 'long':float, 'sqft_lot15':float, 'sqft_living':float, 'floors':float, 'condition':int, 'lat':float, 'date':str, 'sqft_basement':int, 'yr_built':int, 'id':str, 'sqft_lot':int, 'view':int}"
   ]
  },
  {
   "cell_type": "code",
   "execution_count": 16,
   "metadata": {
    "ExecuteTime": {
     "end_time": "2018-03-31T13:42:50.198784Z",
     "start_time": "2018-03-31T13:42:50.074340Z"
    }
   },
   "outputs": [],
   "source": [
    "sales=pd.read_csv('kc_house_data_small.csv',dtype=dtype_dict)\n",
    "train=pd.read_csv('kc_house_data_small_train.csv',dtype=dtype_dict)\n",
    "test=pd.read_csv('kc_house_data_small_test.csv',dtype=dtype_dict)\n",
    "valid=pd.read_csv('kc_house_data_validation.csv',dtype=dtype_dict)"
   ]
  },
  {
   "cell_type": "code",
   "execution_count": 17,
   "metadata": {
    "ExecuteTime": {
     "end_time": "2018-03-31T13:42:50.219921Z",
     "start_time": "2018-03-31T13:42:50.202684Z"
    }
   },
   "outputs": [],
   "source": [
    "def get_data(data_frame, features, output):\n",
    "    '''args: \n",
    "    data_frame= array, dataframe alike\n",
    "    features: list-like []\n",
    "    output: str'''\n",
    "    \n",
    "    data_frame[\"constant\"]=1\n",
    "    features= [\"constant\"] + features\n",
    "    \n",
    "    features_frame= data_frame[features]\n",
    "    feature_matrix= np.array(features_frame)\n",
    "    \n",
    "    output_array = np.array(data_frame[output])\n",
    "    return(feature_matrix, output_array)"
   ]
  },
  {
   "cell_type": "code",
   "execution_count": 18,
   "metadata": {
    "ExecuteTime": {
     "end_time": "2018-03-31T13:42:50.235770Z",
     "start_time": "2018-03-31T13:42:50.222735Z"
    }
   },
   "outputs": [],
   "source": [
    "def normalize_features(feature_matrix):\n",
    "    norms=np.linalg.norm(feature_matrix, axis=0)\n",
    "    X_normalized = feature_matrix/norms\n",
    "    return X_normalized, norms"
   ]
  },
  {
   "cell_type": "code",
   "execution_count": 19,
   "metadata": {
    "ExecuteTime": {
     "end_time": "2018-03-31T13:42:50.248824Z",
     "start_time": "2018-03-31T13:42:50.238778Z"
    }
   },
   "outputs": [],
   "source": [
    "def table_weights(features_list, weights):\n",
    "    featuress=list(features_list)\n",
    "\n",
    "    featuress.insert(0,'constant')\n",
    "    df=pd.DataFrame(data={'Features':featuress, 'Weights':weights})\n",
    "    return df"
   ]
  },
  {
   "cell_type": "code",
   "execution_count": 20,
   "metadata": {
    "ExecuteTime": {
     "end_time": "2018-03-31T13:42:50.262918Z",
     "start_time": "2018-03-31T13:42:50.250842Z"
    }
   },
   "outputs": [],
   "source": [
    "feature_list = ['bedrooms',  \n",
    "                'bathrooms',  \n",
    "                'sqft_living',  \n",
    "                'sqft_lot',  \n",
    "                'floors',\n",
    "                'waterfront',  \n",
    "                'view',  \n",
    "                'condition',  \n",
    "                'grade',  \n",
    "                'sqft_above',  \n",
    "                'sqft_basement',\n",
    "                'yr_built',  \n",
    "                'yr_renovated',  \n",
    "                'lat',  \n",
    "                'long',  \n",
    "                'sqft_living15',  \n",
    "                'sqft_lot15']\n",
    "target = 'price'"
   ]
  },
  {
   "cell_type": "code",
   "execution_count": 21,
   "metadata": {
    "ExecuteTime": {
     "end_time": "2018-03-31T13:42:50.303988Z",
     "start_time": "2018-03-31T13:42:50.264879Z"
    }
   },
   "outputs": [],
   "source": [
    "X_train,y_train = get_data(train,feature_list,target)\n",
    "X_test,y_test = get_data(test,feature_list,target)\n",
    "X_valid,y_valid = get_data(valid,feature_list,target)"
   ]
  },
  {
   "cell_type": "code",
   "execution_count": 22,
   "metadata": {
    "ExecuteTime": {
     "end_time": "2018-03-31T13:42:50.323051Z",
     "start_time": "2018-03-31T13:42:50.309089Z"
    }
   },
   "outputs": [],
   "source": [
    "#features in test and valid must be divideb by norms from training set\n",
    "\n",
    "X_train_norm, norms = normalize_features(X_train)\n"
   ]
  },
  {
   "cell_type": "code",
   "execution_count": 23,
   "metadata": {
    "ExecuteTime": {
     "end_time": "2018-03-31T13:42:50.354221Z",
     "start_time": "2018-03-31T13:42:50.330049Z"
    }
   },
   "outputs": [],
   "source": [
    "X_test_norm = X_test/norms\n",
    "X_valid_norm = X_valid/norms"
   ]
  },
  {
   "cell_type": "code",
   "execution_count": 24,
   "metadata": {
    "ExecuteTime": {
     "end_time": "2018-03-31T13:42:50.381195Z",
     "start_time": "2018-03-31T13:42:50.362108Z"
    }
   },
   "outputs": [
    {
     "name": "stdout",
     "output_type": "stream",
     "text": [
      "[ 0.01345102  0.01551285  0.01807473  0.01759212  0.00160518  0.017059\n",
      "  0.          0.05102365  0.0116321   0.01564352  0.01362084  0.02481682\n",
      "  0.01350306  0.          0.01345387 -0.01346922  0.01375926  0.0016225 ]\n"
     ]
    }
   ],
   "source": [
    "# compute single distance\n",
    "\n",
    "print(X_test_norm[0])"
   ]
  },
  {
   "cell_type": "code",
   "execution_count": 25,
   "metadata": {
    "ExecuteTime": {
     "end_time": "2018-03-31T13:42:50.402248Z",
     "start_time": "2018-03-31T13:42:50.386174Z"
    }
   },
   "outputs": [
    {
     "data": {
      "text/plain": [
       "array([ 0.01345102,  0.01163464,  0.00602491,  0.0083488 ,  0.00050756,\n",
       "        0.01279425,  0.        ,  0.        ,  0.01938684,  0.01390535,\n",
       "        0.0096309 ,  0.        ,  0.01302544,  0.        ,  0.01346821,\n",
       "       -0.01346251,  0.01195898,  0.00156612])"
      ]
     },
     "execution_count": 25,
     "metadata": {},
     "output_type": "execute_result"
    }
   ],
   "source": [
    "X_train_norm[9]"
   ]
  },
  {
   "cell_type": "code",
   "execution_count": 36,
   "metadata": {
    "ExecuteTime": {
     "end_time": "2018-03-31T14:04:48.209385Z",
     "start_time": "2018-03-31T14:04:48.202366Z"
    }
   },
   "outputs": [],
   "source": [
    "queryH=X_test_norm[0]\n",
    "trainH=X_train_norm[9]\n",
    "\n",
    "distance= np.sqrt( np.sum( (queryH - trainH)**2))\n",
    "di = np.sqrt( np.sum( (trainH - queryH)**2))"
   ]
  },
  {
   "cell_type": "code",
   "execution_count": 37,
   "metadata": {
    "ExecuteTime": {
     "end_time": "2018-03-31T14:04:49.369819Z",
     "start_time": "2018-03-31T14:04:49.362800Z"
    }
   },
   "outputs": [
    {
     "data": {
      "text/plain": [
       "0.06"
      ]
     },
     "execution_count": 37,
     "metadata": {},
     "output_type": "execute_result"
    }
   ],
   "source": [
    "\n",
    "round(distance,3)"
   ]
  },
  {
   "cell_type": "code",
   "execution_count": 38,
   "metadata": {
    "ExecuteTime": {
     "end_time": "2018-03-31T14:07:03.186539Z",
     "start_time": "2018-03-31T14:07:03.183062Z"
    }
   },
   "outputs": [],
   "source": [
    "# distance queryH to first 10 train houses"
   ]
  },
  {
   "cell_type": "code",
   "execution_count": 105,
   "metadata": {
    "ExecuteTime": {
     "end_time": "2018-03-31T14:47:21.322340Z",
     "start_time": "2018-03-31T14:47:21.306260Z"
    }
   },
   "outputs": [
    {
     "data": {
      "text/plain": [
       "(0.052, 8)"
      ]
     },
     "execution_count": 105,
     "metadata": {},
     "output_type": "execute_result"
    }
   ],
   "source": [
    "queryH=X_test_norm[0]\n",
    "trainH=X_train_norm[0:10]\n",
    "\n",
    "distance_list = []\n",
    "for house in trainH:\n",
    "    distance= np.sqrt( np.sum( (queryH - house)**2))\n",
    "    distance_list.append(round(distance,3))\n",
    "min((v,i) for i,v in enumerate(distance_list))\n",
    "    "
   ]
  },
  {
   "cell_type": "code",
   "execution_count": 67,
   "metadata": {
    "ExecuteTime": {
     "end_time": "2018-03-31T14:24:57.379747Z",
     "start_time": "2018-03-31T14:24:57.373196Z"
    }
   },
   "outputs": [
    {
     "data": {
      "text/plain": [
       "[0.06027470916295592,\n",
       " 0.08546881147643746,\n",
       " 0.06149946435279315,\n",
       " 0.05340273979294363,\n",
       " 0.05844484060170442,\n",
       " 0.059879215098128345,\n",
       " 0.05463140496775461,\n",
       " 0.055431083236146074,\n",
       " 0.052383627840220305,\n",
       " 0.05972359371398078]"
      ]
     },
     "execution_count": 67,
     "metadata": {},
     "output_type": "execute_result"
    }
   ],
   "source": [
    "distance_list"
   ]
  },
  {
   "cell_type": "code",
   "execution_count": 51,
   "metadata": {
    "ExecuteTime": {
     "end_time": "2018-03-31T14:18:44.451633Z",
     "start_time": "2018-03-31T14:18:44.446118Z"
    }
   },
   "outputs": [
    {
     "name": "stdout",
     "output_type": "stream",
     "text": [
      "8\n"
     ]
    }
   ],
   "source": [
    "print(distance_list.index(min(distance_list)))"
   ]
  },
  {
   "cell_type": "code",
   "execution_count": 61,
   "metadata": {
    "ExecuteTime": {
     "end_time": "2018-03-31T14:23:39.631158Z",
     "start_time": "2018-03-31T14:23:39.624158Z"
    }
   },
   "outputs": [
    {
     "name": "stdout",
     "output_type": "stream",
     "text": [
      "8\n"
     ]
    }
   ],
   "source": [
    "print(min(range(len(distance_list)), key=distance_list.__getitem__))"
   ]
  },
  {
   "cell_type": "code",
   "execution_count": 62,
   "metadata": {
    "ExecuteTime": {
     "end_time": "2018-03-31T14:23:40.738578Z",
     "start_time": "2018-03-31T14:23:40.733601Z"
    }
   },
   "outputs": [
    {
     "data": {
      "text/plain": [
       "8"
      ]
     },
     "execution_count": 62,
     "metadata": {},
     "output_type": "execute_result"
    }
   ],
   "source": [
    "np.argmin(distance_list)"
   ]
  },
  {
   "cell_type": "code",
   "execution_count": 65,
   "metadata": {
    "ExecuteTime": {
     "end_time": "2018-03-31T14:24:33.536680Z",
     "start_time": "2018-03-31T14:24:33.528658Z"
    }
   },
   "outputs": [
    {
     "data": {
      "text/plain": [
       "(0.052383627840220305, 8)"
      ]
     },
     "execution_count": 65,
     "metadata": {},
     "output_type": "execute_result"
    }
   ],
   "source": [
    "min((v,i) for i,v in enumerate(distance_list))"
   ]
  },
  {
   "cell_type": "code",
   "execution_count": 94,
   "metadata": {
    "ExecuteTime": {
     "end_time": "2018-03-31T14:38:59.051790Z",
     "start_time": "2018-03-31T14:38:59.045774Z"
    }
   },
   "outputs": [],
   "source": [
    "#vectorize for loop for mutliple points\n",
    "diff= X_train_norm - queryH\n",
    "distances=np.sqrt( np.sum(diff**2, axis=1))"
   ]
  },
  {
   "cell_type": "code",
   "execution_count": 100,
   "metadata": {
    "ExecuteTime": {
     "end_time": "2018-03-31T14:41:28.661488Z",
     "start_time": "2018-03-31T14:41:28.655114Z"
    }
   },
   "outputs": [
    {
     "data": {
      "text/plain": [
       "0.023708232416678195"
      ]
     },
     "execution_count": 100,
     "metadata": {},
     "output_type": "execute_result"
    }
   ],
   "source": [
    "distances[100]"
   ]
  },
  {
   "cell_type": "code",
   "execution_count": 115,
   "metadata": {
    "ExecuteTime": {
     "end_time": "2018-03-31T14:50:12.157053Z",
     "start_time": "2018-03-31T14:50:12.143017Z"
    }
   },
   "outputs": [],
   "source": [
    "def compute_distances(features_instances, features_query, show_min_dist=False):\n",
    "    diff=features_instances - features_query\n",
    "    distances = np.sqrt( np.sum(diff**2, axis=1))\n",
    "    \n",
    "    if show_min_dist==True:\n",
    "        min_dist=min((v,i) for i,v in enumerate(distances))\n",
    "        print('The closest point for this query has index {} and the distance is: {:.3e}'.format(min_dist[1], min_dist[0]))\n",
    "    return distances"
   ]
  },
  {
   "cell_type": "code",
   "execution_count": 117,
   "metadata": {
    "ExecuteTime": {
     "end_time": "2018-03-31T14:53:51.227284Z",
     "start_time": "2018-03-31T14:53:51.219264Z"
    }
   },
   "outputs": [
    {
     "name": "stdout",
     "output_type": "stream",
     "text": [
      "The closest point for this query has index 382 and the distance is: 2.860e-03\n"
     ]
    }
   ],
   "source": [
    "third_hosue=compute_distances(X_train_norm, X_test_norm[2], True)"
   ]
  },
  {
   "cell_type": "code",
   "execution_count": 119,
   "metadata": {
    "ExecuteTime": {
     "end_time": "2018-03-31T14:55:15.119776Z",
     "start_time": "2018-03-31T14:55:15.114262Z"
    }
   },
   "outputs": [
    {
     "data": {
      "text/plain": [
       "249000.0"
      ]
     },
     "execution_count": 119,
     "metadata": {},
     "output_type": "execute_result"
    }
   ],
   "source": [
    "#what is predicted price for this house\n",
    "y_train[382]\n"
   ]
  },
  {
   "cell_type": "code",
   "execution_count": 120,
   "metadata": {
    "ExecuteTime": {
     "end_time": "2018-03-31T15:05:00.814415Z",
     "start_time": "2018-03-31T15:05:00.810907Z"
    }
   },
   "outputs": [],
   "source": [
    "# Perform k-nearest neighbor regression\n"
   ]
  },
  {
   "cell_type": "code",
   "execution_count": 121,
   "metadata": {
    "ExecuteTime": {
     "end_time": "2018-03-31T15:11:25.742291Z",
     "start_time": "2018-03-31T15:11:25.735779Z"
    }
   },
   "outputs": [],
   "source": [
    "def k_NN(k, feature_train, features_query):\n",
    "    \n",
    "    distances = compute_distances(feature_train, features_query, show_min_dist=False)\n",
    "    NN=np.argsort(distances, axis=0)[:k]\n",
    "    return NN"
   ]
  },
  {
   "cell_type": "code",
   "execution_count": 122,
   "metadata": {
    "ExecuteTime": {
     "end_time": "2018-03-31T15:12:35.225510Z",
     "start_time": "2018-03-31T15:12:35.218999Z"
    }
   },
   "outputs": [
    {
     "data": {
      "text/plain": [
       "array([ 382, 1149, 4087, 3142], dtype=int64)"
      ]
     },
     "execution_count": 122,
     "metadata": {},
     "output_type": "execute_result"
    }
   ],
   "source": [
    "third_house_k=k_NN(4, X_train_norm, X_test_norm[2])\n",
    "third_house_k"
   ]
  },
  {
   "cell_type": "code",
   "execution_count": 132,
   "metadata": {
    "ExecuteTime": {
     "end_time": "2018-03-31T16:00:28.921435Z",
     "start_time": "2018-03-31T16:00:28.905899Z"
    }
   },
   "outputs": [
    {
     "ename": "ValueError",
     "evalue": "operands could not be broadcast together with shapes (5527,18) (1741,18) ",
     "output_type": "error",
     "traceback": [
      "\u001b[1;31m---------------------------------------------------------------------------\u001b[0m",
      "\u001b[1;31mValueError\u001b[0m                                Traceback (most recent call last)",
      "\u001b[1;32m<ipython-input-132-f8fcfe1234ef>\u001b[0m in \u001b[0;36m<module>\u001b[1;34m()\u001b[0m\n\u001b[1;32m----> 1\u001b[1;33m \u001b[0mfoo\u001b[0m\u001b[1;33m=\u001b[0m\u001b[0mk_NN\u001b[0m\u001b[1;33m(\u001b[0m\u001b[1;36m4\u001b[0m\u001b[1;33m,\u001b[0m \u001b[0mX_train_norm\u001b[0m\u001b[1;33m,\u001b[0m \u001b[0mX_test_norm\u001b[0m\u001b[1;33m)\u001b[0m\u001b[1;33m\u001b[0m\u001b[0m\n\u001b[0m",
      "\u001b[1;32m<ipython-input-121-5d77f5434380>\u001b[0m in \u001b[0;36mk_NN\u001b[1;34m(k, feature_train, features_query)\u001b[0m\n\u001b[0;32m      1\u001b[0m \u001b[1;32mdef\u001b[0m \u001b[0mk_NN\u001b[0m\u001b[1;33m(\u001b[0m\u001b[0mk\u001b[0m\u001b[1;33m,\u001b[0m \u001b[0mfeature_train\u001b[0m\u001b[1;33m,\u001b[0m \u001b[0mfeatures_query\u001b[0m\u001b[1;33m)\u001b[0m\u001b[1;33m:\u001b[0m\u001b[1;33m\u001b[0m\u001b[0m\n\u001b[0;32m      2\u001b[0m \u001b[1;33m\u001b[0m\u001b[0m\n\u001b[1;32m----> 3\u001b[1;33m     \u001b[0mdistances\u001b[0m \u001b[1;33m=\u001b[0m \u001b[0mcompute_distances\u001b[0m\u001b[1;33m(\u001b[0m\u001b[0mfeature_train\u001b[0m\u001b[1;33m,\u001b[0m \u001b[0mfeatures_query\u001b[0m\u001b[1;33m,\u001b[0m \u001b[0mshow_min_dist\u001b[0m\u001b[1;33m=\u001b[0m\u001b[1;32mFalse\u001b[0m\u001b[1;33m)\u001b[0m\u001b[1;33m\u001b[0m\u001b[0m\n\u001b[0m\u001b[0;32m      4\u001b[0m     \u001b[0msort\u001b[0m\u001b[1;33m=\u001b[0m\u001b[0mnp\u001b[0m\u001b[1;33m.\u001b[0m\u001b[0margsort\u001b[0m\u001b[1;33m(\u001b[0m\u001b[0mdistances\u001b[0m\u001b[1;33m,\u001b[0m \u001b[0maxis\u001b[0m\u001b[1;33m=\u001b[0m\u001b[1;36m0\u001b[0m\u001b[1;33m)\u001b[0m\u001b[1;33m[\u001b[0m\u001b[1;33m:\u001b[0m\u001b[0mk\u001b[0m\u001b[1;33m]\u001b[0m\u001b[1;33m\u001b[0m\u001b[0m\n\u001b[0;32m      5\u001b[0m     \u001b[1;32mreturn\u001b[0m \u001b[0msort\u001b[0m\u001b[1;33m\u001b[0m\u001b[0m\n",
      "\u001b[1;32m<ipython-input-115-ff6b4b0e2e20>\u001b[0m in \u001b[0;36mcompute_distances\u001b[1;34m(features_instances, features_query, show_min_dist)\u001b[0m\n\u001b[0;32m      1\u001b[0m \u001b[1;32mdef\u001b[0m \u001b[0mcompute_distances\u001b[0m\u001b[1;33m(\u001b[0m\u001b[0mfeatures_instances\u001b[0m\u001b[1;33m,\u001b[0m \u001b[0mfeatures_query\u001b[0m\u001b[1;33m,\u001b[0m \u001b[0mshow_min_dist\u001b[0m\u001b[1;33m=\u001b[0m\u001b[1;32mFalse\u001b[0m\u001b[1;33m)\u001b[0m\u001b[1;33m:\u001b[0m\u001b[1;33m\u001b[0m\u001b[0m\n\u001b[1;32m----> 2\u001b[1;33m     \u001b[0mdiff\u001b[0m\u001b[1;33m=\u001b[0m\u001b[0mfeatures_instances\u001b[0m \u001b[1;33m-\u001b[0m \u001b[0mfeatures_query\u001b[0m\u001b[1;33m\u001b[0m\u001b[0m\n\u001b[0m\u001b[0;32m      3\u001b[0m     \u001b[0mdistances\u001b[0m \u001b[1;33m=\u001b[0m \u001b[0mnp\u001b[0m\u001b[1;33m.\u001b[0m\u001b[0msqrt\u001b[0m\u001b[1;33m(\u001b[0m \u001b[0mnp\u001b[0m\u001b[1;33m.\u001b[0m\u001b[0msum\u001b[0m\u001b[1;33m(\u001b[0m\u001b[0mdiff\u001b[0m\u001b[1;33m**\u001b[0m\u001b[1;36m2\u001b[0m\u001b[1;33m,\u001b[0m \u001b[0maxis\u001b[0m\u001b[1;33m=\u001b[0m\u001b[1;36m1\u001b[0m\u001b[1;33m)\u001b[0m\u001b[1;33m)\u001b[0m\u001b[1;33m\u001b[0m\u001b[0m\n\u001b[0;32m      4\u001b[0m \u001b[1;33m\u001b[0m\u001b[0m\n\u001b[0;32m      5\u001b[0m     \u001b[1;32mif\u001b[0m \u001b[0mshow_min_dist\u001b[0m\u001b[1;33m==\u001b[0m\u001b[1;32mTrue\u001b[0m\u001b[1;33m:\u001b[0m\u001b[1;33m\u001b[0m\u001b[0m\n",
      "\u001b[1;31mValueError\u001b[0m: operands could not be broadcast together with shapes (5527,18) (1741,18) "
     ]
    }
   ],
   "source": [
    "foo=k_NN(4, X_train_norm, X_test_norm)"
   ]
  },
  {
   "cell_type": "code",
   "execution_count": 125,
   "metadata": {
    "ExecuteTime": {
     "end_time": "2018-03-31T15:50:26.390719Z",
     "start_time": "2018-03-31T15:50:26.384702Z"
    }
   },
   "outputs": [
    {
     "data": {
      "text/plain": [
       "413987.5"
      ]
     },
     "execution_count": 125,
     "metadata": {},
     "output_type": "execute_result"
    }
   ],
   "source": [
    "np.average(y_train[third_house_k])"
   ]
  },
  {
   "cell_type": "code",
   "execution_count": 123,
   "metadata": {
    "ExecuteTime": {
     "end_time": "2018-03-31T15:14:55.208531Z",
     "start_time": "2018-03-31T15:14:55.205523Z"
    }
   },
   "outputs": [],
   "source": [
    "# function that predicts the value of given query"
   ]
  },
  {
   "cell_type": "code",
   "execution_count": 126,
   "metadata": {
    "ExecuteTime": {
     "end_time": "2018-03-31T15:50:53.994632Z",
     "start_time": "2018-03-31T15:50:53.989083Z"
    }
   },
   "outputs": [],
   "source": [
    "def predict_y_query(k, X_train, y_train, query):\n",
    "    \n",
    "    indices=k_NN(k, X_train, query)\n",
    "    predict_avg = np.average(y_train[indices])\n",
    "    return predict_avg"
   ]
  },
  {
   "cell_type": "code",
   "execution_count": 129,
   "metadata": {
    "ExecuteTime": {
     "end_time": "2018-03-31T15:56:19.517306Z",
     "start_time": "2018-03-31T15:56:19.509787Z"
    }
   },
   "outputs": [
    {
     "data": {
      "text/plain": [
       "413988.0"
      ]
     },
     "execution_count": 129,
     "metadata": {},
     "output_type": "execute_result"
    }
   ],
   "source": [
    "pred_3rd=predict_y_query(4, X_train_norm, y_train, X_test_norm[2] )\n",
    "round(pred_3rd,0)"
   ]
  },
  {
   "cell_type": "code",
   "execution_count": 130,
   "metadata": {
    "ExecuteTime": {
     "end_time": "2018-03-31T15:57:20.916787Z",
     "start_time": "2018-03-31T15:57:20.914317Z"
    }
   },
   "outputs": [],
   "source": [
    "# function to predict the value of each and every house in a query set"
   ]
  },
  {
   "cell_type": "code",
   "execution_count": 135,
   "metadata": {
    "ExecuteTime": {
     "end_time": "2018-03-31T16:12:07.616659Z",
     "start_time": "2018-03-31T16:12:07.610681Z"
    }
   },
   "outputs": [],
   "source": [
    "def predict_y(k, X_train, y_train, query_set):\n",
    "    \n",
    "    rows = query_set.shape[0]\n",
    "    y_predicted = []\n",
    "    \n",
    "    for i in range(rows):\n",
    "        avg_prediction = predict_y_query(k, X_train, y_train, query_set[i])\n",
    "        y_predicted.append(avg_prediction)\n",
    "    return y_predicted"
   ]
  },
  {
   "cell_type": "code",
   "execution_count": 144,
   "metadata": {
    "ExecuteTime": {
     "end_time": "2018-03-31T17:05:03.695932Z",
     "start_time": "2018-03-31T17:05:03.677347Z"
    }
   },
   "outputs": [],
   "source": [
    "t=predict_y(10, X_train_norm, y_train, X_test_norm[:10])"
   ]
  },
  {
   "cell_type": "code",
   "execution_count": 147,
   "metadata": {
    "ExecuteTime": {
     "end_time": "2018-03-31T17:06:16.137850Z",
     "start_time": "2018-03-31T17:06:16.128827Z"
    }
   },
   "outputs": [
    {
     "data": {
      "text/plain": [
       "(350032.0, 6)"
      ]
     },
     "execution_count": 147,
     "metadata": {},
     "output_type": "execute_result"
    }
   ],
   "source": [
    "min_pred=min((v,i) for i,v in enumerate(t))\n",
    "min_pred\n"
   ]
  },
  {
   "cell_type": "code",
   "execution_count": 142,
   "metadata": {
    "ExecuteTime": {
     "end_time": "2018-03-31T17:01:58.387877Z",
     "start_time": "2018-03-31T17:01:58.380358Z"
    }
   },
   "outputs": [],
   "source": [
    "def predict_vectorized(k, X_train, y_train, query_set):\n",
    "    predict_y=predict_y_query(k,X_train,y_train, query_set)\n",
    "    y_predicted=np.apply_along_axis(predict_y,0,query_set)\n",
    "    return y_predicted"
   ]
  },
  {
   "cell_type": "code",
   "execution_count": 143,
   "metadata": {
    "ExecuteTime": {
     "end_time": "2018-03-31T17:01:59.622753Z",
     "start_time": "2018-03-31T17:01:59.592647Z"
    },
    "collapsed": true
   },
   "outputs": [
    {
     "ename": "ValueError",
     "evalue": "operands could not be broadcast together with shapes (5527,18) (1741,18) ",
     "output_type": "error",
     "traceback": [
      "\u001b[1;31m---------------------------------------------------------------------------\u001b[0m",
      "\u001b[1;31mValueError\u001b[0m                                Traceback (most recent call last)",
      "\u001b[1;32m<ipython-input-143-673d546a254f>\u001b[0m in \u001b[0;36m<module>\u001b[1;34m()\u001b[0m\n\u001b[1;32m----> 1\u001b[1;33m \u001b[0mtt\u001b[0m\u001b[1;33m=\u001b[0m \u001b[0mpredict_vectorized\u001b[0m\u001b[1;33m(\u001b[0m\u001b[1;36m10\u001b[0m\u001b[1;33m,\u001b[0m \u001b[0mX_train_norm\u001b[0m\u001b[1;33m,\u001b[0m \u001b[0my_train\u001b[0m\u001b[1;33m,\u001b[0m \u001b[0mX_test_norm\u001b[0m\u001b[1;33m)\u001b[0m\u001b[1;33m\u001b[0m\u001b[0m\n\u001b[0m",
      "\u001b[1;32m<ipython-input-142-22a23f44efb9>\u001b[0m in \u001b[0;36mpredict_vectorized\u001b[1;34m(k, X_train, y_train, query_set)\u001b[0m\n\u001b[0;32m      1\u001b[0m \u001b[1;32mdef\u001b[0m \u001b[0mpredict_vectorized\u001b[0m\u001b[1;33m(\u001b[0m\u001b[0mk\u001b[0m\u001b[1;33m,\u001b[0m \u001b[0mX_train\u001b[0m\u001b[1;33m,\u001b[0m \u001b[0my_train\u001b[0m\u001b[1;33m,\u001b[0m \u001b[0mquery_set\u001b[0m\u001b[1;33m)\u001b[0m\u001b[1;33m:\u001b[0m\u001b[1;33m\u001b[0m\u001b[0m\n\u001b[1;32m----> 2\u001b[1;33m     \u001b[0mpredict_y\u001b[0m\u001b[1;33m=\u001b[0m\u001b[0mpredict_y_query\u001b[0m\u001b[1;33m(\u001b[0m\u001b[0mk\u001b[0m\u001b[1;33m,\u001b[0m\u001b[0mX_train\u001b[0m\u001b[1;33m,\u001b[0m\u001b[0my_train\u001b[0m\u001b[1;33m,\u001b[0m \u001b[0mquery_set\u001b[0m\u001b[1;33m)\u001b[0m\u001b[1;33m\u001b[0m\u001b[0m\n\u001b[0m\u001b[0;32m      3\u001b[0m     \u001b[0my_predicted\u001b[0m\u001b[1;33m=\u001b[0m\u001b[0mnp\u001b[0m\u001b[1;33m.\u001b[0m\u001b[0mapply_along_axis\u001b[0m\u001b[1;33m(\u001b[0m\u001b[0mpredict_y\u001b[0m\u001b[1;33m,\u001b[0m\u001b[1;36m0\u001b[0m\u001b[1;33m,\u001b[0m\u001b[0mquery_set\u001b[0m\u001b[1;33m)\u001b[0m\u001b[1;33m\u001b[0m\u001b[0m\n\u001b[0;32m      4\u001b[0m     \u001b[1;32mreturn\u001b[0m \u001b[0my_predicted\u001b[0m\u001b[1;33m\u001b[0m\u001b[0m\n",
      "\u001b[1;32m<ipython-input-126-01e5885cea8a>\u001b[0m in \u001b[0;36mpredict_y_query\u001b[1;34m(k, X_train, y_train, query)\u001b[0m\n\u001b[0;32m      1\u001b[0m \u001b[1;32mdef\u001b[0m \u001b[0mpredict_y_query\u001b[0m\u001b[1;33m(\u001b[0m\u001b[0mk\u001b[0m\u001b[1;33m,\u001b[0m \u001b[0mX_train\u001b[0m\u001b[1;33m,\u001b[0m \u001b[0my_train\u001b[0m\u001b[1;33m,\u001b[0m \u001b[0mquery\u001b[0m\u001b[1;33m)\u001b[0m\u001b[1;33m:\u001b[0m\u001b[1;33m\u001b[0m\u001b[0m\n\u001b[0;32m      2\u001b[0m \u001b[1;33m\u001b[0m\u001b[0m\n\u001b[1;32m----> 3\u001b[1;33m     \u001b[0mindices\u001b[0m\u001b[1;33m=\u001b[0m\u001b[0mk_NN\u001b[0m\u001b[1;33m(\u001b[0m\u001b[0mk\u001b[0m\u001b[1;33m,\u001b[0m \u001b[0mX_train\u001b[0m\u001b[1;33m,\u001b[0m \u001b[0mquery\u001b[0m\u001b[1;33m)\u001b[0m\u001b[1;33m\u001b[0m\u001b[0m\n\u001b[0m\u001b[0;32m      4\u001b[0m     \u001b[0mpredict_avg\u001b[0m \u001b[1;33m=\u001b[0m \u001b[0mnp\u001b[0m\u001b[1;33m.\u001b[0m\u001b[0maverage\u001b[0m\u001b[1;33m(\u001b[0m\u001b[0my_train\u001b[0m\u001b[1;33m[\u001b[0m\u001b[0mindices\u001b[0m\u001b[1;33m]\u001b[0m\u001b[1;33m)\u001b[0m\u001b[1;33m\u001b[0m\u001b[0m\n\u001b[0;32m      5\u001b[0m     \u001b[1;32mreturn\u001b[0m \u001b[0mpredict_avg\u001b[0m\u001b[1;33m\u001b[0m\u001b[0m\n",
      "\u001b[1;32m<ipython-input-121-5d77f5434380>\u001b[0m in \u001b[0;36mk_NN\u001b[1;34m(k, feature_train, features_query)\u001b[0m\n\u001b[0;32m      1\u001b[0m \u001b[1;32mdef\u001b[0m \u001b[0mk_NN\u001b[0m\u001b[1;33m(\u001b[0m\u001b[0mk\u001b[0m\u001b[1;33m,\u001b[0m \u001b[0mfeature_train\u001b[0m\u001b[1;33m,\u001b[0m \u001b[0mfeatures_query\u001b[0m\u001b[1;33m)\u001b[0m\u001b[1;33m:\u001b[0m\u001b[1;33m\u001b[0m\u001b[0m\n\u001b[0;32m      2\u001b[0m \u001b[1;33m\u001b[0m\u001b[0m\n\u001b[1;32m----> 3\u001b[1;33m     \u001b[0mdistances\u001b[0m \u001b[1;33m=\u001b[0m \u001b[0mcompute_distances\u001b[0m\u001b[1;33m(\u001b[0m\u001b[0mfeature_train\u001b[0m\u001b[1;33m,\u001b[0m \u001b[0mfeatures_query\u001b[0m\u001b[1;33m,\u001b[0m \u001b[0mshow_min_dist\u001b[0m\u001b[1;33m=\u001b[0m\u001b[1;32mFalse\u001b[0m\u001b[1;33m)\u001b[0m\u001b[1;33m\u001b[0m\u001b[0m\n\u001b[0m\u001b[0;32m      4\u001b[0m     \u001b[0msort\u001b[0m\u001b[1;33m=\u001b[0m\u001b[0mnp\u001b[0m\u001b[1;33m.\u001b[0m\u001b[0margsort\u001b[0m\u001b[1;33m(\u001b[0m\u001b[0mdistances\u001b[0m\u001b[1;33m,\u001b[0m \u001b[0maxis\u001b[0m\u001b[1;33m=\u001b[0m\u001b[1;36m0\u001b[0m\u001b[1;33m)\u001b[0m\u001b[1;33m[\u001b[0m\u001b[1;33m:\u001b[0m\u001b[0mk\u001b[0m\u001b[1;33m]\u001b[0m\u001b[1;33m\u001b[0m\u001b[0m\n\u001b[0;32m      5\u001b[0m     \u001b[1;32mreturn\u001b[0m \u001b[0msort\u001b[0m\u001b[1;33m\u001b[0m\u001b[0m\n",
      "\u001b[1;32m<ipython-input-115-ff6b4b0e2e20>\u001b[0m in \u001b[0;36mcompute_distances\u001b[1;34m(features_instances, features_query, show_min_dist)\u001b[0m\n\u001b[0;32m      1\u001b[0m \u001b[1;32mdef\u001b[0m \u001b[0mcompute_distances\u001b[0m\u001b[1;33m(\u001b[0m\u001b[0mfeatures_instances\u001b[0m\u001b[1;33m,\u001b[0m \u001b[0mfeatures_query\u001b[0m\u001b[1;33m,\u001b[0m \u001b[0mshow_min_dist\u001b[0m\u001b[1;33m=\u001b[0m\u001b[1;32mFalse\u001b[0m\u001b[1;33m)\u001b[0m\u001b[1;33m:\u001b[0m\u001b[1;33m\u001b[0m\u001b[0m\n\u001b[1;32m----> 2\u001b[1;33m     \u001b[0mdiff\u001b[0m\u001b[1;33m=\u001b[0m\u001b[0mfeatures_instances\u001b[0m \u001b[1;33m-\u001b[0m \u001b[0mfeatures_query\u001b[0m\u001b[1;33m\u001b[0m\u001b[0m\n\u001b[0m\u001b[0;32m      3\u001b[0m     \u001b[0mdistances\u001b[0m \u001b[1;33m=\u001b[0m \u001b[0mnp\u001b[0m\u001b[1;33m.\u001b[0m\u001b[0msqrt\u001b[0m\u001b[1;33m(\u001b[0m \u001b[0mnp\u001b[0m\u001b[1;33m.\u001b[0m\u001b[0msum\u001b[0m\u001b[1;33m(\u001b[0m\u001b[0mdiff\u001b[0m\u001b[1;33m**\u001b[0m\u001b[1;36m2\u001b[0m\u001b[1;33m,\u001b[0m \u001b[0maxis\u001b[0m\u001b[1;33m=\u001b[0m\u001b[1;36m1\u001b[0m\u001b[1;33m)\u001b[0m\u001b[1;33m)\u001b[0m\u001b[1;33m\u001b[0m\u001b[0m\n\u001b[0;32m      4\u001b[0m \u001b[1;33m\u001b[0m\u001b[0m\n\u001b[0;32m      5\u001b[0m     \u001b[1;32mif\u001b[0m \u001b[0mshow_min_dist\u001b[0m\u001b[1;33m==\u001b[0m\u001b[1;32mTrue\u001b[0m\u001b[1;33m:\u001b[0m\u001b[1;33m\u001b[0m\u001b[0m\n",
      "\u001b[1;31mValueError\u001b[0m: operands could not be broadcast together with shapes (5527,18) (1741,18) "
     ]
    }
   ],
   "source": [
    "tt= predict_vectorized(10, X_train_norm, y_train, X_test_norm)"
   ]
  },
  {
   "cell_type": "code",
   "execution_count": 148,
   "metadata": {
    "ExecuteTime": {
     "end_time": "2018-03-31T17:06:56.225725Z",
     "start_time": "2018-03-31T17:06:56.221754Z"
    }
   },
   "outputs": [],
   "source": [
    "# Choosing the best value of k using a validation set\n"
   ]
  },
  {
   "cell_type": "code",
   "execution_count": 155,
   "metadata": {
    "ExecuteTime": {
     "end_time": "2018-03-31T17:13:45.937584Z",
     "start_time": "2018-03-31T17:13:22.372827Z"
    }
   },
   "outputs": [],
   "source": [
    "k_val=np.arange(1,16)\n",
    "\n",
    "rss=[]\n",
    "for k in k_val:\n",
    "    pred_validation=predict_y(k, X_train_norm, y_train,X_valid_norm)\n",
    "    rss_= np.sum( (y_valid - pred_validation)**2 )\n",
    "    rss.append(rss_)"
   ]
  },
  {
   "cell_type": "code",
   "execution_count": 156,
   "metadata": {
    "ExecuteTime": {
     "end_time": "2018-03-31T17:13:46.989294Z",
     "start_time": "2018-03-31T17:13:46.983283Z"
    }
   },
   "outputs": [
    {
     "data": {
      "text/plain": [
       "(67361678735491.5, 7)"
      ]
     },
     "execution_count": 156,
     "metadata": {},
     "output_type": "execute_result"
    }
   ],
   "source": [
    "min((v,i) for i,v in enumerate(rss))"
   ]
  },
  {
   "cell_type": "code",
   "execution_count": 158,
   "metadata": {
    "ExecuteTime": {
     "end_time": "2018-03-31T17:15:37.290983Z",
     "start_time": "2018-03-31T17:15:37.286934Z"
    }
   },
   "outputs": [],
   "source": [
    "# use best k on test data and calc rss"
   ]
  },
  {
   "cell_type": "code",
   "execution_count": 159,
   "metadata": {
    "ExecuteTime": {
     "end_time": "2018-03-31T17:16:06.476226Z",
     "start_time": "2018-03-31T17:16:06.471215Z"
    }
   },
   "outputs": [],
   "source": [
    "best_k=min((v,i) for i,v in enumerate(rss))[1]"
   ]
  },
  {
   "cell_type": "code",
   "execution_count": 162,
   "metadata": {
    "ExecuteTime": {
     "end_time": "2018-03-31T17:18:22.194776Z",
     "start_time": "2018-03-31T17:18:20.321792Z"
    }
   },
   "outputs": [
    {
     "name": "stdout",
     "output_type": "stream",
     "text": [
      "best rss is: 1.32e+14\n"
     ]
    }
   ],
   "source": [
    "best_prediction = predict_y(best_k, X_train_norm, y_train, X_test_norm)\n",
    "rss = np.sum((y_test - best_prediction)**2)\n",
    "print('best rss is: {:.2e}'.format(rss))"
   ]
  },
  {
   "cell_type": "code",
   "execution_count": null,
   "metadata": {},
   "outputs": [],
   "source": []
  }
 ],
 "metadata": {
  "kernelspec": {
   "display_name": "Python 3",
   "language": "python",
   "name": "python3"
  },
  "language_info": {
   "codemirror_mode": {
    "name": "ipython",
    "version": 3
   },
   "file_extension": ".py",
   "mimetype": "text/x-python",
   "name": "python",
   "nbconvert_exporter": "python",
   "pygments_lexer": "ipython3",
   "version": "3.6.3"
  },
  "toc": {
   "nav_menu": {},
   "number_sections": true,
   "sideBar": true,
   "skip_h1_title": false,
   "title_cell": "Table of Contents",
   "title_sidebar": "Contents",
   "toc_cell": false,
   "toc_position": {},
   "toc_section_display": true,
   "toc_window_display": false
  },
  "varInspector": {
   "cols": {
    "lenName": 16,
    "lenType": 16,
    "lenVar": 40
   },
   "kernels_config": {
    "python": {
     "delete_cmd_postfix": "",
     "delete_cmd_prefix": "del ",
     "library": "var_list.py",
     "varRefreshCmd": "print(var_dic_list())"
    },
    "r": {
     "delete_cmd_postfix": ") ",
     "delete_cmd_prefix": "rm(",
     "library": "var_list.r",
     "varRefreshCmd": "cat(var_dic_list()) "
    }
   },
   "types_to_exclude": [
    "module",
    "function",
    "builtin_function_or_method",
    "instance",
    "_Feature"
   ],
   "window_display": false
  }
 },
 "nbformat": 4,
 "nbformat_minor": 2
}
