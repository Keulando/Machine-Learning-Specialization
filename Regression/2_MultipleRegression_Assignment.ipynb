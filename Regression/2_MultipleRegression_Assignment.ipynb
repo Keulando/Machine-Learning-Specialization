{
 "cells": [
  {
   "cell_type": "code",
   "execution_count": 7,
   "metadata": {
    "ExecuteTime": {
     "end_time": "2018-02-28T09:36:29.618425Z",
     "start_time": "2018-02-28T09:36:29.592896Z"
    }
   },
   "outputs": [],
   "source": [
    "import pandas as pd\n",
    "import numpy as np\n",
    "from qgrid import show_grid as grid\n",
    "\n",
    "dtype_dict = {'bathrooms':float, 'waterfront':int, 'sqft_above':int, 'sqft_living15':float, 'grade':int, 'yr_renovated':int,\n",
    "              'price':float, 'bedrooms':float, 'zipcode':str, 'long':float, 'sqft_lot15':float,\n",
    "              'sqft_living':float, 'floors':str, 'condition':int, 'lat':float, 'date':str, \n",
    "              'sqft_basement':int, 'yr_built':int, 'id':str, 'sqft_lot':int, 'view':int}\n",
    "\n",
    "train=pd.read_csv(\"kc_house_train_data.csv\",dtype=dtype_dict)\n",
    "test=pd.read_csv(\"kc_house_test_data.csv\",dtype=dtype_dict)"
   ]
  },
  {
   "cell_type": "code",
   "execution_count": 17,
   "metadata": {
    "ExecuteTime": {
     "end_time": "2018-02-28T09:43:11.406260Z",
     "start_time": "2018-02-28T09:43:11.393758Z"
    }
   },
   "outputs": [],
   "source": [
    "# add these four variables\n",
    "train[\"bedrooms_sqd\"]=train[\"bedrooms\"]*train[\"bedrooms\"]  #will increase the separation between not many bedrooms (e.g. 1) and lots of bedrooms \n",
    "train[\"bed_bath_room\"]=train[\"bedrooms\"]*train[\"bathrooms\"] # \"interaction\" variable. It is large when both of them are large.\n",
    "train[\"log_sqft_living\"]=np.log(train[\"sqft_living\"]) # bringing large values closer together and spreading out small values.\n",
    "train[\"lat_plus_long\"]=train[\"lat\"]+train[\"long\"]"
   ]
  },
  {
   "cell_type": "code",
   "execution_count": 18,
   "metadata": {
    "ExecuteTime": {
     "end_time": "2018-02-28T09:43:25.722122Z",
     "start_time": "2018-02-28T09:43:25.711120Z"
    }
   },
   "outputs": [],
   "source": [
    "# add these four variables\n",
    "test[\"bedrooms_sqd\"]=test[\"bedrooms\"]*test[\"bedrooms\"]  #will increase the separation between not many bedrooms (e.g. 1) and lots of bedrooms \n",
    "test[\"bed_bath_room\"]=test[\"bedrooms\"]*test[\"bathrooms\"] # \"interaction\" variable. It is large when both of them are large.\n",
    "test[\"log_sqft_living\"]=np.log(test[\"sqft_living\"]) # bringing large values closer together and spreading out small values.\n",
    "test[\"lat_plus_long\"]=test[\"lat\"]+test[\"long\"]"
   ]
  },
  {
   "cell_type": "code",
   "execution_count": 24,
   "metadata": {
    "ExecuteTime": {
     "end_time": "2018-02-28T09:47:51.134271Z",
     "start_time": "2018-02-28T09:47:51.128271Z"
    }
   },
   "outputs": [
    {
     "data": {
      "text/plain": [
       "12.4466777015843"
      ]
     },
     "execution_count": 24,
     "metadata": {},
     "output_type": "execute_result"
    }
   ],
   "source": [
    "# Q1 mean of \"bedrroms sqd? on test\n",
    "\n",
    "#test.bedrooms_sqd.mean()\n",
    "#12.45\n",
    "np.mean(test.bedrooms_sqd)"
   ]
  },
  {
   "cell_type": "code",
   "execution_count": 22,
   "metadata": {
    "ExecuteTime": {
     "end_time": "2018-02-28T09:46:41.882249Z",
     "start_time": "2018-02-28T09:46:41.876249Z"
    }
   },
   "outputs": [
    {
     "data": {
      "text/plain": [
       "7.5039016315913925"
      ]
     },
     "execution_count": 22,
     "metadata": {},
     "output_type": "execute_result"
    }
   ],
   "source": [
    "#Q2 mean of bed bath rooms on test?\n",
    "\n",
    "test.bed_bath_room.mean()\n",
    "#7.50"
   ]
  },
  {
   "cell_type": "code",
   "execution_count": 25,
   "metadata": {
    "ExecuteTime": {
     "end_time": "2018-02-28T09:48:43.580888Z",
     "start_time": "2018-02-28T09:48:43.575389Z"
    }
   },
   "outputs": [
    {
     "data": {
      "text/plain": [
       "7.550274679645921"
      ]
     },
     "execution_count": 25,
     "metadata": {},
     "output_type": "execute_result"
    }
   ],
   "source": [
    "# Q3 mean log_sqft_living\n",
    "\n",
    "test.log_sqft_living.mean()\n",
    "#7.55"
   ]
  },
  {
   "cell_type": "code",
   "execution_count": 26,
   "metadata": {
    "ExecuteTime": {
     "end_time": "2018-02-28T09:49:11.823764Z",
     "start_time": "2018-02-28T09:49:11.817753Z"
    }
   },
   "outputs": [
    {
     "data": {
      "text/plain": [
       "-74.65333355403185"
      ]
     },
     "execution_count": 26,
     "metadata": {},
     "output_type": "execute_result"
    }
   ],
   "source": [
    "# Q4 mean lat_plus_long\n",
    "\n",
    "test.lat_plus_long.mean()\n",
    "#-74.65"
   ]
  },
  {
   "cell_type": "markdown",
   "metadata": {},
   "source": [
    "estimate the regression coefficients/weights for predicting ‘price’ for the following three models\n",
    "\n",
    "- Model 1: ‘sqft_living’, ‘bedrooms’, ‘bathrooms’, ‘lat’, and ‘long’\n",
    "- Model 2: ‘sqft_living’, ‘bedrooms’, ‘bathrooms’, ‘lat’,‘long’, and ‘bed_bath_rooms’\n",
    "- Model 3: ‘sqft_living’, ‘bedrooms’, ‘bathrooms’, ‘lat’,‘long’, ‘bed_bath_rooms’, ‘bedrooms_squared’, ‘log_sqft_living’, and ‘lat_plus_long’"
   ]
  },
  {
   "cell_type": "code",
   "execution_count": 27,
   "metadata": {
    "ExecuteTime": {
     "end_time": "2018-02-28T09:51:39.315113Z",
     "start_time": "2018-02-28T09:51:37.491466Z"
    }
   },
   "outputs": [],
   "source": [
    "from sklearn.linear_model import LinearRegression"
   ]
  },
  {
   "cell_type": "code",
   "execution_count": 28,
   "metadata": {
    "ExecuteTime": {
     "end_time": "2018-02-28T09:52:27.395058Z",
     "start_time": "2018-02-28T09:52:27.391058Z"
    }
   },
   "outputs": [],
   "source": [
    "y_train=train[\"price\"]"
   ]
  },
  {
   "cell_type": "code",
   "execution_count": 31,
   "metadata": {
    "ExecuteTime": {
     "end_time": "2018-02-28T09:57:48.786892Z",
     "start_time": "2018-02-28T09:57:48.777890Z"
    }
   },
   "outputs": [],
   "source": [
    "x_train_1=train[['sqft_living', 'bedrooms', 'bathrooms', 'lat', 'long']]\n",
    "x_train_2=train[['sqft_living', 'bedrooms', 'bathrooms', 'lat', 'long',\"bed_bath_room\"]]\n",
    "x_train_3=train[['sqft_living', 'bedrooms', 'bathrooms', 'lat', 'long',\"bed_bath_room\",\"bedrooms_sqd\",\"log_sqft_living\", \"lat_plus_long\"]]"
   ]
  },
  {
   "cell_type": "code",
   "execution_count": 32,
   "metadata": {
    "ExecuteTime": {
     "end_time": "2018-02-28T09:59:02.794725Z",
     "start_time": "2018-02-28T09:59:02.563696Z"
    }
   },
   "outputs": [],
   "source": [
    "lg_1=LinearRegression().fit(x_train_1, y_train)\n",
    "lg_2=LinearRegression().fit(x_train_2, y_train)\n",
    "lg_3=LinearRegression().fit(x_train_3, y_train)"
   ]
  },
  {
   "cell_type": "code",
   "execution_count": 39,
   "metadata": {
    "ExecuteTime": {
     "end_time": "2018-02-28T10:02:35.788076Z",
     "start_time": "2018-02-28T10:02:35.782053Z"
    }
   },
   "outputs": [
    {
     "data": {
      "text/plain": [
       "15706.742082734629"
      ]
     },
     "execution_count": 39,
     "metadata": {},
     "output_type": "execute_result"
    }
   ],
   "source": [
    "# Q6 coeff of bathrooms in model 1\n",
    "lg_1.coef_[2]"
   ]
  },
  {
   "cell_type": "code",
   "execution_count": 40,
   "metadata": {
    "ExecuteTime": {
     "end_time": "2018-02-28T10:03:06.178064Z",
     "start_time": "2018-02-28T10:03:06.171564Z"
    }
   },
   "outputs": [
    {
     "data": {
      "text/plain": [
       "-71461.308292759626"
      ]
     },
     "execution_count": 40,
     "metadata": {},
     "output_type": "execute_result"
    }
   ],
   "source": [
    "# Q7 coeff of bathrooms in model 2\n",
    "lg_2.coef_[2]"
   ]
  },
  {
   "cell_type": "markdown",
   "metadata": {},
   "source": [
    " # Quiz Question: Which model (1, 2 or 3) had the lowest RSS on TRAINING data?"
   ]
  },
  {
   "cell_type": "code",
   "execution_count": 50,
   "metadata": {
    "ExecuteTime": {
     "end_time": "2018-02-28T10:09:01.591996Z",
     "start_time": "2018-02-28T10:09:01.581978Z"
    },
    "cell_style": "split"
   },
   "outputs": [
    {
     "name": "stdout",
     "output_type": "stream",
     "text": [
      "RSS for model 1 is: 9.68e+14\n"
     ]
    }
   ],
   "source": [
    "rss_1=((lg_1.predict(x_train_1)- y_train)**2).sum()\n",
    "print(\"RSS for model 1 is: {:.3}\".format(rss_1))"
   ]
  },
  {
   "cell_type": "code",
   "execution_count": 51,
   "metadata": {
    "ExecuteTime": {
     "end_time": "2018-02-28T10:09:30.245157Z",
     "start_time": "2018-02-28T10:09:30.236156Z"
    },
    "cell_style": "split"
   },
   "outputs": [
    {
     "name": "stdout",
     "output_type": "stream",
     "text": [
      "RSS for model 2 is: 9.58e+14\n"
     ]
    }
   ],
   "source": [
    "rss_2=((lg_2.predict(x_train_2)- y_train)**2).sum()\n",
    "print(\"RSS for model 2 is: {:.3}\".format(rss_2))"
   ]
  },
  {
   "cell_type": "code",
   "execution_count": 52,
   "metadata": {
    "ExecuteTime": {
     "end_time": "2018-02-28T10:09:55.696365Z",
     "start_time": "2018-02-28T10:09:55.684393Z"
    }
   },
   "outputs": [
    {
     "name": "stdout",
     "output_type": "stream",
     "text": [
      "RSS for model 3 is: 9.03e+14\n"
     ]
    }
   ],
   "source": [
    "rss_3=((lg_3.predict(x_train_3)- y_train)**2).sum()\n",
    "print(\"RSS for model 3 is: {:.3}\".format(rss_3))"
   ]
  },
  {
   "cell_type": "markdown",
   "metadata": {
    "ExecuteTime": {
     "end_time": "2018-02-28T10:10:20.939409Z",
     "start_time": "2018-02-28T10:10:20.935927Z"
    }
   },
   "source": [
    " # Quiz Question: Which model (1, 2 or 3) had the lowest RSS on TEST data?"
   ]
  },
  {
   "cell_type": "code",
   "execution_count": 56,
   "metadata": {
    "ExecuteTime": {
     "end_time": "2018-02-28T10:12:02.394830Z",
     "start_time": "2018-02-28T10:12:02.385828Z"
    }
   },
   "outputs": [],
   "source": [
    "y_test=test[\"price\"]\n",
    "\n",
    "x_test_1=test[['sqft_living', 'bedrooms', 'bathrooms', 'lat', 'long']]\n",
    "x_test_2=test[['sqft_living', 'bedrooms', 'bathrooms', 'lat', 'long',\"bed_bath_room\"]]\n",
    "x_test_3=test[['sqft_living', 'bedrooms', 'bathrooms', 'lat', 'long',\"bed_bath_room\",\"bedrooms_sqd\",\"log_sqft_living\", \"lat_plus_long\"]]"
   ]
  },
  {
   "cell_type": "code",
   "execution_count": 57,
   "metadata": {
    "ExecuteTime": {
     "end_time": "2018-02-28T10:12:03.021692Z",
     "start_time": "2018-02-28T10:12:03.014694Z"
    },
    "cell_style": "split"
   },
   "outputs": [
    {
     "name": "stdout",
     "output_type": "stream",
     "text": [
      "RSS for model 1 is: 2.26e+14\n"
     ]
    }
   ],
   "source": [
    "rss_1=((lg_1.predict(x_test_1)- y_test)**2).sum()\n",
    "print(\"RSS for model 1 is: {:.3}\".format(rss_1))"
   ]
  },
  {
   "cell_type": "code",
   "execution_count": 58,
   "metadata": {
    "ExecuteTime": {
     "end_time": "2018-02-28T10:12:24.991194Z",
     "start_time": "2018-02-28T10:12:24.984194Z"
    },
    "cell_style": "split"
   },
   "outputs": [
    {
     "name": "stdout",
     "output_type": "stream",
     "text": [
      "RSS for model_2 is: 2.23e+14\n"
     ]
    }
   ],
   "source": [
    "rss_2=((lg_2.predict(x_test_2)- y_test)**2).sum()\n",
    "print(\"RSS for model_2 is: {:.3}\".format(rss_2))"
   ]
  },
  {
   "cell_type": "code",
   "execution_count": 59,
   "metadata": {
    "ExecuteTime": {
     "end_time": "2018-02-28T10:12:36.384254Z",
     "start_time": "2018-02-28T10:12:36.377753Z"
    }
   },
   "outputs": [
    {
     "name": "stdout",
     "output_type": "stream",
     "text": [
      "RSS for model_3 is: 2.59e+14\n"
     ]
    }
   ],
   "source": [
    "rss_3=((lg_3.predict(x_test_3)- y_test)**2).sum()\n",
    "print(\"RSS for model_3 is: {:.3}\".format(rss_3))"
   ]
  },
  {
   "cell_type": "code",
   "execution_count": null,
   "metadata": {},
   "outputs": [],
   "source": []
  }
 ],
 "metadata": {
  "kernelspec": {
   "display_name": "Python 3",
   "language": "python",
   "name": "python3"
  },
  "language_info": {
   "codemirror_mode": {
    "name": "ipython",
    "version": 3
   },
   "file_extension": ".py",
   "mimetype": "text/x-python",
   "name": "python",
   "nbconvert_exporter": "python",
   "pygments_lexer": "ipython3",
   "version": "3.6.3"
  },
  "toc": {
   "nav_menu": {},
   "number_sections": true,
   "sideBar": true,
   "skip_h1_title": false,
   "title_cell": "Table of Contents",
   "title_sidebar": "Contents",
   "toc_cell": false,
   "toc_position": {},
   "toc_section_display": true,
   "toc_window_display": false
  },
  "varInspector": {
   "cols": {
    "lenName": 16,
    "lenType": 16,
    "lenVar": 40
   },
   "kernels_config": {
    "python": {
     "delete_cmd_postfix": "",
     "delete_cmd_prefix": "del ",
     "library": "var_list.py",
     "varRefreshCmd": "print(var_dic_list())"
    },
    "r": {
     "delete_cmd_postfix": ") ",
     "delete_cmd_prefix": "rm(",
     "library": "var_list.r",
     "varRefreshCmd": "cat(var_dic_list()) "
    }
   },
   "types_to_exclude": [
    "module",
    "function",
    "builtin_function_or_method",
    "instance",
    "_Feature"
   ],
   "window_display": false
  }
 },
 "nbformat": 4,
 "nbformat_minor": 2
}
