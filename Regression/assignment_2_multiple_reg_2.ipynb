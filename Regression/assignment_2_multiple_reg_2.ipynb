{
 "cells": [
  {
   "cell_type": "code",
   "execution_count": 1,
   "metadata": {
    "ExecuteTime": {
     "end_time": "2018-02-28T14:05:31.553704Z",
     "start_time": "2018-02-28T14:05:28.801393Z"
    }
   },
   "outputs": [],
   "source": [
    "import pandas as pd\n",
    "import numpy as np\n",
    "from qgrid import show_grid as grid\n",
    "\n",
    "dtype_dict = {'bathrooms':float, 'waterfront':int, 'sqft_above':int, 'sqft_living15':float, 'grade':int, 'yr_renovated':int,\n",
    "              'price':float, 'bedrooms':float, 'zipcode':str, 'long':float, 'sqft_lot15':float,\n",
    "              'sqft_living':float, 'floors':str, 'condition':int, 'lat':float, 'date':str, \n",
    "              'sqft_basement':int, 'yr_built':int, 'id':str, 'sqft_lot':int, 'view':int}\n",
    "\n",
    "train=pd.read_csv(\"kc_house_train_data.csv\",dtype=dtype_dict)\n",
    "test=pd.read_csv(\"kc_house_test_data.csv\",dtype=dtype_dict)"
   ]
  },
  {
   "cell_type": "markdown",
   "metadata": {},
   "source": [
    "Next write a function that takes \n",
    "- a data set, \n",
    "- a list of features (e.g. [‘sqft_living’, ‘bedrooms’]), to be used as inputs, \n",
    "- and a name of the output (e.g. ‘price’). \n",
    "\n",
    "This function should return a \n",
    "- features_matrix (2D array) consisting of:\n",
    "    - first a column of ones followed by \n",
    "    - columns containing the values of the input features in the data set in the same order as the input list. \n",
    "- It should also return an output_array \n",
    "    - array of the values of the output in the data set (e.g. ‘price’)."
   ]
  },
  {
   "cell_type": "code",
   "execution_count": 2,
   "metadata": {
    "ExecuteTime": {
     "end_time": "2018-02-28T14:05:35.596714Z",
     "start_time": "2018-02-28T14:05:35.584713Z"
    }
   },
   "outputs": [],
   "source": [
    "def get_data(data_frame, features, output):\n",
    "    '''args: \n",
    "    data_frame= array, dataframe alike\n",
    "    features: list-like []\n",
    "    output: str'''\n",
    "    \n",
    "    import numpy as np\n",
    "    \n",
    "    data_frame[\"constant\"]=1\n",
    "    features= [\"constant\"] + features\n",
    "    \n",
    "    features_frame= data_frame[features]\n",
    "    feature_matrix= np.array(features_frame)\n",
    "    \n",
    "    output_array = np.array(data_frame[output])\n",
    "    return(feature_matrix, output_array)"
   ]
  },
  {
   "cell_type": "code",
   "execution_count": 3,
   "metadata": {
    "ExecuteTime": {
     "end_time": "2018-02-28T14:05:39.392559Z",
     "start_time": "2018-02-28T14:05:39.383997Z"
    }
   },
   "outputs": [
    {
     "name": "stdout",
     "output_type": "stream",
     "text": [
      "[  1.00000000e+00   1.18000000e+03]\n",
      "221900.0\n"
     ]
    }
   ],
   "source": [
    "# test \n",
    "\n",
    "(example_features, example_output) = get_data(train, ['sqft_living'], 'price') # the [] around 'sqft_living' makes it a list\n",
    "print(example_features[0,:]) # this accesses the first row of the data the ':' indicates 'all columns'\n",
    "print(example_output[0]) # and the corresponding output"
   ]
  },
  {
   "cell_type": "markdown",
   "metadata": {},
   "source": [
    " If the features matrix is stored as a 2D array (or matrix) and the regression weights are stored as a 1D array \n",
    "- then the predicted output is just the dot product between the features matrix and the weights (with the weights on the right). \n",
    "\n",
    "Write a function ‘predict_output’ \n",
    "-  accepts a 2D array ‘feature_matrix’ and a 1D array ‘weights’ and returns a 1D array ‘predictions’"
   ]
  },
  {
   "cell_type": "code",
   "execution_count": 4,
   "metadata": {
    "ExecuteTime": {
     "end_time": "2018-02-28T14:05:42.292050Z",
     "start_time": "2018-02-28T14:05:42.286544Z"
    }
   },
   "outputs": [],
   "source": [
    "def predict_output(feature_matrix, weights):\n",
    "    \n",
    "    predictions = np.dot(feature_matrix, weights)\n",
    "    return predictions"
   ]
  },
  {
   "cell_type": "code",
   "execution_count": 5,
   "metadata": {
    "ExecuteTime": {
     "end_time": "2018-02-28T14:05:43.454306Z",
     "start_time": "2018-02-28T14:05:43.316199Z"
    }
   },
   "outputs": [
    {
     "name": "stdout",
     "output_type": "stream",
     "text": [
      "1181.0\n",
      "2571.0\n"
     ]
    }
   ],
   "source": [
    "#test\n",
    "my_weights = np.array([1., 1.]) # the example weights\n",
    "my_features = example_features[0,] # we'll use the first data point\n",
    "test_predictions = predict_output(example_features, my_weights)\n",
    "print(test_predictions[0]) # should be 1181.0\n",
    "print(test_predictions[1]) # should be 2571.0"
   ]
  },
  {
   "cell_type": "markdown",
   "metadata": {},
   "source": [
    "If values of a single input feature in an array:\n",
    "- ‘feature’ and \n",
    "- the prediction ‘errors’ (predictions - output) \n",
    "\n",
    "-- > then the derivative of the regression cost function with respect to the weight of ‘feature’ is just twice the dot product between ‘feature’ and ‘errors’. \n",
    "\n",
    "Write a function that accepts a ‘feature’ array and ‘error’ array and returns the ‘derivative’ (a single number)."
   ]
  },
  {
   "cell_type": "code",
   "execution_count": 6,
   "metadata": {
    "ExecuteTime": {
     "end_time": "2018-02-28T14:05:46.907598Z",
     "start_time": "2018-02-28T14:05:46.901597Z"
    }
   },
   "outputs": [],
   "source": [
    "def feature_derivative(errors, feature):\n",
    "    \n",
    "    derivative = 2*np.dot(errors, feature)\n",
    "    \n",
    "    return(derivative)\n"
   ]
  },
  {
   "cell_type": "code",
   "execution_count": 7,
   "metadata": {
    "ExecuteTime": {
     "end_time": "2018-02-28T14:05:49.116521Z",
     "start_time": "2018-02-28T14:05:49.078015Z"
    }
   },
   "outputs": [
    {
     "name": "stdout",
     "output_type": "stream",
     "text": [
      "-18752698920.0\n",
      "-18752698920.0\n",
      "[ 221900.  538000.  180000. ...,  360000.  400000.  325000.]\n",
      "[-221900. -538000. -180000. ..., -360000. -400000. -325000.]\n",
      "[ 1.  1.  1. ...,  1.  1.  1.]\n"
     ]
    }
   ],
   "source": [
    "## test\n",
    "\n",
    "(example_features, example_output) = get_data(train, ['sqft_living'], 'price') \n",
    "my_weights = np.array([0., 0.]) # this makes all the predictions 0\n",
    "test_predictions = predict_output(example_features, my_weights) \n",
    "# just like SFrames 2 numpy arrays can be elementwise subtracted with '-': \n",
    "errors = test_predictions - example_output # prediction errors in this case is just the -example_output\n",
    "feature = example_features[:,0] # let's compute the derivative with respect to 'constant', the \":\" indicates \"all rows\"\n",
    "derivative = feature_derivative(errors, feature)\n",
    "print(derivative)\n",
    "print(-np.sum(example_output)*2)# should be the same as derivative\n",
    "print(example_output)\n",
    "print(errors)\n",
    "print(feature)"
   ]
  },
  {
   "cell_type": "markdown",
   "metadata": {},
   "source": [
    " Now we will use our predict_output and feature_derivative to write a gradient descent function"
   ]
  },
  {
   "cell_type": "markdown",
   "metadata": {
    "ExecuteTime": {
     "end_time": "2018-02-28T11:30:21.675491Z",
     "start_time": "2018-02-28T11:30:21.663990Z"
    }
   },
   "source": [
    "Write a gradient descent function that does the following:\n",
    "\n",
    "- Accepts:\n",
    "    - a  feature_matrix 2D array, \n",
    "    - a 1D output array, \n",
    "    - an array of initial weights, \n",
    "    - a step size and a convergence tolerance.\n",
    "- While not converged updates each feature weight by subtracting the step size times the derivative for that feature given the current weights\n",
    "- At each step computes the magnitude/length of the gradient (square root of the sum of squared components)\n",
    "- When the magnitude of the gradient is smaller than the input tolerance returns the final weight vector."
   ]
  },
  {
   "cell_type": "code",
   "execution_count": 18,
   "metadata": {
    "ExecuteTime": {
     "end_time": "2018-02-28T14:10:13.214647Z",
     "start_time": "2018-02-28T14:10:13.167636Z"
    }
   },
   "outputs": [],
   "source": [
    "def regression_gradient_descent(feature_matrix, output, initial_weights, step_size, tolerance):\n",
    "    from math import sqrt\n",
    "    converged = False\n",
    "    weights= np.array(initial_weights,dtype=object)\n",
    "    \n",
    "    while not converged:\n",
    "        predictions = predict_output(feature_matrix, weights)\n",
    "        error = predictions - output\n",
    "        \n",
    "        gradient_sum_squares = 0.0 #init the gradient\n",
    "        #while not converged update each weight\n",
    "        for i in range(len(weights)):\n",
    "            derivative = feature_derivative(error, feature_matrix[:,i])\n",
    "            gradient_sum_squares += derivative**2\n",
    "            weights[i] =weights[i]- (step_size * derivative)\n",
    "        \n",
    "        gradient_magnitude = sqrt(gradient_sum_squares)\n",
    "        if gradient_magnitude < tolerance:\n",
    "            converged = True\n",
    "    return weights"
   ]
  },
  {
   "cell_type": "code",
   "execution_count": 19,
   "metadata": {
    "ExecuteTime": {
     "end_time": "2018-02-28T14:10:15.325470Z",
     "start_time": "2018-02-28T14:10:15.234890Z"
    }
   },
   "outputs": [],
   "source": [
    "# test\n",
    "# params to use\n",
    "simple_features = ['sqft_living']\n",
    "my_output= 'price'\n",
    "(simple_feature_matrix, output) = get_data(train, simple_features, my_output)\n",
    "initial_weights = np.array([-47000., 1.])\n",
    "step_size = 7e-12\n",
    "tolerance = 2.5e7\n",
    "\n",
    "simple_weights = regression_gradient_descent(simple_feature_matrix, output,initial_weights, step_size, tolerance)"
   ]
  },
  {
   "cell_type": "code",
   "execution_count": 20,
   "metadata": {
    "ExecuteTime": {
     "end_time": "2018-02-28T14:10:16.755632Z",
     "start_time": "2018-02-28T14:10:16.750634Z"
    }
   },
   "outputs": [
    {
     "data": {
      "text/plain": [
       "array([-46999.88716554671, 281.91211917520917], dtype=object)"
      ]
     },
     "execution_count": 20,
     "metadata": {},
     "output_type": "execute_result"
    }
   ],
   "source": [
    "simple_weights"
   ]
  },
  {
   "cell_type": "markdown",
   "metadata": {},
   "source": [
    "# Q1 What is the value of the weight for sqft_living from your gradient descent predicting house prices (model 1)? Round your answer to 1 decimal place."
   ]
  },
  {
   "cell_type": "code",
   "execution_count": 21,
   "metadata": {
    "ExecuteTime": {
     "end_time": "2018-02-28T14:10:17.758643Z",
     "start_time": "2018-02-28T14:10:17.753643Z"
    }
   },
   "outputs": [
    {
     "data": {
      "text/plain": [
       "281.91211917520917"
      ]
     },
     "execution_count": 21,
     "metadata": {},
     "output_type": "execute_result"
    }
   ],
   "source": [
    "ans1= simple_weights[1]\n",
    "ans1"
   ]
  },
  {
   "cell_type": "markdown",
   "metadata": {},
   "source": [
    "# Q2: What is the predicted price for the 1st house in the Test data set for model 1 (round to nearest dollar)?"
   ]
  },
  {
   "cell_type": "code",
   "execution_count": 12,
   "metadata": {
    "ExecuteTime": {
     "end_time": "2018-02-28T14:06:24.482263Z",
     "start_time": "2018-02-28T14:06:24.476263Z"
    }
   },
   "outputs": [],
   "source": [
    "(test_simple_feature_matrix, test_output)=get_data(test, simple_features, my_output)"
   ]
  },
  {
   "cell_type": "code",
   "execution_count": 13,
   "metadata": {
    "ExecuteTime": {
     "end_time": "2018-02-28T14:06:25.103293Z",
     "start_time": "2018-02-28T14:06:25.096268Z"
    }
   },
   "outputs": [
    {
     "data": {
      "text/plain": [
       "356134.4432550024"
      ]
     },
     "execution_count": 13,
     "metadata": {},
     "output_type": "execute_result"
    }
   ],
   "source": [
    "test_predictions = predict_output(test_simple_feature_matrix, simple_weights)\n",
    "test_predictions[0]"
   ]
  },
  {
   "cell_type": "markdown",
   "metadata": {
    "ExecuteTime": {
     "end_time": "2018-02-28T12:24:49.653539Z",
     "start_time": "2018-02-28T12:24:49.649039Z"
    }
   },
   "source": [
    "# Q3 What is the predicted price for the 1st house in the TEST data set for model 2 (round to nearest dollar)?\n",
    "\n"
   ]
  },
  {
   "cell_type": "code",
   "execution_count": 14,
   "metadata": {
    "ExecuteTime": {
     "end_time": "2018-02-28T14:06:27.046825Z",
     "start_time": "2018-02-28T14:06:27.039823Z"
    }
   },
   "outputs": [
    {
     "data": {
      "text/plain": [
       "275400044902128.78"
      ]
     },
     "execution_count": 14,
     "metadata": {},
     "output_type": "execute_result"
    }
   ],
   "source": [
    "test_residuals = test_output - test_predictions\n",
    "test_rss = (test_residuals**2).sum()\n",
    "test_rss"
   ]
  },
  {
   "cell_type": "code",
   "execution_count": 25,
   "metadata": {
    "ExecuteTime": {
     "end_time": "2018-02-28T14:13:24.665507Z",
     "start_time": "2018-02-28T14:13:24.658193Z"
    }
   },
   "outputs": [],
   "source": [
    "model_features = [\"sqft_living\", \"sqft_living15\"]\n",
    "my_output = \"price\"\n",
    "initial_weights =np.array([-100000., 1., 1.]) #intercept, sqft_living, and sqft_living_15 respectively)\n",
    "step_size = 4e-12\n",
    "tolerance = 1e9"
   ]
  },
  {
   "cell_type": "code",
   "execution_count": 26,
   "metadata": {
    "ExecuteTime": {
     "end_time": "2018-02-28T14:13:26.172667Z",
     "start_time": "2018-02-28T14:13:26.166666Z"
    }
   },
   "outputs": [],
   "source": [
    "(feature_matrix, output) = get_data(train, model_features, my_output)"
   ]
  },
  {
   "cell_type": "code",
   "execution_count": 27,
   "metadata": {
    "ExecuteTime": {
     "end_time": "2018-02-28T14:13:31.900214Z",
     "start_time": "2018-02-28T14:13:29.821695Z"
    }
   },
   "outputs": [],
   "source": [
    "weights2= regression_gradient_descent(feature_matrix, output,initial_weights, step_size, tolerance)"
   ]
  },
  {
   "cell_type": "code",
   "execution_count": 28,
   "metadata": {
    "ExecuteTime": {
     "end_time": "2018-02-28T14:13:40.497696Z",
     "start_time": "2018-02-28T14:13:40.491696Z"
    }
   },
   "outputs": [
    {
     "data": {
      "text/plain": [
       "array([-99999.96884887619, 245.0726034645802, 65.27952669888788], dtype=object)"
      ]
     },
     "execution_count": 28,
     "metadata": {},
     "output_type": "execute_result"
    }
   ],
   "source": [
    "weights2"
   ]
  },
  {
   "cell_type": "code",
   "execution_count": 34,
   "metadata": {
    "ExecuteTime": {
     "end_time": "2018-02-28T14:27:27.978481Z",
     "start_time": "2018-02-28T14:27:27.967922Z"
    }
   },
   "outputs": [
    {
     "data": {
      "text/plain": [
       "366651.41162949393"
      ]
     },
     "execution_count": 34,
     "metadata": {},
     "output_type": "execute_result"
    }
   ],
   "source": [
    "(feat_matrix_test, test_output)=get_data(test, model_features, my_output)\n",
    "predict_2=predict_output(feat_matrix_test, weights2)\n",
    "predict_2[0]"
   ]
  },
  {
   "cell_type": "markdown",
   "metadata": {},
   "source": [
    "# Which estimate was closer to the true price for the 1st house on the TEST data set, model 1 or model 2?"
   ]
  },
  {
   "cell_type": "code",
   "execution_count": 33,
   "metadata": {
    "ExecuteTime": {
     "end_time": "2018-02-28T14:25:11.175925Z",
     "start_time": "2018-02-28T14:25:11.166919Z"
    },
    "collapsed": true
   },
   "outputs": [
    {
     "data": {
      "text/plain": [
       "id                    0114101516\n",
       "date             20140528T000000\n",
       "price                     310000\n",
       "bedrooms                       3\n",
       "bathrooms                      1\n",
       "sqft_living                 1430\n",
       "sqft_lot                   19901\n",
       "floors                       1.5\n",
       "waterfront                     0\n",
       "view                           0\n",
       "condition                      4\n",
       "grade                          7\n",
       "sqft_above                  1430\n",
       "sqft_basement                  0\n",
       "yr_built                    1927\n",
       "yr_renovated                   0\n",
       "zipcode                    98028\n",
       "lat                      47.7558\n",
       "long                    -122.229\n",
       "sqft_living15               1780\n",
       "sqft_lot15                 12697\n",
       "constant                       1\n",
       "Name: 0, dtype: object"
      ]
     },
     "execution_count": 33,
     "metadata": {},
     "output_type": "execute_result"
    }
   ],
   "source": [
    "test.iloc[0]"
   ]
  },
  {
   "cell_type": "markdown",
   "metadata": {},
   "source": [
    "# Which model (1 or 2) has lowest RSS on all of the TEST data?\n",
    "\n"
   ]
  },
  {
   "cell_type": "code",
   "execution_count": 35,
   "metadata": {
    "ExecuteTime": {
     "end_time": "2018-02-28T14:28:09.958933Z",
     "start_time": "2018-02-28T14:28:09.950934Z"
    }
   },
   "outputs": [
    {
     "data": {
      "text/plain": [
       "270263443629803.4"
      ]
     },
     "execution_count": 35,
     "metadata": {},
     "output_type": "execute_result"
    }
   ],
   "source": [
    "test_rss_2=test_output -  predict_2\n",
    "test_rss_2 = (test_rss_2**2).sum()\n",
    "test_rss_2"
   ]
  },
  {
   "cell_type": "code",
   "execution_count": null,
   "metadata": {},
   "outputs": [],
   "source": []
  }
 ],
 "metadata": {
  "kernelspec": {
   "display_name": "Python 3",
   "language": "python",
   "name": "python3"
  },
  "language_info": {
   "codemirror_mode": {
    "name": "ipython",
    "version": 3
   },
   "file_extension": ".py",
   "mimetype": "text/x-python",
   "name": "python",
   "nbconvert_exporter": "python",
   "pygments_lexer": "ipython3",
   "version": "3.6.3"
  },
  "toc": {
   "nav_menu": {},
   "number_sections": true,
   "sideBar": true,
   "skip_h1_title": false,
   "title_cell": "Table of Contents",
   "title_sidebar": "Contents",
   "toc_cell": false,
   "toc_position": {},
   "toc_section_display": true,
   "toc_window_display": false
  },
  "varInspector": {
   "cols": {
    "lenName": 16,
    "lenType": 16,
    "lenVar": 40
   },
   "kernels_config": {
    "python": {
     "delete_cmd_postfix": "",
     "delete_cmd_prefix": "del ",
     "library": "var_list.py",
     "varRefreshCmd": "print(var_dic_list())"
    },
    "r": {
     "delete_cmd_postfix": ") ",
     "delete_cmd_prefix": "rm(",
     "library": "var_list.r",
     "varRefreshCmd": "cat(var_dic_list()) "
    }
   },
   "types_to_exclude": [
    "module",
    "function",
    "builtin_function_or_method",
    "instance",
    "_Feature"
   ],
   "window_display": false
  }
 },
 "nbformat": 4,
 "nbformat_minor": 2
}
