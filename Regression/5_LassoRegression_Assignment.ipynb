{
 "cells": [
  {
   "cell_type": "markdown",
   "metadata": {},
   "source": [
    "In this assignment, you will use LASSO to select features, building on a pre-implemented solver for LASSO (using GraphLab Create, though you can use other solvers). You will:\n",
    "\n",
    "- Run LASSO with different L1 penalties.\n",
    "- Choose best L1 penalty using a validation set.\n",
    "- Choose best L1 penalty using a validation set, with additional constraint on the size of subset.\n",
    "- In the second assignment, you will implement your own LASSO solver, using coordinate descent."
   ]
  },
  {
   "cell_type": "code",
   "execution_count": 1,
   "metadata": {
    "ExecuteTime": {
     "end_time": "2018-03-30T10:46:15.142843Z",
     "start_time": "2018-03-30T10:46:10.736595Z"
    }
   },
   "outputs": [],
   "source": [
    "import pandas as pd \n",
    "import numpy as np\n",
    "from sklearn.linear_model import Lasso"
   ]
  },
  {
   "cell_type": "code",
   "execution_count": 2,
   "metadata": {
    "ExecuteTime": {
     "end_time": "2018-03-30T10:46:15.152876Z",
     "start_time": "2018-03-30T10:46:15.144392Z"
    }
   },
   "outputs": [],
   "source": [
    "def Coeff3(x, features):\n",
    "    '''Prints intercept and coeff in a better format\n",
    "    \n",
    "    Paramaters:\n",
    "    ------------\n",
    "    x : name of model\n",
    "    power: int,  degree of polynomial function\n",
    "    \n",
    "    Returns: Coefficients table'''\n",
    "    \n",
    "    coef_df=pd.DataFrame()\n",
    "    coef_df=coef_df.append({\"Name\":'Intercept', 'Value':x.intercept_}, ignore_index=True)\n",
    "    coef_df=coef_df.append({'Name':{'name':features,'Value':x.coef_}}, ignore_index=True)\n",
    "    \n",
    "    #if power > 1:\n",
    "     #   for power in range(2, power+1):\n",
    "      #      name= 'Power_' + str(power)\n",
    "       #     coef_df=coef_df.append({\"Name\":name, 'Value':'{:.3e}'.format(x.coef_[power-1])}, ignore_index=True)\n",
    "    \n",
    "    return coef_df"
   ]
  },
  {
   "cell_type": "code",
   "execution_count": 3,
   "metadata": {
    "ExecuteTime": {
     "end_time": "2018-03-30T10:46:15.230357Z",
     "start_time": "2018-03-30T10:46:15.154882Z"
    }
   },
   "outputs": [],
   "source": [
    "dtype_dict = {'bathrooms':float, 'waterfront':int, 'sqft_above':int, 'sqft_living15':float, 'grade':int, 'yr_renovated':int, 'price':float, 'bedrooms':float, 'zipcode':str, 'long':float, 'sqft_lot15':float, 'sqft_living':float, 'floors':float, 'condition':int, 'lat':float, 'date':str, 'sqft_basement':int, 'yr_built':int, 'id':str, 'sqft_lot':int, 'view':int}\n",
    "\n",
    "sales = pd.read_csv('kc_house_data.csv', dtype=dtype_dict)"
   ]
  },
  {
   "cell_type": "code",
   "execution_count": 4,
   "metadata": {
    "ExecuteTime": {
     "end_time": "2018-03-30T10:46:15.248633Z",
     "start_time": "2018-03-30T10:46:15.232087Z"
    }
   },
   "outputs": [],
   "source": [
    "from math import log, sqrt\n",
    "sales['sqft_living_sqrt'] = sales['sqft_living'].apply(sqrt)\n",
    "sales['sqft_lot_sqrt'] = sales['sqft_lot'].apply(sqrt)\n",
    "sales['bedrooms_square'] = sales['bedrooms']*sales['bedrooms']\n",
    "sales['floors_square'] = sales['floors']*sales['floors']"
   ]
  },
  {
   "cell_type": "markdown",
   "metadata": {},
   "source": [
    "# learn regression"
   ]
  },
  {
   "cell_type": "code",
   "execution_count": 5,
   "metadata": {
    "ExecuteTime": {
     "end_time": "2018-03-30T10:46:15.258157Z",
     "start_time": "2018-03-30T10:46:15.250135Z"
    }
   },
   "outputs": [],
   "source": [
    "all_features = ['bedrooms', 'bedrooms_square',\n",
    "            'bathrooms',\n",
    "            'sqft_living', 'sqft_living_sqrt',\n",
    "            'sqft_lot', 'sqft_lot_sqrt',\n",
    "            'floors', 'floors_square',\n",
    "            'waterfront', 'view', 'condition', 'grade',\n",
    "            'sqft_above',\n",
    "            'sqft_basement',\n",
    "            'yr_built', 'yr_renovated']"
   ]
  },
  {
   "cell_type": "code",
   "execution_count": 6,
   "metadata": {
    "ExecuteTime": {
     "end_time": "2018-03-30T10:46:15.394619Z",
     "start_time": "2018-03-30T10:46:15.260162Z"
    }
   },
   "outputs": [],
   "source": [
    "X=sales[all_features]\n",
    "y=sales['price']\n",
    "model_all=Lasso(alpha=5e2, normalize=True).fit(X,y)"
   ]
  },
  {
   "cell_type": "code",
   "execution_count": 7,
   "metadata": {
    "ExecuteTime": {
     "end_time": "2018-03-30T10:46:15.405588Z",
     "start_time": "2018-03-30T10:46:15.396061Z"
    }
   },
   "outputs": [
    {
     "data": {
      "text/plain": [
       "array([    0.        ,     0.        ,     0.        ,   134.43931396,\n",
       "           0.        ,     0.        ,     0.        ,     0.        ,\n",
       "           0.        ,     0.        , 24750.00458561,     0.        ,\n",
       "       61749.10309071,     0.        ,     0.        ,    -0.        ,\n",
       "           0.        ])"
      ]
     },
     "execution_count": 7,
     "metadata": {},
     "output_type": "execute_result"
    }
   ],
   "source": [
    "coef=model_all.coef_\n",
    "coef"
   ]
  },
  {
   "cell_type": "code",
   "execution_count": 8,
   "metadata": {
    "ExecuteTime": {
     "end_time": "2018-03-30T10:46:15.417119Z",
     "start_time": "2018-03-30T10:46:15.407593Z"
    }
   },
   "outputs": [],
   "source": [
    "df=pd.DataFrame(data={'features':all_features, 'Coeff':coef.round(2)})"
   ]
  },
  {
   "cell_type": "code",
   "execution_count": 9,
   "metadata": {
    "ExecuteTime": {
     "end_time": "2018-03-30T10:46:15.433662Z",
     "start_time": "2018-03-30T10:46:15.419123Z"
    }
   },
   "outputs": [
    {
     "data": {
      "text/html": [
       "<div>\n",
       "<style>\n",
       "    .dataframe thead tr:only-child th {\n",
       "        text-align: right;\n",
       "    }\n",
       "\n",
       "    .dataframe thead th {\n",
       "        text-align: left;\n",
       "    }\n",
       "\n",
       "    .dataframe tbody tr th {\n",
       "        vertical-align: top;\n",
       "    }\n",
       "</style>\n",
       "<table border=\"1\" class=\"dataframe\">\n",
       "  <thead>\n",
       "    <tr style=\"text-align: right;\">\n",
       "      <th></th>\n",
       "      <th>Coeff</th>\n",
       "      <th>features</th>\n",
       "    </tr>\n",
       "  </thead>\n",
       "  <tbody>\n",
       "    <tr>\n",
       "      <th>0</th>\n",
       "      <td>0.00</td>\n",
       "      <td>bedrooms</td>\n",
       "    </tr>\n",
       "    <tr>\n",
       "      <th>1</th>\n",
       "      <td>0.00</td>\n",
       "      <td>bedrooms_square</td>\n",
       "    </tr>\n",
       "    <tr>\n",
       "      <th>2</th>\n",
       "      <td>0.00</td>\n",
       "      <td>bathrooms</td>\n",
       "    </tr>\n",
       "    <tr>\n",
       "      <th>3</th>\n",
       "      <td>134.44</td>\n",
       "      <td>sqft_living</td>\n",
       "    </tr>\n",
       "    <tr>\n",
       "      <th>4</th>\n",
       "      <td>0.00</td>\n",
       "      <td>sqft_living_sqrt</td>\n",
       "    </tr>\n",
       "    <tr>\n",
       "      <th>5</th>\n",
       "      <td>0.00</td>\n",
       "      <td>sqft_lot</td>\n",
       "    </tr>\n",
       "    <tr>\n",
       "      <th>6</th>\n",
       "      <td>0.00</td>\n",
       "      <td>sqft_lot_sqrt</td>\n",
       "    </tr>\n",
       "    <tr>\n",
       "      <th>7</th>\n",
       "      <td>0.00</td>\n",
       "      <td>floors</td>\n",
       "    </tr>\n",
       "    <tr>\n",
       "      <th>8</th>\n",
       "      <td>0.00</td>\n",
       "      <td>floors_square</td>\n",
       "    </tr>\n",
       "    <tr>\n",
       "      <th>9</th>\n",
       "      <td>0.00</td>\n",
       "      <td>waterfront</td>\n",
       "    </tr>\n",
       "    <tr>\n",
       "      <th>10</th>\n",
       "      <td>24750.00</td>\n",
       "      <td>view</td>\n",
       "    </tr>\n",
       "    <tr>\n",
       "      <th>11</th>\n",
       "      <td>0.00</td>\n",
       "      <td>condition</td>\n",
       "    </tr>\n",
       "    <tr>\n",
       "      <th>12</th>\n",
       "      <td>61749.10</td>\n",
       "      <td>grade</td>\n",
       "    </tr>\n",
       "    <tr>\n",
       "      <th>13</th>\n",
       "      <td>0.00</td>\n",
       "      <td>sqft_above</td>\n",
       "    </tr>\n",
       "    <tr>\n",
       "      <th>14</th>\n",
       "      <td>0.00</td>\n",
       "      <td>sqft_basement</td>\n",
       "    </tr>\n",
       "    <tr>\n",
       "      <th>15</th>\n",
       "      <td>-0.00</td>\n",
       "      <td>yr_built</td>\n",
       "    </tr>\n",
       "    <tr>\n",
       "      <th>16</th>\n",
       "      <td>0.00</td>\n",
       "      <td>yr_renovated</td>\n",
       "    </tr>\n",
       "  </tbody>\n",
       "</table>\n",
       "</div>"
      ],
      "text/plain": [
       "       Coeff          features\n",
       "0       0.00          bedrooms\n",
       "1       0.00   bedrooms_square\n",
       "2       0.00         bathrooms\n",
       "3     134.44       sqft_living\n",
       "4       0.00  sqft_living_sqrt\n",
       "5       0.00          sqft_lot\n",
       "6       0.00     sqft_lot_sqrt\n",
       "7       0.00            floors\n",
       "8       0.00     floors_square\n",
       "9       0.00        waterfront\n",
       "10  24750.00              view\n",
       "11      0.00         condition\n",
       "12  61749.10             grade\n",
       "13      0.00        sqft_above\n",
       "14      0.00     sqft_basement\n",
       "15     -0.00          yr_built\n",
       "16      0.00      yr_renovated"
      ]
     },
     "execution_count": 9,
     "metadata": {},
     "output_type": "execute_result"
    }
   ],
   "source": [
    "df"
   ]
  },
  {
   "cell_type": "markdown",
   "metadata": {
    "ExecuteTime": {
     "end_time": "2018-03-30T10:16:20.766361Z",
     "start_time": "2018-03-30T10:16:20.762852Z"
    }
   },
   "source": [
    "# find best L1 penalty"
   ]
  },
  {
   "cell_type": "code",
   "execution_count": 10,
   "metadata": {
    "ExecuteTime": {
     "end_time": "2018-03-30T10:46:15.525406Z",
     "start_time": "2018-03-30T10:46:15.435165Z"
    }
   },
   "outputs": [],
   "source": [
    "testing = pd.read_csv('wk3_kc_house_test_data.csv', dtype=dtype_dict)\n",
    "training = pd.read_csv('wk3_kc_house_train_data.csv', dtype=dtype_dict)\n",
    "validation = pd.read_csv('wk3_kc_house_valid_data.csv', dtype=dtype_dict)"
   ]
  },
  {
   "cell_type": "code",
   "execution_count": 11,
   "metadata": {
    "ExecuteTime": {
     "end_time": "2018-03-30T10:46:15.564007Z",
     "start_time": "2018-03-30T10:46:15.526910Z"
    }
   },
   "outputs": [],
   "source": [
    "testing['sqft_living_sqrt'] = testing['sqft_living'].apply(sqrt)\n",
    "testing['sqft_lot_sqrt'] = testing['sqft_lot'].apply(sqrt)\n",
    "testing['bedrooms_square'] = testing['bedrooms']*testing['bedrooms']\n",
    "testing['floors_square'] = testing['floors']*testing['floors']\n",
    "\n",
    "training['sqft_living_sqrt'] = training['sqft_living'].apply(sqrt)\n",
    "training['sqft_lot_sqrt'] = training['sqft_lot'].apply(sqrt)\n",
    "training['bedrooms_square'] = training['bedrooms']*training['bedrooms']\n",
    "training['floors_square'] = training['floors']*training['floors']\n",
    "\n",
    "validation['sqft_living_sqrt'] = validation['sqft_living'].apply(sqrt)\n",
    "validation['sqft_lot_sqrt'] = validation['sqft_lot'].apply(sqrt)\n",
    "validation['bedrooms_square'] = validation['bedrooms']*validation['bedrooms']\n",
    "validation['floors_square'] = validation['floors']*validation['floors']"
   ]
  },
  {
   "cell_type": "code",
   "execution_count": 12,
   "metadata": {
    "ExecuteTime": {
     "end_time": "2018-03-30T10:46:15.579548Z",
     "start_time": "2018-03-30T10:46:15.565512Z"
    }
   },
   "outputs": [],
   "source": [
    "L1_penalties=np.logspace(1,7,num=13)\n",
    "X_train= training[all_features]\n",
    "y_train = training['price']\n",
    "\n",
    "X_valid= validation[all_features]\n",
    "y_valid= validation['price']\n",
    "\n",
    "X_test= testing[all_features]\n",
    "y_test = testing['price']"
   ]
  },
  {
   "cell_type": "code",
   "execution_count": 13,
   "metadata": {
    "ExecuteTime": {
     "end_time": "2018-03-30T10:46:15.765544Z",
     "start_time": "2018-03-30T10:46:15.581053Z"
    }
   },
   "outputs": [
    {
     "name": "stdout",
     "output_type": "stream",
     "text": [
      "For this L1: 10.0, the RSS is: 3.982e+14\n",
      "\n",
      "For this L1: 31.622776601683793, the RSS is: 3.990e+14\n",
      "\n",
      "For this L1: 100.0, the RSS is: 4.298e+14\n",
      "\n",
      "For this L1: 316.22776601683796, the RSS is: 4.637e+14\n",
      "\n",
      "For this L1: 1000.0, the RSS is: 6.459e+14\n",
      "\n",
      "For this L1: 3162.2776601683795, the RSS is: 1.223e+15\n",
      "\n",
      "For this L1: 10000.0, the RSS is: 1.223e+15\n",
      "\n",
      "For this L1: 31622.776601683792, the RSS is: 1.223e+15\n",
      "\n",
      "For this L1: 100000.0, the RSS is: 1.223e+15\n",
      "\n",
      "For this L1: 316227.7660168379, the RSS is: 1.223e+15\n",
      "\n",
      "For this L1: 1000000.0, the RSS is: 1.223e+15\n",
      "\n",
      "For this L1: 3162277.6601683795, the RSS is: 1.223e+15\n",
      "\n",
      "For this L1: 10000000.0, the RSS is: 1.223e+15\n",
      "\n"
     ]
    }
   ],
   "source": [
    "for L1 in L1_penalties:\n",
    "    model =Lasso(alpha= L1, normalize=True).fit(X_train, y_train)\n",
    "    prediction = model.predict(X_valid)\n",
    "    RSS= ( (prediction - y_valid)**2 ).sum()\n",
    "    print('For this L1: {}, the RSS is: {:.3e}\\n'.format(L1, round(RSS,3)))"
   ]
  },
  {
   "cell_type": "code",
   "execution_count": 14,
   "metadata": {
    "ExecuteTime": {
     "end_time": "2018-03-30T10:46:15.856786Z",
     "start_time": "2018-03-30T10:46:15.767048Z"
    }
   },
   "outputs": [
    {
     "name": "stdout",
     "output_type": "stream",
     "text": [
      "9.847e+13\n"
     ]
    }
   ],
   "source": [
    "best_model=Lasso(alpha=10, normalize=True).fit(X_train,y_train)\n",
    "prediction_test=best_model.predict(X_test)\n",
    "RSS_test = ( (prediction_test-y_test)**2 ).sum()\n",
    "print('{:.3e}'.format(RSS_test))"
   ]
  },
  {
   "cell_type": "code",
   "execution_count": 15,
   "metadata": {
    "ExecuteTime": {
     "end_time": "2018-03-30T10:46:15.865310Z",
     "start_time": "2018-03-30T10:46:15.859294Z"
    }
   },
   "outputs": [
    {
     "data": {
      "text/plain": [
       "(15, 6630155.668628358)"
      ]
     },
     "execution_count": 15,
     "metadata": {},
     "output_type": "execute_result"
    }
   ],
   "source": [
    "# non zero features\n",
    "\n",
    "np.count_nonzero(best_model.coef_) + np.count_nonzero(best_model.intercept_), best_model.intercept_\n"
   ]
  },
  {
   "cell_type": "code",
   "execution_count": 16,
   "metadata": {
    "ExecuteTime": {
     "end_time": "2018-03-30T10:46:15.878343Z",
     "start_time": "2018-03-30T10:46:15.867315Z"
    }
   },
   "outputs": [],
   "source": [
    "coef2=best_model.coef_\n",
    "df=pd.DataFrame(data={'features':all_features, 'Coeff':coef2.round(2)})\n"
   ]
  },
  {
   "cell_type": "code",
   "execution_count": 17,
   "metadata": {
    "ExecuteTime": {
     "end_time": "2018-03-30T10:46:15.896893Z",
     "start_time": "2018-03-30T10:46:15.880349Z"
    }
   },
   "outputs": [
    {
     "data": {
      "text/html": [
       "<div>\n",
       "<style>\n",
       "    .dataframe thead tr:only-child th {\n",
       "        text-align: right;\n",
       "    }\n",
       "\n",
       "    .dataframe thead th {\n",
       "        text-align: left;\n",
       "    }\n",
       "\n",
       "    .dataframe tbody tr th {\n",
       "        vertical-align: top;\n",
       "    }\n",
       "</style>\n",
       "<table border=\"1\" class=\"dataframe\">\n",
       "  <thead>\n",
       "    <tr style=\"text-align: right;\">\n",
       "      <th></th>\n",
       "      <th>Coeff</th>\n",
       "      <th>features</th>\n",
       "    </tr>\n",
       "  </thead>\n",
       "  <tbody>\n",
       "    <tr>\n",
       "      <th>0</th>\n",
       "      <td>-16144.56</td>\n",
       "      <td>bedrooms</td>\n",
       "    </tr>\n",
       "    <tr>\n",
       "      <th>1</th>\n",
       "      <td>373.25</td>\n",
       "      <td>bedrooms_square</td>\n",
       "    </tr>\n",
       "    <tr>\n",
       "      <th>2</th>\n",
       "      <td>50841.24</td>\n",
       "      <td>bathrooms</td>\n",
       "    </tr>\n",
       "    <tr>\n",
       "      <th>3</th>\n",
       "      <td>617.85</td>\n",
       "      <td>sqft_living</td>\n",
       "    </tr>\n",
       "    <tr>\n",
       "      <th>4</th>\n",
       "      <td>-44411.35</td>\n",
       "      <td>sqft_living_sqrt</td>\n",
       "    </tr>\n",
       "    <tr>\n",
       "      <th>5</th>\n",
       "      <td>0.79</td>\n",
       "      <td>sqft_lot</td>\n",
       "    </tr>\n",
       "    <tr>\n",
       "      <th>6</th>\n",
       "      <td>-701.19</td>\n",
       "      <td>sqft_lot_sqrt</td>\n",
       "    </tr>\n",
       "    <tr>\n",
       "      <th>7</th>\n",
       "      <td>-0.00</td>\n",
       "      <td>floors</td>\n",
       "    </tr>\n",
       "    <tr>\n",
       "      <th>8</th>\n",
       "      <td>5014.20</td>\n",
       "      <td>floors_square</td>\n",
       "    </tr>\n",
       "    <tr>\n",
       "      <th>9</th>\n",
       "      <td>619488.75</td>\n",
       "      <td>waterfront</td>\n",
       "    </tr>\n",
       "    <tr>\n",
       "      <th>10</th>\n",
       "      <td>38041.86</td>\n",
       "      <td>view</td>\n",
       "    </tr>\n",
       "    <tr>\n",
       "      <th>11</th>\n",
       "      <td>24998.77</td>\n",
       "      <td>condition</td>\n",
       "    </tr>\n",
       "    <tr>\n",
       "      <th>12</th>\n",
       "      <td>128716.23</td>\n",
       "      <td>grade</td>\n",
       "    </tr>\n",
       "    <tr>\n",
       "      <th>13</th>\n",
       "      <td>0.00</td>\n",
       "      <td>sqft_above</td>\n",
       "    </tr>\n",
       "    <tr>\n",
       "      <th>14</th>\n",
       "      <td>0.00</td>\n",
       "      <td>sqft_basement</td>\n",
       "    </tr>\n",
       "    <tr>\n",
       "      <th>15</th>\n",
       "      <td>-3293.83</td>\n",
       "      <td>yr_built</td>\n",
       "    </tr>\n",
       "    <tr>\n",
       "      <th>16</th>\n",
       "      <td>10.06</td>\n",
       "      <td>yr_renovated</td>\n",
       "    </tr>\n",
       "  </tbody>\n",
       "</table>\n",
       "</div>"
      ],
      "text/plain": [
       "        Coeff          features\n",
       "0   -16144.56          bedrooms\n",
       "1      373.25   bedrooms_square\n",
       "2    50841.24         bathrooms\n",
       "3      617.85       sqft_living\n",
       "4   -44411.35  sqft_living_sqrt\n",
       "5        0.79          sqft_lot\n",
       "6     -701.19     sqft_lot_sqrt\n",
       "7       -0.00            floors\n",
       "8     5014.20     floors_square\n",
       "9   619488.75        waterfront\n",
       "10   38041.86              view\n",
       "11   24998.77         condition\n",
       "12  128716.23             grade\n",
       "13       0.00        sqft_above\n",
       "14       0.00     sqft_basement\n",
       "15   -3293.83          yr_built\n",
       "16      10.06      yr_renovated"
      ]
     },
     "execution_count": 17,
     "metadata": {},
     "output_type": "execute_result"
    }
   ],
   "source": [
    "df"
   ]
  },
  {
   "cell_type": "markdown",
   "metadata": {
    "ExecuteTime": {
     "end_time": "2018-03-30T10:35:31.887463Z",
     "start_time": "2018-03-30T10:35:31.884459Z"
    }
   },
   "source": [
    "# limit ourself to only 7 features "
   ]
  },
  {
   "cell_type": "code",
   "execution_count": 18,
   "metadata": {
    "ExecuteTime": {
     "end_time": "2018-03-30T10:46:15.908925Z",
     "start_time": "2018-03-30T10:46:15.898899Z"
    }
   },
   "outputs": [],
   "source": [
    "max_nonzeros=7"
   ]
  },
  {
   "cell_type": "code",
   "execution_count": 41,
   "metadata": {
    "ExecuteTime": {
     "end_time": "2018-03-30T11:04:02.432663Z",
     "start_time": "2018-03-30T11:04:02.105797Z"
    }
   },
   "outputs": [],
   "source": [
    "L1_large=np.logspace(1,4, num=20)\n",
    "coef_count= []\n",
    "for L1 in L1_large:\n",
    "    model=Lasso(alpha=L1, normalize=True).fit(X_train, y_train)\n",
    "    count_nonZ=np.count_nonzero(model.coef_) + np.count_nonzero(model.intercept_)\n",
    "    coef_count.append({'L1_value':L1, 'NonZ': count_nonZ})\n",
    "    NonZ=pd.DataFrame(data=coef_count)\n",
    "    \n",
    "    "
   ]
  },
  {
   "cell_type": "code",
   "execution_count": 37,
   "metadata": {
    "ExecuteTime": {
     "end_time": "2018-03-30T10:59:40.291376Z",
     "start_time": "2018-03-30T10:59:40.277806Z"
    }
   },
   "outputs": [
    {
     "data": {
      "text/html": [
       "<div>\n",
       "<style>\n",
       "    .dataframe thead tr:only-child th {\n",
       "        text-align: right;\n",
       "    }\n",
       "\n",
       "    .dataframe thead th {\n",
       "        text-align: left;\n",
       "    }\n",
       "\n",
       "    .dataframe tbody tr th {\n",
       "        vertical-align: top;\n",
       "    }\n",
       "</style>\n",
       "<table border=\"1\" class=\"dataframe\">\n",
       "  <thead>\n",
       "    <tr style=\"text-align: right;\">\n",
       "      <th></th>\n",
       "      <th>L1_value</th>\n",
       "      <th>NonZ</th>\n",
       "    </tr>\n",
       "  </thead>\n",
       "  <tbody>\n",
       "    <tr>\n",
       "      <th>0</th>\n",
       "      <td>10.000000</td>\n",
       "      <td>15</td>\n",
       "    </tr>\n",
       "    <tr>\n",
       "      <th>1</th>\n",
       "      <td>14.384499</td>\n",
       "      <td>15</td>\n",
       "    </tr>\n",
       "    <tr>\n",
       "      <th>2</th>\n",
       "      <td>20.691381</td>\n",
       "      <td>15</td>\n",
       "    </tr>\n",
       "    <tr>\n",
       "      <th>3</th>\n",
       "      <td>29.763514</td>\n",
       "      <td>15</td>\n",
       "    </tr>\n",
       "    <tr>\n",
       "      <th>4</th>\n",
       "      <td>42.813324</td>\n",
       "      <td>13</td>\n",
       "    </tr>\n",
       "    <tr>\n",
       "      <th>5</th>\n",
       "      <td>61.584821</td>\n",
       "      <td>12</td>\n",
       "    </tr>\n",
       "    <tr>\n",
       "      <th>6</th>\n",
       "      <td>88.586679</td>\n",
       "      <td>11</td>\n",
       "    </tr>\n",
       "    <tr>\n",
       "      <th>7</th>\n",
       "      <td>127.427499</td>\n",
       "      <td>10</td>\n",
       "    </tr>\n",
       "    <tr>\n",
       "      <th>8</th>\n",
       "      <td>183.298071</td>\n",
       "      <td>7</td>\n",
       "    </tr>\n",
       "    <tr>\n",
       "      <th>9</th>\n",
       "      <td>263.665090</td>\n",
       "      <td>6</td>\n",
       "    </tr>\n",
       "    <tr>\n",
       "      <th>10</th>\n",
       "      <td>379.269019</td>\n",
       "      <td>6</td>\n",
       "    </tr>\n",
       "    <tr>\n",
       "      <th>11</th>\n",
       "      <td>545.559478</td>\n",
       "      <td>6</td>\n",
       "    </tr>\n",
       "    <tr>\n",
       "      <th>12</th>\n",
       "      <td>784.759970</td>\n",
       "      <td>5</td>\n",
       "    </tr>\n",
       "    <tr>\n",
       "      <th>13</th>\n",
       "      <td>1128.837892</td>\n",
       "      <td>3</td>\n",
       "    </tr>\n",
       "    <tr>\n",
       "      <th>14</th>\n",
       "      <td>1623.776739</td>\n",
       "      <td>3</td>\n",
       "    </tr>\n",
       "    <tr>\n",
       "      <th>15</th>\n",
       "      <td>2335.721469</td>\n",
       "      <td>2</td>\n",
       "    </tr>\n",
       "    <tr>\n",
       "      <th>16</th>\n",
       "      <td>3359.818286</td>\n",
       "      <td>1</td>\n",
       "    </tr>\n",
       "    <tr>\n",
       "      <th>17</th>\n",
       "      <td>4832.930239</td>\n",
       "      <td>1</td>\n",
       "    </tr>\n",
       "    <tr>\n",
       "      <th>18</th>\n",
       "      <td>6951.927962</td>\n",
       "      <td>1</td>\n",
       "    </tr>\n",
       "    <tr>\n",
       "      <th>19</th>\n",
       "      <td>10000.000000</td>\n",
       "      <td>1</td>\n",
       "    </tr>\n",
       "  </tbody>\n",
       "</table>\n",
       "</div>"
      ],
      "text/plain": [
       "        L1_value  NonZ\n",
       "0      10.000000    15\n",
       "1      14.384499    15\n",
       "2      20.691381    15\n",
       "3      29.763514    15\n",
       "4      42.813324    13\n",
       "5      61.584821    12\n",
       "6      88.586679    11\n",
       "7     127.427499    10\n",
       "8     183.298071     7\n",
       "9     263.665090     6\n",
       "10    379.269019     6\n",
       "11    545.559478     6\n",
       "12    784.759970     5\n",
       "13   1128.837892     3\n",
       "14   1623.776739     3\n",
       "15   2335.721469     2\n",
       "16   3359.818286     1\n",
       "17   4832.930239     1\n",
       "18   6951.927962     1\n",
       "19  10000.000000     1"
      ]
     },
     "execution_count": 37,
     "metadata": {},
     "output_type": "execute_result"
    }
   ],
   "source": [
    "NonZ"
   ]
  },
  {
   "cell_type": "code",
   "execution_count": 47,
   "metadata": {
    "ExecuteTime": {
     "end_time": "2018-03-30T11:09:06.703211Z",
     "start_time": "2018-03-30T11:09:06.698198Z"
    }
   },
   "outputs": [],
   "source": [
    "l1_min=127.427499\n",
    "l1_max=263.665090"
   ]
  },
  {
   "cell_type": "markdown",
   "metadata": {},
   "source": [
    "# Exploring narrower range of l1_penalty\n",
    "\n",
    "    find best L1  with lowest RSS and spasity == max_nonzeros"
   ]
  },
  {
   "cell_type": "code",
   "execution_count": 62,
   "metadata": {
    "ExecuteTime": {
     "end_time": "2018-03-30T11:18:16.567186Z",
     "start_time": "2018-03-30T11:18:16.394228Z"
    }
   },
   "outputs": [],
   "source": [
    "L1_range=np.linspace(l1_min, l1_max,20)\n",
    "coef_count2 =[]\n",
    "rss=[]\n",
    "for L1 in L1_range:\n",
    "    model=Lasso(alpha=L1, normalize=True).fit(X_train,y_train)\n",
    "    prediction=model.predict(X_valid)\n",
    "    RSS2 = ( (prediction-y_valid)**2 ).sum()\n",
    "    rss.append(RSS2)\n",
    "    count_nonZ2=np.count_nonzero(model.coef_) + np.count_nonzero(model.intercept_)\n",
    "    coef_count2.append({'L1_value':L1, 'NonZ': count_nonZ2})\n",
    "    NonZ2=pd.DataFrame(data=coef_count2)\n",
    "    NonZ2['RSS']=rss\n"
   ]
  },
  {
   "cell_type": "code",
   "execution_count": 63,
   "metadata": {
    "ExecuteTime": {
     "end_time": "2018-03-30T11:18:17.307056Z",
     "start_time": "2018-03-30T11:18:17.299033Z"
    }
   },
   "outputs": [
    {
     "data": {
      "text/html": [
       "<div>\n",
       "<style>\n",
       "    .dataframe thead tr:only-child th {\n",
       "        text-align: right;\n",
       "    }\n",
       "\n",
       "    .dataframe thead th {\n",
       "        text-align: left;\n",
       "    }\n",
       "\n",
       "    .dataframe tbody tr th {\n",
       "        vertical-align: top;\n",
       "    }\n",
       "</style>\n",
       "<table border=\"1\" class=\"dataframe\">\n",
       "  <thead>\n",
       "    <tr style=\"text-align: right;\">\n",
       "      <th></th>\n",
       "      <th>L1_value</th>\n",
       "      <th>NonZ</th>\n",
       "      <th>RSS</th>\n",
       "    </tr>\n",
       "  </thead>\n",
       "  <tbody>\n",
       "    <tr>\n",
       "      <th>0</th>\n",
       "      <td>127.427499</td>\n",
       "      <td>10</td>\n",
       "      <td>4.353747e+14</td>\n",
       "    </tr>\n",
       "    <tr>\n",
       "      <th>1</th>\n",
       "      <td>134.597899</td>\n",
       "      <td>10</td>\n",
       "      <td>4.370092e+14</td>\n",
       "    </tr>\n",
       "    <tr>\n",
       "      <th>2</th>\n",
       "      <td>141.768298</td>\n",
       "      <td>8</td>\n",
       "      <td>4.382361e+14</td>\n",
       "    </tr>\n",
       "    <tr>\n",
       "      <th>3</th>\n",
       "      <td>148.938698</td>\n",
       "      <td>8</td>\n",
       "      <td>4.391589e+14</td>\n",
       "    </tr>\n",
       "    <tr>\n",
       "      <th>4</th>\n",
       "      <td>156.109097</td>\n",
       "      <td>7</td>\n",
       "      <td>4.400374e+14</td>\n",
       "    </tr>\n",
       "    <tr>\n",
       "      <th>5</th>\n",
       "      <td>163.279497</td>\n",
       "      <td>7</td>\n",
       "      <td>4.407775e+14</td>\n",
       "    </tr>\n",
       "    <tr>\n",
       "      <th>6</th>\n",
       "      <td>170.449896</td>\n",
       "      <td>7</td>\n",
       "      <td>4.415667e+14</td>\n",
       "    </tr>\n",
       "    <tr>\n",
       "      <th>7</th>\n",
       "      <td>177.620296</td>\n",
       "      <td>7</td>\n",
       "      <td>4.424064e+14</td>\n",
       "    </tr>\n",
       "    <tr>\n",
       "      <th>8</th>\n",
       "      <td>184.790695</td>\n",
       "      <td>7</td>\n",
       "      <td>4.432967e+14</td>\n",
       "    </tr>\n",
       "    <tr>\n",
       "      <th>9</th>\n",
       "      <td>191.961095</td>\n",
       "      <td>7</td>\n",
       "      <td>4.442398e+14</td>\n",
       "    </tr>\n",
       "    <tr>\n",
       "      <th>10</th>\n",
       "      <td>199.131494</td>\n",
       "      <td>7</td>\n",
       "      <td>4.452307e+14</td>\n",
       "    </tr>\n",
       "    <tr>\n",
       "      <th>11</th>\n",
       "      <td>206.301894</td>\n",
       "      <td>6</td>\n",
       "      <td>4.462689e+14</td>\n",
       "    </tr>\n",
       "    <tr>\n",
       "      <th>12</th>\n",
       "      <td>213.472293</td>\n",
       "      <td>6</td>\n",
       "      <td>4.471129e+14</td>\n",
       "    </tr>\n",
       "    <tr>\n",
       "      <th>13</th>\n",
       "      <td>220.642693</td>\n",
       "      <td>6</td>\n",
       "      <td>4.479982e+14</td>\n",
       "    </tr>\n",
       "    <tr>\n",
       "      <th>14</th>\n",
       "      <td>227.813092</td>\n",
       "      <td>6</td>\n",
       "      <td>4.489247e+14</td>\n",
       "    </tr>\n",
       "    <tr>\n",
       "      <th>15</th>\n",
       "      <td>234.983492</td>\n",
       "      <td>6</td>\n",
       "      <td>4.498925e+14</td>\n",
       "    </tr>\n",
       "    <tr>\n",
       "      <th>16</th>\n",
       "      <td>242.153891</td>\n",
       "      <td>6</td>\n",
       "      <td>4.509015e+14</td>\n",
       "    </tr>\n",
       "    <tr>\n",
       "      <th>17</th>\n",
       "      <td>249.324291</td>\n",
       "      <td>6</td>\n",
       "      <td>4.519524e+14</td>\n",
       "    </tr>\n",
       "    <tr>\n",
       "      <th>18</th>\n",
       "      <td>256.494690</td>\n",
       "      <td>6</td>\n",
       "      <td>4.530439e+14</td>\n",
       "    </tr>\n",
       "    <tr>\n",
       "      <th>19</th>\n",
       "      <td>263.665090</td>\n",
       "      <td>6</td>\n",
       "      <td>4.541767e+14</td>\n",
       "    </tr>\n",
       "  </tbody>\n",
       "</table>\n",
       "</div>"
      ],
      "text/plain": [
       "      L1_value  NonZ           RSS\n",
       "0   127.427499    10  4.353747e+14\n",
       "1   134.597899    10  4.370092e+14\n",
       "2   141.768298     8  4.382361e+14\n",
       "3   148.938698     8  4.391589e+14\n",
       "4   156.109097     7  4.400374e+14\n",
       "5   163.279497     7  4.407775e+14\n",
       "6   170.449896     7  4.415667e+14\n",
       "7   177.620296     7  4.424064e+14\n",
       "8   184.790695     7  4.432967e+14\n",
       "9   191.961095     7  4.442398e+14\n",
       "10  199.131494     7  4.452307e+14\n",
       "11  206.301894     6  4.462689e+14\n",
       "12  213.472293     6  4.471129e+14\n",
       "13  220.642693     6  4.479982e+14\n",
       "14  227.813092     6  4.489247e+14\n",
       "15  234.983492     6  4.498925e+14\n",
       "16  242.153891     6  4.509015e+14\n",
       "17  249.324291     6  4.519524e+14\n",
       "18  256.494690     6  4.530439e+14\n",
       "19  263.665090     6  4.541767e+14"
      ]
     },
     "execution_count": 63,
     "metadata": {},
     "output_type": "execute_result"
    }
   ],
   "source": [
    "NonZ2"
   ]
  },
  {
   "cell_type": "code",
   "execution_count": 73,
   "metadata": {
    "ExecuteTime": {
     "end_time": "2018-03-30T11:29:02.407262Z",
     "start_time": "2018-03-30T11:29:02.392224Z"
    }
   },
   "outputs": [
    {
     "ename": "AttributeError",
     "evalue": "'list' object has no attribute 'min'",
     "output_type": "error",
     "traceback": [
      "\u001b[1;31m---------------------------------------------------------------------------\u001b[0m",
      "\u001b[1;31mAttributeError\u001b[0m                            Traceback (most recent call last)",
      "\u001b[1;32m<ipython-input-73-0a1820ac3706>\u001b[0m in \u001b[0;36m<module>\u001b[1;34m()\u001b[0m\n\u001b[0;32m      1\u001b[0m \u001b[0mNonZ2\u001b[0m\u001b[1;33m[\u001b[0m\u001b[0mNonZ2\u001b[0m\u001b[1;33m[\u001b[0m\u001b[1;34m'NonZ'\u001b[0m\u001b[1;33m]\u001b[0m \u001b[1;33m==\u001b[0m\u001b[1;36m7\u001b[0m\u001b[1;33m]\u001b[0m\u001b[1;33m[\u001b[0m\u001b[1;34m'RSS'\u001b[0m\u001b[1;33m]\u001b[0m\u001b[1;33m.\u001b[0m\u001b[0mmin\u001b[0m\u001b[1;33m(\u001b[0m\u001b[1;33m)\u001b[0m\u001b[1;33m\u001b[0m\u001b[0m\n\u001b[1;32m----> 2\u001b[1;33m \u001b[0mbestl1\u001b[0m\u001b[1;33m=\u001b[0m\u001b[0mNonZ2\u001b[0m\u001b[1;33m[\u001b[0m \u001b[1;33m[\u001b[0m\u001b[1;34m'RSS'\u001b[0m\u001b[1;33m]\u001b[0m\u001b[1;33m.\u001b[0m\u001b[0mmin\u001b[0m\u001b[1;33m(\u001b[0m\u001b[1;33m)\u001b[0m \u001b[1;33m]\u001b[0m\u001b[1;33m\u001b[0m\u001b[0m\n\u001b[0m",
      "\u001b[1;31mAttributeError\u001b[0m: 'list' object has no attribute 'min'"
     ]
    }
   ],
   "source": [
    "NonZ2[NonZ2['NonZ'] ==7]['RSS'].min()\n"
   ]
  },
  {
   "cell_type": "markdown",
   "metadata": {},
   "source": [
    "# We now explore the region of l1_penalty we found:"
   ]
  },
  {
   "cell_type": "code",
   "execution_count": 74,
   "metadata": {
    "ExecuteTime": {
     "end_time": "2018-03-30T11:31:02.821871Z",
     "start_time": "2018-03-30T11:31:02.797307Z"
    }
   },
   "outputs": [
    {
     "data": {
      "text/html": [
       "<div>\n",
       "<style>\n",
       "    .dataframe thead tr:only-child th {\n",
       "        text-align: right;\n",
       "    }\n",
       "\n",
       "    .dataframe thead th {\n",
       "        text-align: left;\n",
       "    }\n",
       "\n",
       "    .dataframe tbody tr th {\n",
       "        vertical-align: top;\n",
       "    }\n",
       "</style>\n",
       "<table border=\"1\" class=\"dataframe\">\n",
       "  <thead>\n",
       "    <tr style=\"text-align: right;\">\n",
       "      <th></th>\n",
       "      <th>Coeff</th>\n",
       "      <th>features</th>\n",
       "    </tr>\n",
       "  </thead>\n",
       "  <tbody>\n",
       "    <tr>\n",
       "      <th>0</th>\n",
       "      <td>-0.00</td>\n",
       "      <td>bedrooms</td>\n",
       "    </tr>\n",
       "    <tr>\n",
       "      <th>1</th>\n",
       "      <td>-0.00</td>\n",
       "      <td>bedrooms_square</td>\n",
       "    </tr>\n",
       "    <tr>\n",
       "      <th>2</th>\n",
       "      <td>10610.89</td>\n",
       "      <td>bathrooms</td>\n",
       "    </tr>\n",
       "    <tr>\n",
       "      <th>3</th>\n",
       "      <td>163.38</td>\n",
       "      <td>sqft_living</td>\n",
       "    </tr>\n",
       "    <tr>\n",
       "      <th>4</th>\n",
       "      <td>0.00</td>\n",
       "      <td>sqft_living_sqrt</td>\n",
       "    </tr>\n",
       "    <tr>\n",
       "      <th>5</th>\n",
       "      <td>-0.00</td>\n",
       "      <td>sqft_lot</td>\n",
       "    </tr>\n",
       "    <tr>\n",
       "      <th>6</th>\n",
       "      <td>-0.00</td>\n",
       "      <td>sqft_lot_sqrt</td>\n",
       "    </tr>\n",
       "    <tr>\n",
       "      <th>7</th>\n",
       "      <td>0.00</td>\n",
       "      <td>floors</td>\n",
       "    </tr>\n",
       "    <tr>\n",
       "      <th>8</th>\n",
       "      <td>0.00</td>\n",
       "      <td>floors_square</td>\n",
       "    </tr>\n",
       "    <tr>\n",
       "      <th>9</th>\n",
       "      <td>506451.69</td>\n",
       "      <td>waterfront</td>\n",
       "    </tr>\n",
       "    <tr>\n",
       "      <th>10</th>\n",
       "      <td>41960.04</td>\n",
       "      <td>view</td>\n",
       "    </tr>\n",
       "    <tr>\n",
       "      <th>11</th>\n",
       "      <td>0.00</td>\n",
       "      <td>condition</td>\n",
       "    </tr>\n",
       "    <tr>\n",
       "      <th>12</th>\n",
       "      <td>116253.55</td>\n",
       "      <td>grade</td>\n",
       "    </tr>\n",
       "    <tr>\n",
       "      <th>13</th>\n",
       "      <td>0.00</td>\n",
       "      <td>sqft_above</td>\n",
       "    </tr>\n",
       "    <tr>\n",
       "      <th>14</th>\n",
       "      <td>0.00</td>\n",
       "      <td>sqft_basement</td>\n",
       "    </tr>\n",
       "    <tr>\n",
       "      <th>15</th>\n",
       "      <td>-2612.23</td>\n",
       "      <td>yr_built</td>\n",
       "    </tr>\n",
       "    <tr>\n",
       "      <th>16</th>\n",
       "      <td>0.00</td>\n",
       "      <td>yr_renovated</td>\n",
       "    </tr>\n",
       "  </tbody>\n",
       "</table>\n",
       "</div>"
      ],
      "text/plain": [
       "        Coeff          features\n",
       "0       -0.00          bedrooms\n",
       "1       -0.00   bedrooms_square\n",
       "2    10610.89         bathrooms\n",
       "3      163.38       sqft_living\n",
       "4        0.00  sqft_living_sqrt\n",
       "5       -0.00          sqft_lot\n",
       "6       -0.00     sqft_lot_sqrt\n",
       "7        0.00            floors\n",
       "8        0.00     floors_square\n",
       "9   506451.69        waterfront\n",
       "10   41960.04              view\n",
       "11       0.00         condition\n",
       "12  116253.55             grade\n",
       "13       0.00        sqft_above\n",
       "14       0.00     sqft_basement\n",
       "15   -2612.23          yr_built\n",
       "16       0.00      yr_renovated"
      ]
     },
     "execution_count": 74,
     "metadata": {},
     "output_type": "execute_result"
    }
   ],
   "source": [
    "best_model2=Lasso(alpha=156.109097, normalize=True).fit(X_train,y_train)\n",
    "\n",
    "coef3=best_model2.coef_\n",
    "df=pd.DataFrame(data={'features':all_features, 'Coeff':coef3.round(2)})\n",
    "df"
   ]
  },
  {
   "cell_type": "code",
   "execution_count": null,
   "metadata": {},
   "outputs": [],
   "source": []
  }
 ],
 "metadata": {
  "kernelspec": {
   "display_name": "Python 3",
   "language": "python",
   "name": "python3"
  },
  "language_info": {
   "codemirror_mode": {
    "name": "ipython",
    "version": 3
   },
   "file_extension": ".py",
   "mimetype": "text/x-python",
   "name": "python",
   "nbconvert_exporter": "python",
   "pygments_lexer": "ipython3",
   "version": "3.6.3"
  },
  "toc": {
   "nav_menu": {},
   "number_sections": true,
   "sideBar": true,
   "skip_h1_title": false,
   "title_cell": "Table of Contents",
   "title_sidebar": "Contents",
   "toc_cell": false,
   "toc_position": {},
   "toc_section_display": true,
   "toc_window_display": false
  },
  "varInspector": {
   "cols": {
    "lenName": 16,
    "lenType": 16,
    "lenVar": 40
   },
   "kernels_config": {
    "python": {
     "delete_cmd_postfix": "",
     "delete_cmd_prefix": "del ",
     "library": "var_list.py",
     "varRefreshCmd": "print(var_dic_list())"
    },
    "r": {
     "delete_cmd_postfix": ") ",
     "delete_cmd_prefix": "rm(",
     "library": "var_list.r",
     "varRefreshCmd": "cat(var_dic_list()) "
    }
   },
   "types_to_exclude": [
    "module",
    "function",
    "builtin_function_or_method",
    "instance",
    "_Feature"
   ],
   "window_display": false
  }
 },
 "nbformat": 4,
 "nbformat_minor": 2
}
