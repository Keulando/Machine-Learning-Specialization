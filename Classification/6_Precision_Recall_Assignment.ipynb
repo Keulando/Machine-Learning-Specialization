{
 "cells": [
  {
   "cell_type": "markdown",
   "metadata": {},
   "source": [
    "The goal of this assignment is to understand precision-recall in the context of classifiers.\n",
    "\n",
    "- Use Amazon review data in its entirety.\n",
    "- Train a logistic regression model.\n",
    "- Explore various evaluation metrics: accuracy, confusion matrix, precision, recall.\n",
    "- Explore how various metrics can be combined to produce a cost of making an error.\n",
    "- Explore precision and recall curves."
   ]
  },
  {
   "cell_type": "code",
   "execution_count": 1,
   "metadata": {
    "ExecuteTime": {
     "end_time": "2018-04-03T08:14:02.631543Z",
     "start_time": "2018-04-03T08:14:01.829244Z"
    }
   },
   "outputs": [],
   "source": [
    "import pandas as pd\n",
    "import numpy as np"
   ]
  },
  {
   "cell_type": "markdown",
   "metadata": {},
   "source": [
    "# Prepare Data"
   ]
  },
  {
   "cell_type": "code",
   "execution_count": 2,
   "metadata": {
    "ExecuteTime": {
     "end_time": "2018-04-03T08:14:05.813711Z",
     "start_time": "2018-04-03T08:14:03.398283Z"
    }
   },
   "outputs": [],
   "source": [
    "products = pd.read_csv('amazon_baby.csv')"
   ]
  },
  {
   "cell_type": "code",
   "execution_count": 3,
   "metadata": {
    "ExecuteTime": {
     "end_time": "2018-04-03T08:14:05.880889Z",
     "start_time": "2018-04-03T08:14:05.869861Z"
    }
   },
   "outputs": [],
   "source": [
    "def remove_punctuation(text):\n",
    "    import string\n",
    "    import re\n",
    "    \n",
    "    punctuation=string.punctuation #list of puncts\n",
    "    clean=re.sub(r\"[{}]\".format(punctuation),\"\",text)\n",
    "    \n",
    "    return clean"
   ]
  },
  {
   "cell_type": "code",
   "execution_count": 4,
   "metadata": {
    "ExecuteTime": {
     "end_time": "2018-04-03T08:14:09.491362Z",
     "start_time": "2018-04-03T08:14:06.494251Z"
    }
   },
   "outputs": [],
   "source": [
    "products=products.fillna({'review':''})\n",
    "products['review_clean']=products['review'].apply(remove_punctuation)"
   ]
  },
  {
   "cell_type": "code",
   "execution_count": 5,
   "metadata": {
    "ExecuteTime": {
     "end_time": "2018-04-03T08:14:10.292432Z",
     "start_time": "2018-04-03T08:14:10.042711Z"
    }
   },
   "outputs": [],
   "source": [
    "# ignore rating 3\n",
    "products = products[products['rating']!=3]\n",
    "\n",
    "#rating =>4 are positive, <2 neg\n",
    "products['sentiment'] = products['rating'].apply(lambda rating: 1 if rating >3 else -1)"
   ]
  },
  {
   "cell_type": "code",
   "execution_count": 6,
   "metadata": {
    "ExecuteTime": {
     "end_time": "2018-04-03T08:14:11.169886Z",
     "start_time": "2018-04-03T08:14:11.062450Z"
    }
   },
   "outputs": [],
   "source": [
    "train_idx=pd.read_json('module-9-assignment-train-idx.json', typ='series')\n",
    "test_idx=pd.read_json('module-9-assignment-test-idx.json', typ='series')"
   ]
  },
  {
   "cell_type": "code",
   "execution_count": 7,
   "metadata": {
    "ExecuteTime": {
     "end_time": "2018-04-03T08:14:11.853236Z",
     "start_time": "2018-04-03T08:14:11.806147Z"
    }
   },
   "outputs": [],
   "source": [
    "train=products.iloc[train_idx]\n",
    "\n",
    "test=products.iloc[test_idx]"
   ]
  },
  {
   "cell_type": "markdown",
   "metadata": {},
   "source": [
    "# build word count vector"
   ]
  },
  {
   "cell_type": "code",
   "execution_count": 8,
   "metadata": {
    "ExecuteTime": {
     "end_time": "2018-04-03T08:14:13.660627Z",
     "start_time": "2018-04-03T08:14:13.100988Z"
    }
   },
   "outputs": [],
   "source": [
    "from sklearn.feature_extraction.text import CountVectorizer"
   ]
  },
  {
   "cell_type": "code",
   "execution_count": 9,
   "metadata": {
    "ExecuteTime": {
     "end_time": "2018-04-03T08:14:40.143520Z",
     "start_time": "2018-04-03T08:14:14.176435Z"
    }
   },
   "outputs": [],
   "source": [
    "vectorizer = CountVectorizer(token_pattern=r'\\b\\w+\\b')\n",
    "\n",
    "train_matrix=vectorizer.fit_transform(train['review_clean'])\n",
    "test_matrix = vectorizer.transform(test['review_clean'])"
   ]
  },
  {
   "cell_type": "code",
   "execution_count": 10,
   "metadata": {
    "ExecuteTime": {
     "end_time": "2018-04-03T08:15:48.131958Z",
     "start_time": "2018-04-03T08:15:48.111940Z"
    }
   },
   "outputs": [
    {
     "data": {
      "text/plain": [
       "<133416x121706 sparse matrix of type '<class 'numpy.int64'>'\n",
       "\twith 7326628 stored elements in Compressed Sparse Row format>"
      ]
     },
     "execution_count": 10,
     "metadata": {},
     "output_type": "execute_result"
    }
   ],
   "source": [
    "train_matrix"
   ]
  },
  {
   "cell_type": "markdown",
   "metadata": {},
   "source": [
    "# TRAIN Model"
   ]
  },
  {
   "cell_type": "code",
   "execution_count": 11,
   "metadata": {
    "ExecuteTime": {
     "end_time": "2018-04-03T08:15:49.434168Z",
     "start_time": "2018-04-03T08:15:49.215741Z"
    }
   },
   "outputs": [],
   "source": [
    "from sklearn.linear_model import LogisticRegression\n",
    "\n",
    "X_train = train_matrix.copy()\n",
    "y_train = train['sentiment'].copy()\n",
    "\n",
    "X_test = test_matrix.copy()\n",
    "y_test = test['sentiment'].copy()"
   ]
  },
  {
   "cell_type": "code",
   "execution_count": 12,
   "metadata": {
    "ExecuteTime": {
     "end_time": "2018-04-03T08:17:25.631944Z",
     "start_time": "2018-04-03T08:15:51.083943Z"
    }
   },
   "outputs": [],
   "source": [
    "model=LogisticRegression().fit(X_train, y_train)"
   ]
  },
  {
   "cell_type": "markdown",
   "metadata": {},
   "source": [
    "# model evaluation"
   ]
  },
  {
   "cell_type": "code",
   "execution_count": 13,
   "metadata": {
    "ExecuteTime": {
     "end_time": "2018-04-03T08:17:30.652869Z",
     "start_time": "2018-04-03T08:17:30.632856Z"
    }
   },
   "outputs": [
    {
     "name": "stdout",
     "output_type": "stream",
     "text": [
      "Accuracy for this model is: 0.932\n"
     ]
    }
   ],
   "source": [
    "from sklearn.metrics import accuracy_score\n",
    "\n",
    "y_pred = model.predict(X_test)\n",
    "\n",
    "accuracy = accuracy_score(y_test, y_pred)\n",
    "print('Accuracy for this model is: {:.3f}'.format(accuracy))"
   ]
  },
  {
   "cell_type": "code",
   "execution_count": 14,
   "metadata": {
    "ExecuteTime": {
     "end_time": "2018-04-03T08:17:32.517628Z",
     "start_time": "2018-04-03T08:17:32.504563Z"
    }
   },
   "outputs": [
    {
     "name": "stdout",
     "output_type": "stream",
     "text": [
      "Baseline accuracy is: 0.843\n"
     ]
    }
   ],
   "source": [
    "# baseline majority class clf \n",
    "\n",
    "baseline = len(test[test['sentiment']==1])/len(test)\n",
    "print('Baseline accuracy is: {:.3f}'.format(baseline))"
   ]
  },
  {
   "cell_type": "markdown",
   "metadata": {},
   "source": [
    "# confusion matrix"
   ]
  },
  {
   "cell_type": "code",
   "execution_count": 15,
   "metadata": {
    "ExecuteTime": {
     "end_time": "2018-04-03T08:17:33.915749Z",
     "start_time": "2018-04-03T08:17:33.893384Z"
    }
   },
   "outputs": [],
   "source": [
    "from sklearn.metrics import confusion_matrix\n",
    "\n",
    "cmat = confusion_matrix(y_test, y_pred, labels=model.classes_)"
   ]
  },
  {
   "cell_type": "code",
   "execution_count": 16,
   "metadata": {
    "ExecuteTime": {
     "end_time": "2018-04-03T08:17:34.658332Z",
     "start_time": "2018-04-03T08:17:34.654288Z"
    }
   },
   "outputs": [
    {
     "name": "stdout",
     "output_type": "stream",
     "text": [
      "target_label | predicted_label | count \n",
      "-------------+-----------------+-------\n",
      "[[ 3788  1453]\n",
      " [  805 27290]]\n"
     ]
    }
   ],
   "source": [
    "print('target_label | predicted_label | count ')\n",
    "print('-------------+-----------------+-------')\n",
    "print(cmat)"
   ]
  },
  {
   "cell_type": "code",
   "execution_count": 17,
   "metadata": {
    "ExecuteTime": {
     "end_time": "2018-04-03T08:17:35.382137Z",
     "start_time": "2018-04-03T08:17:35.344667Z"
    }
   },
   "outputs": [],
   "source": [
    "conf_table = pd.crosstab(y_test,y_pred, rownames=['True'], \n",
    "                         colnames =['Predicted'], margins =True)"
   ]
  },
  {
   "cell_type": "code",
   "execution_count": 18,
   "metadata": {
    "ExecuteTime": {
     "end_time": "2018-04-03T08:17:36.159286Z",
     "start_time": "2018-04-03T08:17:36.153270Z"
    }
   },
   "outputs": [
    {
     "data": {
      "text/html": [
       "<div>\n",
       "<style>\n",
       "    .dataframe thead tr:only-child th {\n",
       "        text-align: right;\n",
       "    }\n",
       "\n",
       "    .dataframe thead th {\n",
       "        text-align: left;\n",
       "    }\n",
       "\n",
       "    .dataframe tbody tr th {\n",
       "        vertical-align: top;\n",
       "    }\n",
       "</style>\n",
       "<table border=\"1\" class=\"dataframe\">\n",
       "  <thead>\n",
       "    <tr style=\"text-align: right;\">\n",
       "      <th>Predicted</th>\n",
       "      <th>-1</th>\n",
       "      <th>1</th>\n",
       "      <th>All</th>\n",
       "    </tr>\n",
       "    <tr>\n",
       "      <th>True</th>\n",
       "      <th></th>\n",
       "      <th></th>\n",
       "      <th></th>\n",
       "    </tr>\n",
       "  </thead>\n",
       "  <tbody>\n",
       "    <tr>\n",
       "      <th>-1</th>\n",
       "      <td>3788</td>\n",
       "      <td>1453</td>\n",
       "      <td>5241</td>\n",
       "    </tr>\n",
       "    <tr>\n",
       "      <th>1</th>\n",
       "      <td>805</td>\n",
       "      <td>27290</td>\n",
       "      <td>28095</td>\n",
       "    </tr>\n",
       "    <tr>\n",
       "      <th>All</th>\n",
       "      <td>4593</td>\n",
       "      <td>28743</td>\n",
       "      <td>33336</td>\n",
       "    </tr>\n",
       "  </tbody>\n",
       "</table>\n",
       "</div>"
      ],
      "text/plain": [
       "Predicted    -1      1    All\n",
       "True                         \n",
       "-1         3788   1453   5241\n",
       "1           805  27290  28095\n",
       "All        4593  28743  33336"
      ]
     },
     "execution_count": 18,
     "metadata": {},
     "output_type": "execute_result"
    }
   ],
   "source": [
    "conf_table #much better "
   ]
  },
  {
   "cell_type": "code",
   "execution_count": 19,
   "metadata": {
    "ExecuteTime": {
     "end_time": "2018-04-03T08:17:37.239042Z",
     "start_time": "2018-04-03T08:17:37.235031Z"
    }
   },
   "outputs": [
    {
     "data": {
      "text/plain": [
       "805"
      ]
     },
     "execution_count": 19,
     "metadata": {},
     "output_type": "execute_result"
    }
   ],
   "source": [
    "conf_table.iloc[0,1],\n",
    "conf_table.iloc[1,0]"
   ]
  },
  {
   "cell_type": "markdown",
   "metadata": {},
   "source": [
    "# computing cost of mistakes\n",
    "\n",
    "you'd rather put up with false alarms about potentially negative reviews instead of missing negative reviews entirely. In other words, false positives cost more than false negatives. (It may be the other way around for other scenarios, but let's stick with the manufacturer's scenario for now.)\n",
    "\n",
    "Suppose you know the costs involved in each kind of mistake:\n",
    "\n",
    "- $100 for each false positive.\n",
    "\n",
    "- $1 for each false negative.\n",
    "- Correctly classified reviews incur no cost."
   ]
  },
  {
   "cell_type": "code",
   "execution_count": 20,
   "metadata": {
    "ExecuteTime": {
     "end_time": "2018-04-03T08:17:45.073441Z",
     "start_time": "2018-04-03T08:17:45.068428Z"
    }
   },
   "outputs": [
    {
     "data": {
      "text/plain": [
       "146105"
      ]
     },
     "execution_count": 20,
     "metadata": {},
     "output_type": "execute_result"
    }
   ],
   "source": [
    "cost_fp=100\n",
    "cost_fn=1\n",
    "\n",
    "cost_mistakes = conf_table.iloc[0,1]*cost_fp + conf_table.iloc[1,0]*cost_fn\n",
    "cost_mistakes"
   ]
  },
  {
   "cell_type": "markdown",
   "metadata": {},
   "source": [
    "# Precision and Recall\n"
   ]
  },
  {
   "cell_type": "markdown",
   "metadata": {},
   "source": [
    "## Precision \n",
    "\n",
    "You may not have exact dollar amounts for each kind of mistake. Instead, you may simply prefer to reduce the percentage of false positives to be less than, say, 3.5% of all positive predictions. This is where precision comes in:"
   ]
  },
  {
   "cell_type": "markdown",
   "metadata": {},
   "source": [
    "prec = [# positive data with positive prediction] / \n",
    "        [# all data with positive prediction]\n",
    "\n",
    "precision = [# tRUE POSITIVE] / [# TRUE POS] + [# FALSE POSITIVE]\n",
    "\n",
    "So to keep the percentage of false positives below 3.5% of positive predictions, we must raise the precision to 96.5% or higher."
   ]
  },
  {
   "cell_type": "code",
   "execution_count": 21,
   "metadata": {
    "ExecuteTime": {
     "end_time": "2018-04-03T08:17:48.643327Z",
     "start_time": "2018-04-03T08:17:48.633300Z"
    }
   },
   "outputs": [
    {
     "name": "stdout",
     "output_type": "stream",
     "text": [
      "Precision on test data is: 0.9494\n"
     ]
    }
   ],
   "source": [
    "from sklearn.metrics import precision_score\n",
    "precision = precision_score(y_test, y_pred)\n",
    "print('Precision on test data is: {:.4f}'.format(precision))"
   ]
  },
  {
   "cell_type": "code",
   "execution_count": 22,
   "metadata": {
    "ExecuteTime": {
     "end_time": "2018-04-03T08:17:49.562604Z",
     "start_time": "2018-04-03T08:17:49.557591Z"
    }
   },
   "outputs": [
    {
     "data": {
      "text/plain": [
       "0.05055143861114009"
      ]
     },
     "execution_count": 22,
     "metadata": {},
     "output_type": "execute_result"
    }
   ],
   "source": [
    "false_positive = 1- precision\n",
    "false_positive"
   ]
  },
  {
   "cell_type": "markdown",
   "metadata": {},
   "source": [
    "## Recall"
   ]
  },
  {
   "cell_type": "markdown",
   "metadata": {
    "ExecuteTime": {
     "end_time": "2018-04-02T14:54:27.458654Z",
     "start_time": "2018-04-02T14:54:27.452138Z"
    }
   },
   "source": [
    "recall = [# POS data with POS predictions] / [# all POS data]"
   ]
  },
  {
   "cell_type": "markdown",
   "metadata": {},
   "source": [
    "recall = [ # TRUE POS] / [#TRUE POS] + [# FALSE NEG]"
   ]
  },
  {
   "cell_type": "code",
   "execution_count": 23,
   "metadata": {
    "ExecuteTime": {
     "end_time": "2018-04-03T08:17:57.414659Z",
     "start_time": "2018-04-03T08:17:57.402593Z"
    }
   },
   "outputs": [
    {
     "name": "stdout",
     "output_type": "stream",
     "text": [
      "Recall on test data: 0.9713\n"
     ]
    }
   ],
   "source": [
    "from sklearn.metrics import recall_score\n",
    "\n",
    "recall = recall_score(y_test, y_pred)\n",
    "print(\"Recall on test data: {:.4f}\".format(recall))"
   ]
  },
  {
   "cell_type": "markdown",
   "metadata": {},
   "source": [
    "# Precision Recall Trade-off"
   ]
  },
  {
   "cell_type": "code",
   "execution_count": 24,
   "metadata": {
    "ExecuteTime": {
     "end_time": "2018-04-03T08:17:59.360450Z",
     "start_time": "2018-04-03T08:17:59.356478Z"
    }
   },
   "outputs": [],
   "source": [
    "def apply_threshold(probabilities, thresh):\n",
    "    \n",
    "    foo =pd.Series([1 if x>= thresh else -1 for x in probabilities])\n",
    "    return foo\n",
    "        "
   ]
  },
  {
   "cell_type": "code",
   "execution_count": 36,
   "metadata": {
    "ExecuteTime": {
     "end_time": "2018-04-03T08:26:51.557835Z",
     "start_time": "2018-04-03T08:26:51.542292Z"
    }
   },
   "outputs": [],
   "source": [
    "prob=model.predict_proba(X_test)[:,1]"
   ]
  },
  {
   "cell_type": "code",
   "execution_count": 38,
   "metadata": {
    "ExecuteTime": {
     "end_time": "2018-04-03T08:27:43.336999Z",
     "start_time": "2018-04-03T08:27:43.324968Z"
    }
   },
   "outputs": [
    {
     "data": {
      "text/plain": [
       "28743"
      ]
     },
     "execution_count": 38,
     "metadata": {},
     "output_type": "execute_result"
    }
   ],
   "source": [
    "default_predictions = apply_threshold(prob, 0.5)\n",
    "(default_predictions ==1 ).sum()"
   ]
  },
  {
   "cell_type": "code",
   "execution_count": 39,
   "metadata": {
    "ExecuteTime": {
     "end_time": "2018-04-03T08:28:24.119213Z",
     "start_time": "2018-04-03T08:28:24.106178Z"
    }
   },
   "outputs": [
    {
     "data": {
      "text/plain": [
       "25073"
      ]
     },
     "execution_count": 39,
     "metadata": {},
     "output_type": "execute_result"
    }
   ],
   "source": [
    "high_thres_pred=apply_threshold(prob_5, 0.9)\n",
    "(high_thres_pred ==1).sum()"
   ]
  },
  {
   "cell_type": "code",
   "execution_count": 43,
   "metadata": {
    "ExecuteTime": {
     "end_time": "2018-04-03T08:31:46.909765Z",
     "start_time": "2018-04-03T08:31:46.894689Z"
    }
   },
   "outputs": [
    {
     "name": "stdout",
     "output_type": "stream",
     "text": [
      "For the default Threshold of 0.5 the precision is: 0.9494\n",
      " and the Recall is: 0.9713\n"
     ]
    }
   ],
   "source": [
    "precision_default=precision_score(y_test, default_predictions)\n",
    "recall_default = recall_score(y_test, default_predictions)\n",
    "\n",
    "print('For the default Threshold of 0.5 the precision is: {:.4f}\\n and the Recall is: {:.4f}'.format(precision_default, recall_default))"
   ]
  },
  {
   "cell_type": "code",
   "execution_count": 44,
   "metadata": {
    "ExecuteTime": {
     "end_time": "2018-04-03T08:33:45.254589Z",
     "start_time": "2018-04-03T08:33:45.237042Z"
    }
   },
   "outputs": [
    {
     "name": "stdout",
     "output_type": "stream",
     "text": [
      "For the Threshold of 0.9 the precision is: 0.9815\n",
      " and the Recall is: 0.8759\n"
     ]
    }
   ],
   "source": [
    "precision_high=precision_score(y_test, high_thres_pred)\n",
    "recall_high = recall_score(y_test, high_thres_pred)\n",
    "\n",
    "print('For the Threshold of 0.9 the precision is: {:.4f}\\n and the Recall is: {:.4f}'.format(precision_high, recall_high))"
   ]
  },
  {
   "cell_type": "markdown",
   "metadata": {},
   "source": [
    "# Precision-recall curve\n"
   ]
  },
  {
   "cell_type": "code",
   "execution_count": 46,
   "metadata": {
    "ExecuteTime": {
     "end_time": "2018-04-03T08:35:29.949422Z",
     "start_time": "2018-04-03T08:35:29.946915Z"
    }
   },
   "outputs": [],
   "source": [
    "thresh_values = np.linspace(0.5, 1, num=100)"
   ]
  },
  {
   "cell_type": "code",
   "execution_count": 47,
   "metadata": {
    "ExecuteTime": {
     "end_time": "2018-04-03T08:41:54.219013Z",
     "start_time": "2018-04-03T08:41:52.434974Z"
    }
   },
   "outputs": [],
   "source": [
    "precision_all=[]\n",
    "recall_all=[]\n",
    "for thresh in thresh_values:\n",
    "    predictions = apply_threshold(prob, thresh)\n",
    "    precision=precision_score(y_test, predictions)\n",
    "    precision_all.append(precision)\n",
    "    \n",
    "    recall=recall_score(y_test, predictions)\n",
    "    recall_all.append(recall)"
   ]
  },
  {
   "cell_type": "code",
   "execution_count": 50,
   "metadata": {
    "ExecuteTime": {
     "end_time": "2018-04-03T08:43:00.386316Z",
     "start_time": "2018-04-03T08:42:59.684539Z"
    }
   },
   "outputs": [],
   "source": [
    "import matplotlib.pyplot as plt\n",
    "%matplotlib notebook"
   ]
  },
  {
   "cell_type": "code",
   "execution_count": 55,
   "metadata": {
    "ExecuteTime": {
     "end_time": "2018-04-03T08:45:29.140198Z",
     "start_time": "2018-04-03T08:45:29.135687Z"
    }
   },
   "outputs": [],
   "source": [
    "def plot_pr_curve(precision, recall, title):\n",
    "    #plt.locator_params(axis='x', nbins=5)\n",
    "    plt.plot(precision, recall, 'b-', lw=2)\n",
    "    plt.title(title)\n",
    "    plt.xlabel('Precision')\n",
    "    plt.ylabel('Recall')"
   ]
  },
  {
   "cell_type": "code",
   "execution_count": 148,
   "metadata": {
    "ExecuteTime": {
     "end_time": "2018-04-03T09:39:29.797182Z",
     "start_time": "2018-04-03T09:39:29.714960Z"
    }
   },
   "outputs": [
    {
     "data": {
      "application/javascript": [
       "/* Put everything inside the global mpl namespace */\n",
       "window.mpl = {};\n",
       "\n",
       "\n",
       "mpl.get_websocket_type = function() {\n",
       "    if (typeof(WebSocket) !== 'undefined') {\n",
       "        return WebSocket;\n",
       "    } else if (typeof(MozWebSocket) !== 'undefined') {\n",
       "        return MozWebSocket;\n",
       "    } else {\n",
       "        alert('Your browser does not have WebSocket support.' +\n",
       "              'Please try Chrome, Safari or Firefox ≥ 6. ' +\n",
       "              'Firefox 4 and 5 are also supported but you ' +\n",
       "              'have to enable WebSockets in about:config.');\n",
       "    };\n",
       "}\n",
       "\n",
       "mpl.figure = function(figure_id, websocket, ondownload, parent_element) {\n",
       "    this.id = figure_id;\n",
       "\n",
       "    this.ws = websocket;\n",
       "\n",
       "    this.supports_binary = (this.ws.binaryType != undefined);\n",
       "\n",
       "    if (!this.supports_binary) {\n",
       "        var warnings = document.getElementById(\"mpl-warnings\");\n",
       "        if (warnings) {\n",
       "            warnings.style.display = 'block';\n",
       "            warnings.textContent = (\n",
       "                \"This browser does not support binary websocket messages. \" +\n",
       "                    \"Performance may be slow.\");\n",
       "        }\n",
       "    }\n",
       "\n",
       "    this.imageObj = new Image();\n",
       "\n",
       "    this.context = undefined;\n",
       "    this.message = undefined;\n",
       "    this.canvas = undefined;\n",
       "    this.rubberband_canvas = undefined;\n",
       "    this.rubberband_context = undefined;\n",
       "    this.format_dropdown = undefined;\n",
       "\n",
       "    this.image_mode = 'full';\n",
       "\n",
       "    this.root = $('<div/>');\n",
       "    this._root_extra_style(this.root)\n",
       "    this.root.attr('style', 'display: inline-block');\n",
       "\n",
       "    $(parent_element).append(this.root);\n",
       "\n",
       "    this._init_header(this);\n",
       "    this._init_canvas(this);\n",
       "    this._init_toolbar(this);\n",
       "\n",
       "    var fig = this;\n",
       "\n",
       "    this.waiting = false;\n",
       "\n",
       "    this.ws.onopen =  function () {\n",
       "            fig.send_message(\"supports_binary\", {value: fig.supports_binary});\n",
       "            fig.send_message(\"send_image_mode\", {});\n",
       "            if (mpl.ratio != 1) {\n",
       "                fig.send_message(\"set_dpi_ratio\", {'dpi_ratio': mpl.ratio});\n",
       "            }\n",
       "            fig.send_message(\"refresh\", {});\n",
       "        }\n",
       "\n",
       "    this.imageObj.onload = function() {\n",
       "            if (fig.image_mode == 'full') {\n",
       "                // Full images could contain transparency (where diff images\n",
       "                // almost always do), so we need to clear the canvas so that\n",
       "                // there is no ghosting.\n",
       "                fig.context.clearRect(0, 0, fig.canvas.width, fig.canvas.height);\n",
       "            }\n",
       "            fig.context.drawImage(fig.imageObj, 0, 0);\n",
       "        };\n",
       "\n",
       "    this.imageObj.onunload = function() {\n",
       "        fig.ws.close();\n",
       "    }\n",
       "\n",
       "    this.ws.onmessage = this._make_on_message_function(this);\n",
       "\n",
       "    this.ondownload = ondownload;\n",
       "}\n",
       "\n",
       "mpl.figure.prototype._init_header = function() {\n",
       "    var titlebar = $(\n",
       "        '<div class=\"ui-dialog-titlebar ui-widget-header ui-corner-all ' +\n",
       "        'ui-helper-clearfix\"/>');\n",
       "    var titletext = $(\n",
       "        '<div class=\"ui-dialog-title\" style=\"width: 100%; ' +\n",
       "        'text-align: center; padding: 3px;\"/>');\n",
       "    titlebar.append(titletext)\n",
       "    this.root.append(titlebar);\n",
       "    this.header = titletext[0];\n",
       "}\n",
       "\n",
       "\n",
       "\n",
       "mpl.figure.prototype._canvas_extra_style = function(canvas_div) {\n",
       "\n",
       "}\n",
       "\n",
       "\n",
       "mpl.figure.prototype._root_extra_style = function(canvas_div) {\n",
       "\n",
       "}\n",
       "\n",
       "mpl.figure.prototype._init_canvas = function() {\n",
       "    var fig = this;\n",
       "\n",
       "    var canvas_div = $('<div/>');\n",
       "\n",
       "    canvas_div.attr('style', 'position: relative; clear: both; outline: 0');\n",
       "\n",
       "    function canvas_keyboard_event(event) {\n",
       "        return fig.key_event(event, event['data']);\n",
       "    }\n",
       "\n",
       "    canvas_div.keydown('key_press', canvas_keyboard_event);\n",
       "    canvas_div.keyup('key_release', canvas_keyboard_event);\n",
       "    this.canvas_div = canvas_div\n",
       "    this._canvas_extra_style(canvas_div)\n",
       "    this.root.append(canvas_div);\n",
       "\n",
       "    var canvas = $('<canvas/>');\n",
       "    canvas.addClass('mpl-canvas');\n",
       "    canvas.attr('style', \"left: 0; top: 0; z-index: 0; outline: 0\")\n",
       "\n",
       "    this.canvas = canvas[0];\n",
       "    this.context = canvas[0].getContext(\"2d\");\n",
       "\n",
       "    var backingStore = this.context.backingStorePixelRatio ||\n",
       "\tthis.context.webkitBackingStorePixelRatio ||\n",
       "\tthis.context.mozBackingStorePixelRatio ||\n",
       "\tthis.context.msBackingStorePixelRatio ||\n",
       "\tthis.context.oBackingStorePixelRatio ||\n",
       "\tthis.context.backingStorePixelRatio || 1;\n",
       "\n",
       "    mpl.ratio = (window.devicePixelRatio || 1) / backingStore;\n",
       "\n",
       "    var rubberband = $('<canvas/>');\n",
       "    rubberband.attr('style', \"position: absolute; left: 0; top: 0; z-index: 1;\")\n",
       "\n",
       "    var pass_mouse_events = true;\n",
       "\n",
       "    canvas_div.resizable({\n",
       "        start: function(event, ui) {\n",
       "            pass_mouse_events = false;\n",
       "        },\n",
       "        resize: function(event, ui) {\n",
       "            fig.request_resize(ui.size.width, ui.size.height);\n",
       "        },\n",
       "        stop: function(event, ui) {\n",
       "            pass_mouse_events = true;\n",
       "            fig.request_resize(ui.size.width, ui.size.height);\n",
       "        },\n",
       "    });\n",
       "\n",
       "    function mouse_event_fn(event) {\n",
       "        if (pass_mouse_events)\n",
       "            return fig.mouse_event(event, event['data']);\n",
       "    }\n",
       "\n",
       "    rubberband.mousedown('button_press', mouse_event_fn);\n",
       "    rubberband.mouseup('button_release', mouse_event_fn);\n",
       "    // Throttle sequential mouse events to 1 every 20ms.\n",
       "    rubberband.mousemove('motion_notify', mouse_event_fn);\n",
       "\n",
       "    rubberband.mouseenter('figure_enter', mouse_event_fn);\n",
       "    rubberband.mouseleave('figure_leave', mouse_event_fn);\n",
       "\n",
       "    canvas_div.on(\"wheel\", function (event) {\n",
       "        event = event.originalEvent;\n",
       "        event['data'] = 'scroll'\n",
       "        if (event.deltaY < 0) {\n",
       "            event.step = 1;\n",
       "        } else {\n",
       "            event.step = -1;\n",
       "        }\n",
       "        mouse_event_fn(event);\n",
       "    });\n",
       "\n",
       "    canvas_div.append(canvas);\n",
       "    canvas_div.append(rubberband);\n",
       "\n",
       "    this.rubberband = rubberband;\n",
       "    this.rubberband_canvas = rubberband[0];\n",
       "    this.rubberband_context = rubberband[0].getContext(\"2d\");\n",
       "    this.rubberband_context.strokeStyle = \"#000000\";\n",
       "\n",
       "    this._resize_canvas = function(width, height) {\n",
       "        // Keep the size of the canvas, canvas container, and rubber band\n",
       "        // canvas in synch.\n",
       "        canvas_div.css('width', width)\n",
       "        canvas_div.css('height', height)\n",
       "\n",
       "        canvas.attr('width', width * mpl.ratio);\n",
       "        canvas.attr('height', height * mpl.ratio);\n",
       "        canvas.attr('style', 'width: ' + width + 'px; height: ' + height + 'px;');\n",
       "\n",
       "        rubberband.attr('width', width);\n",
       "        rubberband.attr('height', height);\n",
       "    }\n",
       "\n",
       "    // Set the figure to an initial 600x600px, this will subsequently be updated\n",
       "    // upon first draw.\n",
       "    this._resize_canvas(600, 600);\n",
       "\n",
       "    // Disable right mouse context menu.\n",
       "    $(this.rubberband_canvas).bind(\"contextmenu\",function(e){\n",
       "        return false;\n",
       "    });\n",
       "\n",
       "    function set_focus () {\n",
       "        canvas.focus();\n",
       "        canvas_div.focus();\n",
       "    }\n",
       "\n",
       "    window.setTimeout(set_focus, 100);\n",
       "}\n",
       "\n",
       "mpl.figure.prototype._init_toolbar = function() {\n",
       "    var fig = this;\n",
       "\n",
       "    var nav_element = $('<div/>')\n",
       "    nav_element.attr('style', 'width: 100%');\n",
       "    this.root.append(nav_element);\n",
       "\n",
       "    // Define a callback function for later on.\n",
       "    function toolbar_event(event) {\n",
       "        return fig.toolbar_button_onclick(event['data']);\n",
       "    }\n",
       "    function toolbar_mouse_event(event) {\n",
       "        return fig.toolbar_button_onmouseover(event['data']);\n",
       "    }\n",
       "\n",
       "    for(var toolbar_ind in mpl.toolbar_items) {\n",
       "        var name = mpl.toolbar_items[toolbar_ind][0];\n",
       "        var tooltip = mpl.toolbar_items[toolbar_ind][1];\n",
       "        var image = mpl.toolbar_items[toolbar_ind][2];\n",
       "        var method_name = mpl.toolbar_items[toolbar_ind][3];\n",
       "\n",
       "        if (!name) {\n",
       "            // put a spacer in here.\n",
       "            continue;\n",
       "        }\n",
       "        var button = $('<button/>');\n",
       "        button.addClass('ui-button ui-widget ui-state-default ui-corner-all ' +\n",
       "                        'ui-button-icon-only');\n",
       "        button.attr('role', 'button');\n",
       "        button.attr('aria-disabled', 'false');\n",
       "        button.click(method_name, toolbar_event);\n",
       "        button.mouseover(tooltip, toolbar_mouse_event);\n",
       "\n",
       "        var icon_img = $('<span/>');\n",
       "        icon_img.addClass('ui-button-icon-primary ui-icon');\n",
       "        icon_img.addClass(image);\n",
       "        icon_img.addClass('ui-corner-all');\n",
       "\n",
       "        var tooltip_span = $('<span/>');\n",
       "        tooltip_span.addClass('ui-button-text');\n",
       "        tooltip_span.html(tooltip);\n",
       "\n",
       "        button.append(icon_img);\n",
       "        button.append(tooltip_span);\n",
       "\n",
       "        nav_element.append(button);\n",
       "    }\n",
       "\n",
       "    var fmt_picker_span = $('<span/>');\n",
       "\n",
       "    var fmt_picker = $('<select/>');\n",
       "    fmt_picker.addClass('mpl-toolbar-option ui-widget ui-widget-content');\n",
       "    fmt_picker_span.append(fmt_picker);\n",
       "    nav_element.append(fmt_picker_span);\n",
       "    this.format_dropdown = fmt_picker[0];\n",
       "\n",
       "    for (var ind in mpl.extensions) {\n",
       "        var fmt = mpl.extensions[ind];\n",
       "        var option = $(\n",
       "            '<option/>', {selected: fmt === mpl.default_extension}).html(fmt);\n",
       "        fmt_picker.append(option)\n",
       "    }\n",
       "\n",
       "    // Add hover states to the ui-buttons\n",
       "    $( \".ui-button\" ).hover(\n",
       "        function() { $(this).addClass(\"ui-state-hover\");},\n",
       "        function() { $(this).removeClass(\"ui-state-hover\");}\n",
       "    );\n",
       "\n",
       "    var status_bar = $('<span class=\"mpl-message\"/>');\n",
       "    nav_element.append(status_bar);\n",
       "    this.message = status_bar[0];\n",
       "}\n",
       "\n",
       "mpl.figure.prototype.request_resize = function(x_pixels, y_pixels) {\n",
       "    // Request matplotlib to resize the figure. Matplotlib will then trigger a resize in the client,\n",
       "    // which will in turn request a refresh of the image.\n",
       "    this.send_message('resize', {'width': x_pixels, 'height': y_pixels});\n",
       "}\n",
       "\n",
       "mpl.figure.prototype.send_message = function(type, properties) {\n",
       "    properties['type'] = type;\n",
       "    properties['figure_id'] = this.id;\n",
       "    this.ws.send(JSON.stringify(properties));\n",
       "}\n",
       "\n",
       "mpl.figure.prototype.send_draw_message = function() {\n",
       "    if (!this.waiting) {\n",
       "        this.waiting = true;\n",
       "        this.ws.send(JSON.stringify({type: \"draw\", figure_id: this.id}));\n",
       "    }\n",
       "}\n",
       "\n",
       "\n",
       "mpl.figure.prototype.handle_save = function(fig, msg) {\n",
       "    var format_dropdown = fig.format_dropdown;\n",
       "    var format = format_dropdown.options[format_dropdown.selectedIndex].value;\n",
       "    fig.ondownload(fig, format);\n",
       "}\n",
       "\n",
       "\n",
       "mpl.figure.prototype.handle_resize = function(fig, msg) {\n",
       "    var size = msg['size'];\n",
       "    if (size[0] != fig.canvas.width || size[1] != fig.canvas.height) {\n",
       "        fig._resize_canvas(size[0], size[1]);\n",
       "        fig.send_message(\"refresh\", {});\n",
       "    };\n",
       "}\n",
       "\n",
       "mpl.figure.prototype.handle_rubberband = function(fig, msg) {\n",
       "    var x0 = msg['x0'] / mpl.ratio;\n",
       "    var y0 = (fig.canvas.height - msg['y0']) / mpl.ratio;\n",
       "    var x1 = msg['x1'] / mpl.ratio;\n",
       "    var y1 = (fig.canvas.height - msg['y1']) / mpl.ratio;\n",
       "    x0 = Math.floor(x0) + 0.5;\n",
       "    y0 = Math.floor(y0) + 0.5;\n",
       "    x1 = Math.floor(x1) + 0.5;\n",
       "    y1 = Math.floor(y1) + 0.5;\n",
       "    var min_x = Math.min(x0, x1);\n",
       "    var min_y = Math.min(y0, y1);\n",
       "    var width = Math.abs(x1 - x0);\n",
       "    var height = Math.abs(y1 - y0);\n",
       "\n",
       "    fig.rubberband_context.clearRect(\n",
       "        0, 0, fig.canvas.width, fig.canvas.height);\n",
       "\n",
       "    fig.rubberband_context.strokeRect(min_x, min_y, width, height);\n",
       "}\n",
       "\n",
       "mpl.figure.prototype.handle_figure_label = function(fig, msg) {\n",
       "    // Updates the figure title.\n",
       "    fig.header.textContent = msg['label'];\n",
       "}\n",
       "\n",
       "mpl.figure.prototype.handle_cursor = function(fig, msg) {\n",
       "    var cursor = msg['cursor'];\n",
       "    switch(cursor)\n",
       "    {\n",
       "    case 0:\n",
       "        cursor = 'pointer';\n",
       "        break;\n",
       "    case 1:\n",
       "        cursor = 'default';\n",
       "        break;\n",
       "    case 2:\n",
       "        cursor = 'crosshair';\n",
       "        break;\n",
       "    case 3:\n",
       "        cursor = 'move';\n",
       "        break;\n",
       "    }\n",
       "    fig.rubberband_canvas.style.cursor = cursor;\n",
       "}\n",
       "\n",
       "mpl.figure.prototype.handle_message = function(fig, msg) {\n",
       "    fig.message.textContent = msg['message'];\n",
       "}\n",
       "\n",
       "mpl.figure.prototype.handle_draw = function(fig, msg) {\n",
       "    // Request the server to send over a new figure.\n",
       "    fig.send_draw_message();\n",
       "}\n",
       "\n",
       "mpl.figure.prototype.handle_image_mode = function(fig, msg) {\n",
       "    fig.image_mode = msg['mode'];\n",
       "}\n",
       "\n",
       "mpl.figure.prototype.updated_canvas_event = function() {\n",
       "    // Called whenever the canvas gets updated.\n",
       "    this.send_message(\"ack\", {});\n",
       "}\n",
       "\n",
       "// A function to construct a web socket function for onmessage handling.\n",
       "// Called in the figure constructor.\n",
       "mpl.figure.prototype._make_on_message_function = function(fig) {\n",
       "    return function socket_on_message(evt) {\n",
       "        if (evt.data instanceof Blob) {\n",
       "            /* FIXME: We get \"Resource interpreted as Image but\n",
       "             * transferred with MIME type text/plain:\" errors on\n",
       "             * Chrome.  But how to set the MIME type?  It doesn't seem\n",
       "             * to be part of the websocket stream */\n",
       "            evt.data.type = \"image/png\";\n",
       "\n",
       "            /* Free the memory for the previous frames */\n",
       "            if (fig.imageObj.src) {\n",
       "                (window.URL || window.webkitURL).revokeObjectURL(\n",
       "                    fig.imageObj.src);\n",
       "            }\n",
       "\n",
       "            fig.imageObj.src = (window.URL || window.webkitURL).createObjectURL(\n",
       "                evt.data);\n",
       "            fig.updated_canvas_event();\n",
       "            fig.waiting = false;\n",
       "            return;\n",
       "        }\n",
       "        else if (typeof evt.data === 'string' && evt.data.slice(0, 21) == \"data:image/png;base64\") {\n",
       "            fig.imageObj.src = evt.data;\n",
       "            fig.updated_canvas_event();\n",
       "            fig.waiting = false;\n",
       "            return;\n",
       "        }\n",
       "\n",
       "        var msg = JSON.parse(evt.data);\n",
       "        var msg_type = msg['type'];\n",
       "\n",
       "        // Call the  \"handle_{type}\" callback, which takes\n",
       "        // the figure and JSON message as its only arguments.\n",
       "        try {\n",
       "            var callback = fig[\"handle_\" + msg_type];\n",
       "        } catch (e) {\n",
       "            console.log(\"No handler for the '\" + msg_type + \"' message type: \", msg);\n",
       "            return;\n",
       "        }\n",
       "\n",
       "        if (callback) {\n",
       "            try {\n",
       "                // console.log(\"Handling '\" + msg_type + \"' message: \", msg);\n",
       "                callback(fig, msg);\n",
       "            } catch (e) {\n",
       "                console.log(\"Exception inside the 'handler_\" + msg_type + \"' callback:\", e, e.stack, msg);\n",
       "            }\n",
       "        }\n",
       "    };\n",
       "}\n",
       "\n",
       "// from http://stackoverflow.com/questions/1114465/getting-mouse-location-in-canvas\n",
       "mpl.findpos = function(e) {\n",
       "    //this section is from http://www.quirksmode.org/js/events_properties.html\n",
       "    var targ;\n",
       "    if (!e)\n",
       "        e = window.event;\n",
       "    if (e.target)\n",
       "        targ = e.target;\n",
       "    else if (e.srcElement)\n",
       "        targ = e.srcElement;\n",
       "    if (targ.nodeType == 3) // defeat Safari bug\n",
       "        targ = targ.parentNode;\n",
       "\n",
       "    // jQuery normalizes the pageX and pageY\n",
       "    // pageX,Y are the mouse positions relative to the document\n",
       "    // offset() returns the position of the element relative to the document\n",
       "    var x = e.pageX - $(targ).offset().left;\n",
       "    var y = e.pageY - $(targ).offset().top;\n",
       "\n",
       "    return {\"x\": x, \"y\": y};\n",
       "};\n",
       "\n",
       "/*\n",
       " * return a copy of an object with only non-object keys\n",
       " * we need this to avoid circular references\n",
       " * http://stackoverflow.com/a/24161582/3208463\n",
       " */\n",
       "function simpleKeys (original) {\n",
       "  return Object.keys(original).reduce(function (obj, key) {\n",
       "    if (typeof original[key] !== 'object')\n",
       "        obj[key] = original[key]\n",
       "    return obj;\n",
       "  }, {});\n",
       "}\n",
       "\n",
       "mpl.figure.prototype.mouse_event = function(event, name) {\n",
       "    var canvas_pos = mpl.findpos(event)\n",
       "\n",
       "    if (name === 'button_press')\n",
       "    {\n",
       "        this.canvas.focus();\n",
       "        this.canvas_div.focus();\n",
       "    }\n",
       "\n",
       "    var x = canvas_pos.x * mpl.ratio;\n",
       "    var y = canvas_pos.y * mpl.ratio;\n",
       "\n",
       "    this.send_message(name, {x: x, y: y, button: event.button,\n",
       "                             step: event.step,\n",
       "                             guiEvent: simpleKeys(event)});\n",
       "\n",
       "    /* This prevents the web browser from automatically changing to\n",
       "     * the text insertion cursor when the button is pressed.  We want\n",
       "     * to control all of the cursor setting manually through the\n",
       "     * 'cursor' event from matplotlib */\n",
       "    event.preventDefault();\n",
       "    return false;\n",
       "}\n",
       "\n",
       "mpl.figure.prototype._key_event_extra = function(event, name) {\n",
       "    // Handle any extra behaviour associated with a key event\n",
       "}\n",
       "\n",
       "mpl.figure.prototype.key_event = function(event, name) {\n",
       "\n",
       "    // Prevent repeat events\n",
       "    if (name == 'key_press')\n",
       "    {\n",
       "        if (event.which === this._key)\n",
       "            return;\n",
       "        else\n",
       "            this._key = event.which;\n",
       "    }\n",
       "    if (name == 'key_release')\n",
       "        this._key = null;\n",
       "\n",
       "    var value = '';\n",
       "    if (event.ctrlKey && event.which != 17)\n",
       "        value += \"ctrl+\";\n",
       "    if (event.altKey && event.which != 18)\n",
       "        value += \"alt+\";\n",
       "    if (event.shiftKey && event.which != 16)\n",
       "        value += \"shift+\";\n",
       "\n",
       "    value += 'k';\n",
       "    value += event.which.toString();\n",
       "\n",
       "    this._key_event_extra(event, name);\n",
       "\n",
       "    this.send_message(name, {key: value,\n",
       "                             guiEvent: simpleKeys(event)});\n",
       "    return false;\n",
       "}\n",
       "\n",
       "mpl.figure.prototype.toolbar_button_onclick = function(name) {\n",
       "    if (name == 'download') {\n",
       "        this.handle_save(this, null);\n",
       "    } else {\n",
       "        this.send_message(\"toolbar_button\", {name: name});\n",
       "    }\n",
       "};\n",
       "\n",
       "mpl.figure.prototype.toolbar_button_onmouseover = function(tooltip) {\n",
       "    this.message.textContent = tooltip;\n",
       "};\n",
       "mpl.toolbar_items = [[\"Home\", \"Reset original view\", \"fa fa-home icon-home\", \"home\"], [\"Back\", \"Back to  previous view\", \"fa fa-arrow-left icon-arrow-left\", \"back\"], [\"Forward\", \"Forward to next view\", \"fa fa-arrow-right icon-arrow-right\", \"forward\"], [\"\", \"\", \"\", \"\"], [\"Pan\", \"Pan axes with left mouse, zoom with right\", \"fa fa-arrows icon-move\", \"pan\"], [\"Zoom\", \"Zoom to rectangle\", \"fa fa-square-o icon-check-empty\", \"zoom\"], [\"\", \"\", \"\", \"\"], [\"Download\", \"Download plot\", \"fa fa-floppy-o icon-save\", \"download\"]];\n",
       "\n",
       "mpl.extensions = [\"eps\", \"jpeg\", \"pdf\", \"png\", \"ps\", \"raw\", \"svg\", \"tif\"];\n",
       "\n",
       "mpl.default_extension = \"png\";var comm_websocket_adapter = function(comm) {\n",
       "    // Create a \"websocket\"-like object which calls the given IPython comm\n",
       "    // object with the appropriate methods. Currently this is a non binary\n",
       "    // socket, so there is still some room for performance tuning.\n",
       "    var ws = {};\n",
       "\n",
       "    ws.close = function() {\n",
       "        comm.close()\n",
       "    };\n",
       "    ws.send = function(m) {\n",
       "        //console.log('sending', m);\n",
       "        comm.send(m);\n",
       "    };\n",
       "    // Register the callback with on_msg.\n",
       "    comm.on_msg(function(msg) {\n",
       "        //console.log('receiving', msg['content']['data'], msg);\n",
       "        // Pass the mpl event to the overriden (by mpl) onmessage function.\n",
       "        ws.onmessage(msg['content']['data'])\n",
       "    });\n",
       "    return ws;\n",
       "}\n",
       "\n",
       "mpl.mpl_figure_comm = function(comm, msg) {\n",
       "    // This is the function which gets called when the mpl process\n",
       "    // starts-up an IPython Comm through the \"matplotlib\" channel.\n",
       "\n",
       "    var id = msg.content.data.id;\n",
       "    // Get hold of the div created by the display call when the Comm\n",
       "    // socket was opened in Python.\n",
       "    var element = $(\"#\" + id);\n",
       "    var ws_proxy = comm_websocket_adapter(comm)\n",
       "\n",
       "    function ondownload(figure, format) {\n",
       "        window.open(figure.imageObj.src);\n",
       "    }\n",
       "\n",
       "    var fig = new mpl.figure(id, ws_proxy,\n",
       "                           ondownload,\n",
       "                           element.get(0));\n",
       "\n",
       "    // Call onopen now - mpl needs it, as it is assuming we've passed it a real\n",
       "    // web socket which is closed, not our websocket->open comm proxy.\n",
       "    ws_proxy.onopen();\n",
       "\n",
       "    fig.parent_element = element.get(0);\n",
       "    fig.cell_info = mpl.find_output_cell(\"<div id='\" + id + \"'></div>\");\n",
       "    if (!fig.cell_info) {\n",
       "        console.error(\"Failed to find cell for figure\", id, fig);\n",
       "        return;\n",
       "    }\n",
       "\n",
       "    var output_index = fig.cell_info[2]\n",
       "    var cell = fig.cell_info[0];\n",
       "\n",
       "};\n",
       "\n",
       "mpl.figure.prototype.handle_close = function(fig, msg) {\n",
       "    var width = fig.canvas.width/mpl.ratio\n",
       "    fig.root.unbind('remove')\n",
       "\n",
       "    // Update the output cell to use the data from the current canvas.\n",
       "    fig.push_to_output();\n",
       "    var dataURL = fig.canvas.toDataURL();\n",
       "    // Re-enable the keyboard manager in IPython - without this line, in FF,\n",
       "    // the notebook keyboard shortcuts fail.\n",
       "    IPython.keyboard_manager.enable()\n",
       "    $(fig.parent_element).html('<img src=\"' + dataURL + '\" width=\"' + width + '\">');\n",
       "    fig.close_ws(fig, msg);\n",
       "}\n",
       "\n",
       "mpl.figure.prototype.close_ws = function(fig, msg){\n",
       "    fig.send_message('closing', msg);\n",
       "    // fig.ws.close()\n",
       "}\n",
       "\n",
       "mpl.figure.prototype.push_to_output = function(remove_interactive) {\n",
       "    // Turn the data on the canvas into data in the output cell.\n",
       "    var width = this.canvas.width/mpl.ratio\n",
       "    var dataURL = this.canvas.toDataURL();\n",
       "    this.cell_info[1]['text/html'] = '<img src=\"' + dataURL + '\" width=\"' + width + '\">';\n",
       "}\n",
       "\n",
       "mpl.figure.prototype.updated_canvas_event = function() {\n",
       "    // Tell IPython that the notebook contents must change.\n",
       "    IPython.notebook.set_dirty(true);\n",
       "    this.send_message(\"ack\", {});\n",
       "    var fig = this;\n",
       "    // Wait a second, then push the new image to the DOM so\n",
       "    // that it is saved nicely (might be nice to debounce this).\n",
       "    setTimeout(function () { fig.push_to_output() }, 1000);\n",
       "}\n",
       "\n",
       "mpl.figure.prototype._init_toolbar = function() {\n",
       "    var fig = this;\n",
       "\n",
       "    var nav_element = $('<div/>')\n",
       "    nav_element.attr('style', 'width: 100%');\n",
       "    this.root.append(nav_element);\n",
       "\n",
       "    // Define a callback function for later on.\n",
       "    function toolbar_event(event) {\n",
       "        return fig.toolbar_button_onclick(event['data']);\n",
       "    }\n",
       "    function toolbar_mouse_event(event) {\n",
       "        return fig.toolbar_button_onmouseover(event['data']);\n",
       "    }\n",
       "\n",
       "    for(var toolbar_ind in mpl.toolbar_items){\n",
       "        var name = mpl.toolbar_items[toolbar_ind][0];\n",
       "        var tooltip = mpl.toolbar_items[toolbar_ind][1];\n",
       "        var image = mpl.toolbar_items[toolbar_ind][2];\n",
       "        var method_name = mpl.toolbar_items[toolbar_ind][3];\n",
       "\n",
       "        if (!name) { continue; };\n",
       "\n",
       "        var button = $('<button class=\"btn btn-default\" href=\"#\" title=\"' + name + '\"><i class=\"fa ' + image + ' fa-lg\"></i></button>');\n",
       "        button.click(method_name, toolbar_event);\n",
       "        button.mouseover(tooltip, toolbar_mouse_event);\n",
       "        nav_element.append(button);\n",
       "    }\n",
       "\n",
       "    // Add the status bar.\n",
       "    var status_bar = $('<span class=\"mpl-message\" style=\"text-align:right; float: right;\"/>');\n",
       "    nav_element.append(status_bar);\n",
       "    this.message = status_bar[0];\n",
       "\n",
       "    // Add the close button to the window.\n",
       "    var buttongrp = $('<div class=\"btn-group inline pull-right\"></div>');\n",
       "    var button = $('<button class=\"btn btn-mini btn-primary\" href=\"#\" title=\"Stop Interaction\"><i class=\"fa fa-power-off icon-remove icon-large\"></i></button>');\n",
       "    button.click(function (evt) { fig.handle_close(fig, {}); } );\n",
       "    button.mouseover('Stop Interaction', toolbar_mouse_event);\n",
       "    buttongrp.append(button);\n",
       "    var titlebar = this.root.find($('.ui-dialog-titlebar'));\n",
       "    titlebar.prepend(buttongrp);\n",
       "}\n",
       "\n",
       "mpl.figure.prototype._root_extra_style = function(el){\n",
       "    var fig = this\n",
       "    el.on(\"remove\", function(){\n",
       "\tfig.close_ws(fig, {});\n",
       "    });\n",
       "}\n",
       "\n",
       "mpl.figure.prototype._canvas_extra_style = function(el){\n",
       "    // this is important to make the div 'focusable\n",
       "    el.attr('tabindex', 0)\n",
       "    // reach out to IPython and tell the keyboard manager to turn it's self\n",
       "    // off when our div gets focus\n",
       "\n",
       "    // location in version 3\n",
       "    if (IPython.notebook.keyboard_manager) {\n",
       "        IPython.notebook.keyboard_manager.register_events(el);\n",
       "    }\n",
       "    else {\n",
       "        // location in version 2\n",
       "        IPython.keyboard_manager.register_events(el);\n",
       "    }\n",
       "\n",
       "}\n",
       "\n",
       "mpl.figure.prototype._key_event_extra = function(event, name) {\n",
       "    var manager = IPython.notebook.keyboard_manager;\n",
       "    if (!manager)\n",
       "        manager = IPython.keyboard_manager;\n",
       "\n",
       "    // Check for shift+enter\n",
       "    if (event.shiftKey && event.which == 13) {\n",
       "        this.canvas_div.blur();\n",
       "        event.shiftKey = false;\n",
       "        // Send a \"J\" for go to next cell\n",
       "        event.which = 74;\n",
       "        event.keyCode = 74;\n",
       "        manager.command_mode();\n",
       "        manager.handle_keydown(event);\n",
       "    }\n",
       "}\n",
       "\n",
       "mpl.figure.prototype.handle_save = function(fig, msg) {\n",
       "    fig.ondownload(fig, null);\n",
       "}\n",
       "\n",
       "\n",
       "mpl.find_output_cell = function(html_output) {\n",
       "    // Return the cell and output element which can be found *uniquely* in the notebook.\n",
       "    // Note - this is a bit hacky, but it is done because the \"notebook_saving.Notebook\"\n",
       "    // IPython event is triggered only after the cells have been serialised, which for\n",
       "    // our purposes (turning an active figure into a static one), is too late.\n",
       "    var cells = IPython.notebook.get_cells();\n",
       "    var ncells = cells.length;\n",
       "    for (var i=0; i<ncells; i++) {\n",
       "        var cell = cells[i];\n",
       "        if (cell.cell_type === 'code'){\n",
       "            for (var j=0; j<cell.output_area.outputs.length; j++) {\n",
       "                var data = cell.output_area.outputs[j];\n",
       "                if (data.data) {\n",
       "                    // IPython >= 3 moved mimebundle to data attribute of output\n",
       "                    data = data.data;\n",
       "                }\n",
       "                if (data['text/html'] == html_output) {\n",
       "                    return [cell, data, j];\n",
       "                }\n",
       "            }\n",
       "        }\n",
       "    }\n",
       "}\n",
       "\n",
       "// Register the function which deals with the matplotlib target/channel.\n",
       "// The kernel may be null if the page has been refreshed.\n",
       "if (IPython.notebook.kernel != null) {\n",
       "    IPython.notebook.kernel.comm_manager.register_target('matplotlib', mpl.mpl_figure_comm);\n",
       "}\n"
      ],
      "text/plain": [
       "<IPython.core.display.Javascript object>"
      ]
     },
     "metadata": {},
     "output_type": "display_data"
    },
    {
     "data": {
      "text/html": [
       "<img src=\"data:image/png;base64,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\" width=\"639.4710340596957\">"
      ],
      "text/plain": [
       "<IPython.core.display.HTML object>"
      ]
     },
     "metadata": {},
     "output_type": "display_data"
    }
   ],
   "source": [
    "plot_pr_curve(precision_all, recall_all, 'Precision recall curve')"
   ]
  },
  {
   "cell_type": "code",
   "execution_count": 93,
   "metadata": {
    "ExecuteTime": {
     "end_time": "2018-04-03T09:02:28.255676Z",
     "start_time": "2018-04-03T09:02:28.253133Z"
    }
   },
   "outputs": [],
   "source": [
    "#smallest thresh value that achieves precision >=0.965\n"
   ]
  },
  {
   "cell_type": "code",
   "execution_count": 88,
   "metadata": {
    "ExecuteTime": {
     "end_time": "2018-04-03T08:57:43.359110Z",
     "start_time": "2018-04-03T08:57:43.355601Z"
    }
   },
   "outputs": [],
   "source": [
    "df=pd.DataFrame(data={'Threshold':thresh_values, 'Precision':precision_all, 'Recall':recall_all})"
   ]
  },
  {
   "cell_type": "code",
   "execution_count": 91,
   "metadata": {
    "ExecuteTime": {
     "end_time": "2018-04-03T09:01:20.154441Z",
     "start_time": "2018-04-03T09:01:20.148962Z"
    }
   },
   "outputs": [
    {
     "data": {
      "text/plain": [
       "Precision    0.965365\n",
       "Recall       0.000569\n",
       "Threshold    0.712121\n",
       "dtype: float64"
      ]
     },
     "execution_count": 91,
     "metadata": {},
     "output_type": "execute_result"
    }
   ],
   "source": [
    "df[df['Precision']>=0.965].min()"
   ]
  },
  {
   "cell_type": "code",
   "execution_count": null,
   "metadata": {
    "ExecuteTime": {
     "end_time": "2018-04-03T09:01:32.879350Z",
     "start_time": "2018-04-03T09:01:32.866316Z"
    }
   },
   "outputs": [],
   "source": []
  },
  {
   "cell_type": "code",
   "execution_count": 94,
   "metadata": {
    "ExecuteTime": {
     "end_time": "2018-04-03T09:04:55.439481Z",
     "start_time": "2018-04-03T09:04:55.389849Z"
    }
   },
   "outputs": [],
   "source": [
    "# use thresh of 0.98\n",
    "\n",
    "super_high_thresh=apply_threshold(prob, 0.98)\n",
    "conf_table_high = pd.crosstab(y_test,super_high_thresh, rownames=['True'], \n",
    "                         colnames =['Predicted'], margins =True)"
   ]
  },
  {
   "cell_type": "code",
   "execution_count": 95,
   "metadata": {
    "ExecuteTime": {
     "end_time": "2018-04-03T09:05:01.039529Z",
     "start_time": "2018-04-03T09:05:01.033044Z"
    }
   },
   "outputs": [
    {
     "data": {
      "text/html": [
       "<div>\n",
       "<style>\n",
       "    .dataframe thead tr:only-child th {\n",
       "        text-align: right;\n",
       "    }\n",
       "\n",
       "    .dataframe thead th {\n",
       "        text-align: left;\n",
       "    }\n",
       "\n",
       "    .dataframe tbody tr th {\n",
       "        vertical-align: top;\n",
       "    }\n",
       "</style>\n",
       "<table border=\"1\" class=\"dataframe\">\n",
       "  <thead>\n",
       "    <tr style=\"text-align: right;\">\n",
       "      <th>Predicted</th>\n",
       "      <th>-1.0</th>\n",
       "      <th>1.0</th>\n",
       "      <th>All</th>\n",
       "    </tr>\n",
       "    <tr>\n",
       "      <th>True</th>\n",
       "      <th></th>\n",
       "      <th></th>\n",
       "      <th></th>\n",
       "    </tr>\n",
       "  </thead>\n",
       "  <tbody>\n",
       "    <tr>\n",
       "      <th>-1.0</th>\n",
       "      <td>446</td>\n",
       "      <td>665</td>\n",
       "      <td>1111</td>\n",
       "    </tr>\n",
       "    <tr>\n",
       "      <th>1.0</th>\n",
       "      <td>1981</td>\n",
       "      <td>3030</td>\n",
       "      <td>5011</td>\n",
       "    </tr>\n",
       "    <tr>\n",
       "      <th>All</th>\n",
       "      <td>2427</td>\n",
       "      <td>3695</td>\n",
       "      <td>6122</td>\n",
       "    </tr>\n",
       "  </tbody>\n",
       "</table>\n",
       "</div>"
      ],
      "text/plain": [
       "Predicted  -1.0   1.0   All\n",
       "True                       \n",
       "-1.0        446   665  1111\n",
       "1.0        1981  3030  5011\n",
       "All        2427  3695  6122"
      ]
     },
     "execution_count": 95,
     "metadata": {},
     "output_type": "execute_result"
    }
   ],
   "source": [
    "conf_table_high"
   ]
  },
  {
   "cell_type": "markdown",
   "metadata": {},
   "source": [
    "# Evaluating specific search terms\n",
    "\n",
    "select all reviews with the word baby in it"
   ]
  },
  {
   "cell_type": "code",
   "execution_count": 122,
   "metadata": {
    "ExecuteTime": {
     "end_time": "2018-04-03T09:24:22.270279Z",
     "start_time": "2018-04-03T09:24:22.192030Z"
    }
   },
   "outputs": [
    {
     "name": "stderr",
     "output_type": "stream",
     "text": [
      "C:\\Users\\Keulando\\Anaconda3\\lib\\site-packages\\ipykernel_launcher.py:1: SettingWithCopyWarning: \n",
      "A value is trying to be set on a copy of a slice from a DataFrame.\n",
      "Try using .loc[row_indexer,col_indexer] = value instead\n",
      "\n",
      "See the caveats in the documentation: http://pandas.pydata.org/pandas-docs/stable/indexing.html#indexing-view-versus-copy\n",
      "  \"\"\"Entry point for launching an IPython kernel.\n"
     ]
    }
   ],
   "source": [
    "test['name']=test.name.astype(str).str.lower()"
   ]
  },
  {
   "cell_type": "code",
   "execution_count": 129,
   "metadata": {
    "ExecuteTime": {
     "end_time": "2018-04-03T09:26:12.409019Z",
     "start_time": "2018-04-03T09:26:12.396986Z"
    }
   },
   "outputs": [],
   "source": [
    "baby_reviews = test[test['name'].apply(lambda x: 'baby' in x)]"
   ]
  },
  {
   "cell_type": "code",
   "execution_count": 130,
   "metadata": {
    "ExecuteTime": {
     "end_time": "2018-04-03T09:26:22.312955Z",
     "start_time": "2018-04-03T09:26:22.304934Z"
    }
   },
   "outputs": [
    {
     "data": {
      "text/html": [
       "<div>\n",
       "<style>\n",
       "    .dataframe thead tr:only-child th {\n",
       "        text-align: right;\n",
       "    }\n",
       "\n",
       "    .dataframe thead th {\n",
       "        text-align: left;\n",
       "    }\n",
       "\n",
       "    .dataframe tbody tr th {\n",
       "        vertical-align: top;\n",
       "    }\n",
       "</style>\n",
       "<table border=\"1\" class=\"dataframe\">\n",
       "  <thead>\n",
       "    <tr style=\"text-align: right;\">\n",
       "      <th></th>\n",
       "      <th>name</th>\n",
       "      <th>review</th>\n",
       "      <th>rating</th>\n",
       "      <th>review_clean</th>\n",
       "      <th>sentiment</th>\n",
       "    </tr>\n",
       "  </thead>\n",
       "  <tbody>\n",
       "    <tr>\n",
       "      <th>9</th>\n",
       "      <td>baby tracker&amp;reg; - daily childcare journal, s...</td>\n",
       "      <td>This has been an easy way for my nanny to reco...</td>\n",
       "      <td>4</td>\n",
       "      <td>This has been an easy way for my nanny to reco...</td>\n",
       "      <td>1</td>\n",
       "    </tr>\n",
       "    <tr>\n",
       "      <th>10</th>\n",
       "      <td>baby tracker&amp;reg; - daily childcare journal, s...</td>\n",
       "      <td>I love this journal and our nanny uses it ever...</td>\n",
       "      <td>4</td>\n",
       "      <td>I love this journal and our nanny uses it ever...</td>\n",
       "      <td>1</td>\n",
       "    </tr>\n",
       "    <tr>\n",
       "      <th>56</th>\n",
       "      <td>baby's first year undated wall calendar with s...</td>\n",
       "      <td>I searched high and low for a first year calen...</td>\n",
       "      <td>5</td>\n",
       "      <td>I searched high and low for a first year calen...</td>\n",
       "      <td>1</td>\n",
       "    </tr>\n",
       "    <tr>\n",
       "      <th>59</th>\n",
       "      <td>our baby girl memory book</td>\n",
       "      <td>Absolutely love it and all of the Scripture in...</td>\n",
       "      <td>5</td>\n",
       "      <td>Absolutely love it and all of the Scripture in...</td>\n",
       "      <td>1</td>\n",
       "    </tr>\n",
       "    <tr>\n",
       "      <th>112</th>\n",
       "      <td>newborn baby tracker&amp;reg; - round the clock ch...</td>\n",
       "      <td>This is the best way to keep track of when you...</td>\n",
       "      <td>5</td>\n",
       "      <td>This is the best way to keep track of when you...</td>\n",
       "      <td>1</td>\n",
       "    </tr>\n",
       "  </tbody>\n",
       "</table>\n",
       "</div>"
      ],
      "text/plain": [
       "                                                  name  \\\n",
       "9    baby tracker&reg; - daily childcare journal, s...   \n",
       "10   baby tracker&reg; - daily childcare journal, s...   \n",
       "56   baby's first year undated wall calendar with s...   \n",
       "59                           our baby girl memory book   \n",
       "112  newborn baby tracker&reg; - round the clock ch...   \n",
       "\n",
       "                                                review  rating  \\\n",
       "9    This has been an easy way for my nanny to reco...       4   \n",
       "10   I love this journal and our nanny uses it ever...       4   \n",
       "56   I searched high and low for a first year calen...       5   \n",
       "59   Absolutely love it and all of the Scripture in...       5   \n",
       "112  This is the best way to keep track of when you...       5   \n",
       "\n",
       "                                          review_clean  sentiment  \n",
       "9    This has been an easy way for my nanny to reco...          1  \n",
       "10   I love this journal and our nanny uses it ever...          1  \n",
       "56   I searched high and low for a first year calen...          1  \n",
       "59   Absolutely love it and all of the Scripture in...          1  \n",
       "112  This is the best way to keep track of when you...          1  "
      ]
     },
     "execution_count": 130,
     "metadata": {},
     "output_type": "execute_result"
    }
   ],
   "source": [
    "baby_reviews.head()"
   ]
  },
  {
   "cell_type": "code",
   "execution_count": 132,
   "metadata": {
    "ExecuteTime": {
     "end_time": "2018-04-03T09:27:40.185488Z",
     "start_time": "2018-04-03T09:27:39.798105Z"
    }
   },
   "outputs": [],
   "source": [
    "baby_matrix=vectorizer.transform(baby_reviews['review_clean'])"
   ]
  },
  {
   "cell_type": "code",
   "execution_count": 135,
   "metadata": {
    "ExecuteTime": {
     "end_time": "2018-04-03T09:28:13.354098Z",
     "start_time": "2018-04-03T09:28:13.348082Z"
    }
   },
   "outputs": [],
   "source": [
    "proba_baby=model.predict_proba(baby_matrix)[:,1]"
   ]
  },
  {
   "cell_type": "code",
   "execution_count": 142,
   "metadata": {
    "ExecuteTime": {
     "end_time": "2018-04-03T09:34:59.444558Z",
     "start_time": "2018-04-03T09:34:59.018642Z"
    }
   },
   "outputs": [],
   "source": [
    "y_baby=baby_reviews['sentiment'].copy()\n",
    "\n",
    "predictions_baby=[apply_threshold(proba_baby, x ) for x in thresh_values] \n",
    "precision_baby=[precision_score(y_baby, x) for x in predictions_baby]\n",
    "recall_baby = [recall_score(y_baby, x) for x in predictions_baby]"
   ]
  },
  {
   "cell_type": "code",
   "execution_count": 145,
   "metadata": {
    "ExecuteTime": {
     "end_time": "2018-04-03T09:38:11.498150Z",
     "start_time": "2018-04-03T09:38:11.484614Z"
    }
   },
   "outputs": [
    {
     "data": {
      "text/plain": [
       "Precision    0.965988\n",
       "Recall       0.000545\n",
       "Threshold    0.732323\n",
       "dtype: float64"
      ]
     },
     "execution_count": 145,
     "metadata": {},
     "output_type": "execute_result"
    }
   ],
   "source": [
    "df_baby=pd.DataFrame(data={'Threshold':thresh_values, 'Precision':precision_baby, 'Recall':recall_baby})\n",
    "df_baby[df_baby['Precision'] >=0.965].min()"
   ]
  },
  {
   "cell_type": "code",
   "execution_count": 149,
   "metadata": {
    "ExecuteTime": {
     "end_time": "2018-04-03T09:39:37.632572Z",
     "start_time": "2018-04-03T09:39:37.547814Z"
    }
   },
   "outputs": [
    {
     "data": {
      "application/javascript": [
       "/* Put everything inside the global mpl namespace */\n",
       "window.mpl = {};\n",
       "\n",
       "\n",
       "mpl.get_websocket_type = function() {\n",
       "    if (typeof(WebSocket) !== 'undefined') {\n",
       "        return WebSocket;\n",
       "    } else if (typeof(MozWebSocket) !== 'undefined') {\n",
       "        return MozWebSocket;\n",
       "    } else {\n",
       "        alert('Your browser does not have WebSocket support.' +\n",
       "              'Please try Chrome, Safari or Firefox ≥ 6. ' +\n",
       "              'Firefox 4 and 5 are also supported but you ' +\n",
       "              'have to enable WebSockets in about:config.');\n",
       "    };\n",
       "}\n",
       "\n",
       "mpl.figure = function(figure_id, websocket, ondownload, parent_element) {\n",
       "    this.id = figure_id;\n",
       "\n",
       "    this.ws = websocket;\n",
       "\n",
       "    this.supports_binary = (this.ws.binaryType != undefined);\n",
       "\n",
       "    if (!this.supports_binary) {\n",
       "        var warnings = document.getElementById(\"mpl-warnings\");\n",
       "        if (warnings) {\n",
       "            warnings.style.display = 'block';\n",
       "            warnings.textContent = (\n",
       "                \"This browser does not support binary websocket messages. \" +\n",
       "                    \"Performance may be slow.\");\n",
       "        }\n",
       "    }\n",
       "\n",
       "    this.imageObj = new Image();\n",
       "\n",
       "    this.context = undefined;\n",
       "    this.message = undefined;\n",
       "    this.canvas = undefined;\n",
       "    this.rubberband_canvas = undefined;\n",
       "    this.rubberband_context = undefined;\n",
       "    this.format_dropdown = undefined;\n",
       "\n",
       "    this.image_mode = 'full';\n",
       "\n",
       "    this.root = $('<div/>');\n",
       "    this._root_extra_style(this.root)\n",
       "    this.root.attr('style', 'display: inline-block');\n",
       "\n",
       "    $(parent_element).append(this.root);\n",
       "\n",
       "    this._init_header(this);\n",
       "    this._init_canvas(this);\n",
       "    this._init_toolbar(this);\n",
       "\n",
       "    var fig = this;\n",
       "\n",
       "    this.waiting = false;\n",
       "\n",
       "    this.ws.onopen =  function () {\n",
       "            fig.send_message(\"supports_binary\", {value: fig.supports_binary});\n",
       "            fig.send_message(\"send_image_mode\", {});\n",
       "            if (mpl.ratio != 1) {\n",
       "                fig.send_message(\"set_dpi_ratio\", {'dpi_ratio': mpl.ratio});\n",
       "            }\n",
       "            fig.send_message(\"refresh\", {});\n",
       "        }\n",
       "\n",
       "    this.imageObj.onload = function() {\n",
       "            if (fig.image_mode == 'full') {\n",
       "                // Full images could contain transparency (where diff images\n",
       "                // almost always do), so we need to clear the canvas so that\n",
       "                // there is no ghosting.\n",
       "                fig.context.clearRect(0, 0, fig.canvas.width, fig.canvas.height);\n",
       "            }\n",
       "            fig.context.drawImage(fig.imageObj, 0, 0);\n",
       "        };\n",
       "\n",
       "    this.imageObj.onunload = function() {\n",
       "        fig.ws.close();\n",
       "    }\n",
       "\n",
       "    this.ws.onmessage = this._make_on_message_function(this);\n",
       "\n",
       "    this.ondownload = ondownload;\n",
       "}\n",
       "\n",
       "mpl.figure.prototype._init_header = function() {\n",
       "    var titlebar = $(\n",
       "        '<div class=\"ui-dialog-titlebar ui-widget-header ui-corner-all ' +\n",
       "        'ui-helper-clearfix\"/>');\n",
       "    var titletext = $(\n",
       "        '<div class=\"ui-dialog-title\" style=\"width: 100%; ' +\n",
       "        'text-align: center; padding: 3px;\"/>');\n",
       "    titlebar.append(titletext)\n",
       "    this.root.append(titlebar);\n",
       "    this.header = titletext[0];\n",
       "}\n",
       "\n",
       "\n",
       "\n",
       "mpl.figure.prototype._canvas_extra_style = function(canvas_div) {\n",
       "\n",
       "}\n",
       "\n",
       "\n",
       "mpl.figure.prototype._root_extra_style = function(canvas_div) {\n",
       "\n",
       "}\n",
       "\n",
       "mpl.figure.prototype._init_canvas = function() {\n",
       "    var fig = this;\n",
       "\n",
       "    var canvas_div = $('<div/>');\n",
       "\n",
       "    canvas_div.attr('style', 'position: relative; clear: both; outline: 0');\n",
       "\n",
       "    function canvas_keyboard_event(event) {\n",
       "        return fig.key_event(event, event['data']);\n",
       "    }\n",
       "\n",
       "    canvas_div.keydown('key_press', canvas_keyboard_event);\n",
       "    canvas_div.keyup('key_release', canvas_keyboard_event);\n",
       "    this.canvas_div = canvas_div\n",
       "    this._canvas_extra_style(canvas_div)\n",
       "    this.root.append(canvas_div);\n",
       "\n",
       "    var canvas = $('<canvas/>');\n",
       "    canvas.addClass('mpl-canvas');\n",
       "    canvas.attr('style', \"left: 0; top: 0; z-index: 0; outline: 0\")\n",
       "\n",
       "    this.canvas = canvas[0];\n",
       "    this.context = canvas[0].getContext(\"2d\");\n",
       "\n",
       "    var backingStore = this.context.backingStorePixelRatio ||\n",
       "\tthis.context.webkitBackingStorePixelRatio ||\n",
       "\tthis.context.mozBackingStorePixelRatio ||\n",
       "\tthis.context.msBackingStorePixelRatio ||\n",
       "\tthis.context.oBackingStorePixelRatio ||\n",
       "\tthis.context.backingStorePixelRatio || 1;\n",
       "\n",
       "    mpl.ratio = (window.devicePixelRatio || 1) / backingStore;\n",
       "\n",
       "    var rubberband = $('<canvas/>');\n",
       "    rubberband.attr('style', \"position: absolute; left: 0; top: 0; z-index: 1;\")\n",
       "\n",
       "    var pass_mouse_events = true;\n",
       "\n",
       "    canvas_div.resizable({\n",
       "        start: function(event, ui) {\n",
       "            pass_mouse_events = false;\n",
       "        },\n",
       "        resize: function(event, ui) {\n",
       "            fig.request_resize(ui.size.width, ui.size.height);\n",
       "        },\n",
       "        stop: function(event, ui) {\n",
       "            pass_mouse_events = true;\n",
       "            fig.request_resize(ui.size.width, ui.size.height);\n",
       "        },\n",
       "    });\n",
       "\n",
       "    function mouse_event_fn(event) {\n",
       "        if (pass_mouse_events)\n",
       "            return fig.mouse_event(event, event['data']);\n",
       "    }\n",
       "\n",
       "    rubberband.mousedown('button_press', mouse_event_fn);\n",
       "    rubberband.mouseup('button_release', mouse_event_fn);\n",
       "    // Throttle sequential mouse events to 1 every 20ms.\n",
       "    rubberband.mousemove('motion_notify', mouse_event_fn);\n",
       "\n",
       "    rubberband.mouseenter('figure_enter', mouse_event_fn);\n",
       "    rubberband.mouseleave('figure_leave', mouse_event_fn);\n",
       "\n",
       "    canvas_div.on(\"wheel\", function (event) {\n",
       "        event = event.originalEvent;\n",
       "        event['data'] = 'scroll'\n",
       "        if (event.deltaY < 0) {\n",
       "            event.step = 1;\n",
       "        } else {\n",
       "            event.step = -1;\n",
       "        }\n",
       "        mouse_event_fn(event);\n",
       "    });\n",
       "\n",
       "    canvas_div.append(canvas);\n",
       "    canvas_div.append(rubberband);\n",
       "\n",
       "    this.rubberband = rubberband;\n",
       "    this.rubberband_canvas = rubberband[0];\n",
       "    this.rubberband_context = rubberband[0].getContext(\"2d\");\n",
       "    this.rubberband_context.strokeStyle = \"#000000\";\n",
       "\n",
       "    this._resize_canvas = function(width, height) {\n",
       "        // Keep the size of the canvas, canvas container, and rubber band\n",
       "        // canvas in synch.\n",
       "        canvas_div.css('width', width)\n",
       "        canvas_div.css('height', height)\n",
       "\n",
       "        canvas.attr('width', width * mpl.ratio);\n",
       "        canvas.attr('height', height * mpl.ratio);\n",
       "        canvas.attr('style', 'width: ' + width + 'px; height: ' + height + 'px;');\n",
       "\n",
       "        rubberband.attr('width', width);\n",
       "        rubberband.attr('height', height);\n",
       "    }\n",
       "\n",
       "    // Set the figure to an initial 600x600px, this will subsequently be updated\n",
       "    // upon first draw.\n",
       "    this._resize_canvas(600, 600);\n",
       "\n",
       "    // Disable right mouse context menu.\n",
       "    $(this.rubberband_canvas).bind(\"contextmenu\",function(e){\n",
       "        return false;\n",
       "    });\n",
       "\n",
       "    function set_focus () {\n",
       "        canvas.focus();\n",
       "        canvas_div.focus();\n",
       "    }\n",
       "\n",
       "    window.setTimeout(set_focus, 100);\n",
       "}\n",
       "\n",
       "mpl.figure.prototype._init_toolbar = function() {\n",
       "    var fig = this;\n",
       "\n",
       "    var nav_element = $('<div/>')\n",
       "    nav_element.attr('style', 'width: 100%');\n",
       "    this.root.append(nav_element);\n",
       "\n",
       "    // Define a callback function for later on.\n",
       "    function toolbar_event(event) {\n",
       "        return fig.toolbar_button_onclick(event['data']);\n",
       "    }\n",
       "    function toolbar_mouse_event(event) {\n",
       "        return fig.toolbar_button_onmouseover(event['data']);\n",
       "    }\n",
       "\n",
       "    for(var toolbar_ind in mpl.toolbar_items) {\n",
       "        var name = mpl.toolbar_items[toolbar_ind][0];\n",
       "        var tooltip = mpl.toolbar_items[toolbar_ind][1];\n",
       "        var image = mpl.toolbar_items[toolbar_ind][2];\n",
       "        var method_name = mpl.toolbar_items[toolbar_ind][3];\n",
       "\n",
       "        if (!name) {\n",
       "            // put a spacer in here.\n",
       "            continue;\n",
       "        }\n",
       "        var button = $('<button/>');\n",
       "        button.addClass('ui-button ui-widget ui-state-default ui-corner-all ' +\n",
       "                        'ui-button-icon-only');\n",
       "        button.attr('role', 'button');\n",
       "        button.attr('aria-disabled', 'false');\n",
       "        button.click(method_name, toolbar_event);\n",
       "        button.mouseover(tooltip, toolbar_mouse_event);\n",
       "\n",
       "        var icon_img = $('<span/>');\n",
       "        icon_img.addClass('ui-button-icon-primary ui-icon');\n",
       "        icon_img.addClass(image);\n",
       "        icon_img.addClass('ui-corner-all');\n",
       "\n",
       "        var tooltip_span = $('<span/>');\n",
       "        tooltip_span.addClass('ui-button-text');\n",
       "        tooltip_span.html(tooltip);\n",
       "\n",
       "        button.append(icon_img);\n",
       "        button.append(tooltip_span);\n",
       "\n",
       "        nav_element.append(button);\n",
       "    }\n",
       "\n",
       "    var fmt_picker_span = $('<span/>');\n",
       "\n",
       "    var fmt_picker = $('<select/>');\n",
       "    fmt_picker.addClass('mpl-toolbar-option ui-widget ui-widget-content');\n",
       "    fmt_picker_span.append(fmt_picker);\n",
       "    nav_element.append(fmt_picker_span);\n",
       "    this.format_dropdown = fmt_picker[0];\n",
       "\n",
       "    for (var ind in mpl.extensions) {\n",
       "        var fmt = mpl.extensions[ind];\n",
       "        var option = $(\n",
       "            '<option/>', {selected: fmt === mpl.default_extension}).html(fmt);\n",
       "        fmt_picker.append(option)\n",
       "    }\n",
       "\n",
       "    // Add hover states to the ui-buttons\n",
       "    $( \".ui-button\" ).hover(\n",
       "        function() { $(this).addClass(\"ui-state-hover\");},\n",
       "        function() { $(this).removeClass(\"ui-state-hover\");}\n",
       "    );\n",
       "\n",
       "    var status_bar = $('<span class=\"mpl-message\"/>');\n",
       "    nav_element.append(status_bar);\n",
       "    this.message = status_bar[0];\n",
       "}\n",
       "\n",
       "mpl.figure.prototype.request_resize = function(x_pixels, y_pixels) {\n",
       "    // Request matplotlib to resize the figure. Matplotlib will then trigger a resize in the client,\n",
       "    // which will in turn request a refresh of the image.\n",
       "    this.send_message('resize', {'width': x_pixels, 'height': y_pixels});\n",
       "}\n",
       "\n",
       "mpl.figure.prototype.send_message = function(type, properties) {\n",
       "    properties['type'] = type;\n",
       "    properties['figure_id'] = this.id;\n",
       "    this.ws.send(JSON.stringify(properties));\n",
       "}\n",
       "\n",
       "mpl.figure.prototype.send_draw_message = function() {\n",
       "    if (!this.waiting) {\n",
       "        this.waiting = true;\n",
       "        this.ws.send(JSON.stringify({type: \"draw\", figure_id: this.id}));\n",
       "    }\n",
       "}\n",
       "\n",
       "\n",
       "mpl.figure.prototype.handle_save = function(fig, msg) {\n",
       "    var format_dropdown = fig.format_dropdown;\n",
       "    var format = format_dropdown.options[format_dropdown.selectedIndex].value;\n",
       "    fig.ondownload(fig, format);\n",
       "}\n",
       "\n",
       "\n",
       "mpl.figure.prototype.handle_resize = function(fig, msg) {\n",
       "    var size = msg['size'];\n",
       "    if (size[0] != fig.canvas.width || size[1] != fig.canvas.height) {\n",
       "        fig._resize_canvas(size[0], size[1]);\n",
       "        fig.send_message(\"refresh\", {});\n",
       "    };\n",
       "}\n",
       "\n",
       "mpl.figure.prototype.handle_rubberband = function(fig, msg) {\n",
       "    var x0 = msg['x0'] / mpl.ratio;\n",
       "    var y0 = (fig.canvas.height - msg['y0']) / mpl.ratio;\n",
       "    var x1 = msg['x1'] / mpl.ratio;\n",
       "    var y1 = (fig.canvas.height - msg['y1']) / mpl.ratio;\n",
       "    x0 = Math.floor(x0) + 0.5;\n",
       "    y0 = Math.floor(y0) + 0.5;\n",
       "    x1 = Math.floor(x1) + 0.5;\n",
       "    y1 = Math.floor(y1) + 0.5;\n",
       "    var min_x = Math.min(x0, x1);\n",
       "    var min_y = Math.min(y0, y1);\n",
       "    var width = Math.abs(x1 - x0);\n",
       "    var height = Math.abs(y1 - y0);\n",
       "\n",
       "    fig.rubberband_context.clearRect(\n",
       "        0, 0, fig.canvas.width, fig.canvas.height);\n",
       "\n",
       "    fig.rubberband_context.strokeRect(min_x, min_y, width, height);\n",
       "}\n",
       "\n",
       "mpl.figure.prototype.handle_figure_label = function(fig, msg) {\n",
       "    // Updates the figure title.\n",
       "    fig.header.textContent = msg['label'];\n",
       "}\n",
       "\n",
       "mpl.figure.prototype.handle_cursor = function(fig, msg) {\n",
       "    var cursor = msg['cursor'];\n",
       "    switch(cursor)\n",
       "    {\n",
       "    case 0:\n",
       "        cursor = 'pointer';\n",
       "        break;\n",
       "    case 1:\n",
       "        cursor = 'default';\n",
       "        break;\n",
       "    case 2:\n",
       "        cursor = 'crosshair';\n",
       "        break;\n",
       "    case 3:\n",
       "        cursor = 'move';\n",
       "        break;\n",
       "    }\n",
       "    fig.rubberband_canvas.style.cursor = cursor;\n",
       "}\n",
       "\n",
       "mpl.figure.prototype.handle_message = function(fig, msg) {\n",
       "    fig.message.textContent = msg['message'];\n",
       "}\n",
       "\n",
       "mpl.figure.prototype.handle_draw = function(fig, msg) {\n",
       "    // Request the server to send over a new figure.\n",
       "    fig.send_draw_message();\n",
       "}\n",
       "\n",
       "mpl.figure.prototype.handle_image_mode = function(fig, msg) {\n",
       "    fig.image_mode = msg['mode'];\n",
       "}\n",
       "\n",
       "mpl.figure.prototype.updated_canvas_event = function() {\n",
       "    // Called whenever the canvas gets updated.\n",
       "    this.send_message(\"ack\", {});\n",
       "}\n",
       "\n",
       "// A function to construct a web socket function for onmessage handling.\n",
       "// Called in the figure constructor.\n",
       "mpl.figure.prototype._make_on_message_function = function(fig) {\n",
       "    return function socket_on_message(evt) {\n",
       "        if (evt.data instanceof Blob) {\n",
       "            /* FIXME: We get \"Resource interpreted as Image but\n",
       "             * transferred with MIME type text/plain:\" errors on\n",
       "             * Chrome.  But how to set the MIME type?  It doesn't seem\n",
       "             * to be part of the websocket stream */\n",
       "            evt.data.type = \"image/png\";\n",
       "\n",
       "            /* Free the memory for the previous frames */\n",
       "            if (fig.imageObj.src) {\n",
       "                (window.URL || window.webkitURL).revokeObjectURL(\n",
       "                    fig.imageObj.src);\n",
       "            }\n",
       "\n",
       "            fig.imageObj.src = (window.URL || window.webkitURL).createObjectURL(\n",
       "                evt.data);\n",
       "            fig.updated_canvas_event();\n",
       "            fig.waiting = false;\n",
       "            return;\n",
       "        }\n",
       "        else if (typeof evt.data === 'string' && evt.data.slice(0, 21) == \"data:image/png;base64\") {\n",
       "            fig.imageObj.src = evt.data;\n",
       "            fig.updated_canvas_event();\n",
       "            fig.waiting = false;\n",
       "            return;\n",
       "        }\n",
       "\n",
       "        var msg = JSON.parse(evt.data);\n",
       "        var msg_type = msg['type'];\n",
       "\n",
       "        // Call the  \"handle_{type}\" callback, which takes\n",
       "        // the figure and JSON message as its only arguments.\n",
       "        try {\n",
       "            var callback = fig[\"handle_\" + msg_type];\n",
       "        } catch (e) {\n",
       "            console.log(\"No handler for the '\" + msg_type + \"' message type: \", msg);\n",
       "            return;\n",
       "        }\n",
       "\n",
       "        if (callback) {\n",
       "            try {\n",
       "                // console.log(\"Handling '\" + msg_type + \"' message: \", msg);\n",
       "                callback(fig, msg);\n",
       "            } catch (e) {\n",
       "                console.log(\"Exception inside the 'handler_\" + msg_type + \"' callback:\", e, e.stack, msg);\n",
       "            }\n",
       "        }\n",
       "    };\n",
       "}\n",
       "\n",
       "// from http://stackoverflow.com/questions/1114465/getting-mouse-location-in-canvas\n",
       "mpl.findpos = function(e) {\n",
       "    //this section is from http://www.quirksmode.org/js/events_properties.html\n",
       "    var targ;\n",
       "    if (!e)\n",
       "        e = window.event;\n",
       "    if (e.target)\n",
       "        targ = e.target;\n",
       "    else if (e.srcElement)\n",
       "        targ = e.srcElement;\n",
       "    if (targ.nodeType == 3) // defeat Safari bug\n",
       "        targ = targ.parentNode;\n",
       "\n",
       "    // jQuery normalizes the pageX and pageY\n",
       "    // pageX,Y are the mouse positions relative to the document\n",
       "    // offset() returns the position of the element relative to the document\n",
       "    var x = e.pageX - $(targ).offset().left;\n",
       "    var y = e.pageY - $(targ).offset().top;\n",
       "\n",
       "    return {\"x\": x, \"y\": y};\n",
       "};\n",
       "\n",
       "/*\n",
       " * return a copy of an object with only non-object keys\n",
       " * we need this to avoid circular references\n",
       " * http://stackoverflow.com/a/24161582/3208463\n",
       " */\n",
       "function simpleKeys (original) {\n",
       "  return Object.keys(original).reduce(function (obj, key) {\n",
       "    if (typeof original[key] !== 'object')\n",
       "        obj[key] = original[key]\n",
       "    return obj;\n",
       "  }, {});\n",
       "}\n",
       "\n",
       "mpl.figure.prototype.mouse_event = function(event, name) {\n",
       "    var canvas_pos = mpl.findpos(event)\n",
       "\n",
       "    if (name === 'button_press')\n",
       "    {\n",
       "        this.canvas.focus();\n",
       "        this.canvas_div.focus();\n",
       "    }\n",
       "\n",
       "    var x = canvas_pos.x * mpl.ratio;\n",
       "    var y = canvas_pos.y * mpl.ratio;\n",
       "\n",
       "    this.send_message(name, {x: x, y: y, button: event.button,\n",
       "                             step: event.step,\n",
       "                             guiEvent: simpleKeys(event)});\n",
       "\n",
       "    /* This prevents the web browser from automatically changing to\n",
       "     * the text insertion cursor when the button is pressed.  We want\n",
       "     * to control all of the cursor setting manually through the\n",
       "     * 'cursor' event from matplotlib */\n",
       "    event.preventDefault();\n",
       "    return false;\n",
       "}\n",
       "\n",
       "mpl.figure.prototype._key_event_extra = function(event, name) {\n",
       "    // Handle any extra behaviour associated with a key event\n",
       "}\n",
       "\n",
       "mpl.figure.prototype.key_event = function(event, name) {\n",
       "\n",
       "    // Prevent repeat events\n",
       "    if (name == 'key_press')\n",
       "    {\n",
       "        if (event.which === this._key)\n",
       "            return;\n",
       "        else\n",
       "            this._key = event.which;\n",
       "    }\n",
       "    if (name == 'key_release')\n",
       "        this._key = null;\n",
       "\n",
       "    var value = '';\n",
       "    if (event.ctrlKey && event.which != 17)\n",
       "        value += \"ctrl+\";\n",
       "    if (event.altKey && event.which != 18)\n",
       "        value += \"alt+\";\n",
       "    if (event.shiftKey && event.which != 16)\n",
       "        value += \"shift+\";\n",
       "\n",
       "    value += 'k';\n",
       "    value += event.which.toString();\n",
       "\n",
       "    this._key_event_extra(event, name);\n",
       "\n",
       "    this.send_message(name, {key: value,\n",
       "                             guiEvent: simpleKeys(event)});\n",
       "    return false;\n",
       "}\n",
       "\n",
       "mpl.figure.prototype.toolbar_button_onclick = function(name) {\n",
       "    if (name == 'download') {\n",
       "        this.handle_save(this, null);\n",
       "    } else {\n",
       "        this.send_message(\"toolbar_button\", {name: name});\n",
       "    }\n",
       "};\n",
       "\n",
       "mpl.figure.prototype.toolbar_button_onmouseover = function(tooltip) {\n",
       "    this.message.textContent = tooltip;\n",
       "};\n",
       "mpl.toolbar_items = [[\"Home\", \"Reset original view\", \"fa fa-home icon-home\", \"home\"], [\"Back\", \"Back to  previous view\", \"fa fa-arrow-left icon-arrow-left\", \"back\"], [\"Forward\", \"Forward to next view\", \"fa fa-arrow-right icon-arrow-right\", \"forward\"], [\"\", \"\", \"\", \"\"], [\"Pan\", \"Pan axes with left mouse, zoom with right\", \"fa fa-arrows icon-move\", \"pan\"], [\"Zoom\", \"Zoom to rectangle\", \"fa fa-square-o icon-check-empty\", \"zoom\"], [\"\", \"\", \"\", \"\"], [\"Download\", \"Download plot\", \"fa fa-floppy-o icon-save\", \"download\"]];\n",
       "\n",
       "mpl.extensions = [\"eps\", \"jpeg\", \"pdf\", \"png\", \"ps\", \"raw\", \"svg\", \"tif\"];\n",
       "\n",
       "mpl.default_extension = \"png\";var comm_websocket_adapter = function(comm) {\n",
       "    // Create a \"websocket\"-like object which calls the given IPython comm\n",
       "    // object with the appropriate methods. Currently this is a non binary\n",
       "    // socket, so there is still some room for performance tuning.\n",
       "    var ws = {};\n",
       "\n",
       "    ws.close = function() {\n",
       "        comm.close()\n",
       "    };\n",
       "    ws.send = function(m) {\n",
       "        //console.log('sending', m);\n",
       "        comm.send(m);\n",
       "    };\n",
       "    // Register the callback with on_msg.\n",
       "    comm.on_msg(function(msg) {\n",
       "        //console.log('receiving', msg['content']['data'], msg);\n",
       "        // Pass the mpl event to the overriden (by mpl) onmessage function.\n",
       "        ws.onmessage(msg['content']['data'])\n",
       "    });\n",
       "    return ws;\n",
       "}\n",
       "\n",
       "mpl.mpl_figure_comm = function(comm, msg) {\n",
       "    // This is the function which gets called when the mpl process\n",
       "    // starts-up an IPython Comm through the \"matplotlib\" channel.\n",
       "\n",
       "    var id = msg.content.data.id;\n",
       "    // Get hold of the div created by the display call when the Comm\n",
       "    // socket was opened in Python.\n",
       "    var element = $(\"#\" + id);\n",
       "    var ws_proxy = comm_websocket_adapter(comm)\n",
       "\n",
       "    function ondownload(figure, format) {\n",
       "        window.open(figure.imageObj.src);\n",
       "    }\n",
       "\n",
       "    var fig = new mpl.figure(id, ws_proxy,\n",
       "                           ondownload,\n",
       "                           element.get(0));\n",
       "\n",
       "    // Call onopen now - mpl needs it, as it is assuming we've passed it a real\n",
       "    // web socket which is closed, not our websocket->open comm proxy.\n",
       "    ws_proxy.onopen();\n",
       "\n",
       "    fig.parent_element = element.get(0);\n",
       "    fig.cell_info = mpl.find_output_cell(\"<div id='\" + id + \"'></div>\");\n",
       "    if (!fig.cell_info) {\n",
       "        console.error(\"Failed to find cell for figure\", id, fig);\n",
       "        return;\n",
       "    }\n",
       "\n",
       "    var output_index = fig.cell_info[2]\n",
       "    var cell = fig.cell_info[0];\n",
       "\n",
       "};\n",
       "\n",
       "mpl.figure.prototype.handle_close = function(fig, msg) {\n",
       "    var width = fig.canvas.width/mpl.ratio\n",
       "    fig.root.unbind('remove')\n",
       "\n",
       "    // Update the output cell to use the data from the current canvas.\n",
       "    fig.push_to_output();\n",
       "    var dataURL = fig.canvas.toDataURL();\n",
       "    // Re-enable the keyboard manager in IPython - without this line, in FF,\n",
       "    // the notebook keyboard shortcuts fail.\n",
       "    IPython.keyboard_manager.enable()\n",
       "    $(fig.parent_element).html('<img src=\"' + dataURL + '\" width=\"' + width + '\">');\n",
       "    fig.close_ws(fig, msg);\n",
       "}\n",
       "\n",
       "mpl.figure.prototype.close_ws = function(fig, msg){\n",
       "    fig.send_message('closing', msg);\n",
       "    // fig.ws.close()\n",
       "}\n",
       "\n",
       "mpl.figure.prototype.push_to_output = function(remove_interactive) {\n",
       "    // Turn the data on the canvas into data in the output cell.\n",
       "    var width = this.canvas.width/mpl.ratio\n",
       "    var dataURL = this.canvas.toDataURL();\n",
       "    this.cell_info[1]['text/html'] = '<img src=\"' + dataURL + '\" width=\"' + width + '\">';\n",
       "}\n",
       "\n",
       "mpl.figure.prototype.updated_canvas_event = function() {\n",
       "    // Tell IPython that the notebook contents must change.\n",
       "    IPython.notebook.set_dirty(true);\n",
       "    this.send_message(\"ack\", {});\n",
       "    var fig = this;\n",
       "    // Wait a second, then push the new image to the DOM so\n",
       "    // that it is saved nicely (might be nice to debounce this).\n",
       "    setTimeout(function () { fig.push_to_output() }, 1000);\n",
       "}\n",
       "\n",
       "mpl.figure.prototype._init_toolbar = function() {\n",
       "    var fig = this;\n",
       "\n",
       "    var nav_element = $('<div/>')\n",
       "    nav_element.attr('style', 'width: 100%');\n",
       "    this.root.append(nav_element);\n",
       "\n",
       "    // Define a callback function for later on.\n",
       "    function toolbar_event(event) {\n",
       "        return fig.toolbar_button_onclick(event['data']);\n",
       "    }\n",
       "    function toolbar_mouse_event(event) {\n",
       "        return fig.toolbar_button_onmouseover(event['data']);\n",
       "    }\n",
       "\n",
       "    for(var toolbar_ind in mpl.toolbar_items){\n",
       "        var name = mpl.toolbar_items[toolbar_ind][0];\n",
       "        var tooltip = mpl.toolbar_items[toolbar_ind][1];\n",
       "        var image = mpl.toolbar_items[toolbar_ind][2];\n",
       "        var method_name = mpl.toolbar_items[toolbar_ind][3];\n",
       "\n",
       "        if (!name) { continue; };\n",
       "\n",
       "        var button = $('<button class=\"btn btn-default\" href=\"#\" title=\"' + name + '\"><i class=\"fa ' + image + ' fa-lg\"></i></button>');\n",
       "        button.click(method_name, toolbar_event);\n",
       "        button.mouseover(tooltip, toolbar_mouse_event);\n",
       "        nav_element.append(button);\n",
       "    }\n",
       "\n",
       "    // Add the status bar.\n",
       "    var status_bar = $('<span class=\"mpl-message\" style=\"text-align:right; float: right;\"/>');\n",
       "    nav_element.append(status_bar);\n",
       "    this.message = status_bar[0];\n",
       "\n",
       "    // Add the close button to the window.\n",
       "    var buttongrp = $('<div class=\"btn-group inline pull-right\"></div>');\n",
       "    var button = $('<button class=\"btn btn-mini btn-primary\" href=\"#\" title=\"Stop Interaction\"><i class=\"fa fa-power-off icon-remove icon-large\"></i></button>');\n",
       "    button.click(function (evt) { fig.handle_close(fig, {}); } );\n",
       "    button.mouseover('Stop Interaction', toolbar_mouse_event);\n",
       "    buttongrp.append(button);\n",
       "    var titlebar = this.root.find($('.ui-dialog-titlebar'));\n",
       "    titlebar.prepend(buttongrp);\n",
       "}\n",
       "\n",
       "mpl.figure.prototype._root_extra_style = function(el){\n",
       "    var fig = this\n",
       "    el.on(\"remove\", function(){\n",
       "\tfig.close_ws(fig, {});\n",
       "    });\n",
       "}\n",
       "\n",
       "mpl.figure.prototype._canvas_extra_style = function(el){\n",
       "    // this is important to make the div 'focusable\n",
       "    el.attr('tabindex', 0)\n",
       "    // reach out to IPython and tell the keyboard manager to turn it's self\n",
       "    // off when our div gets focus\n",
       "\n",
       "    // location in version 3\n",
       "    if (IPython.notebook.keyboard_manager) {\n",
       "        IPython.notebook.keyboard_manager.register_events(el);\n",
       "    }\n",
       "    else {\n",
       "        // location in version 2\n",
       "        IPython.keyboard_manager.register_events(el);\n",
       "    }\n",
       "\n",
       "}\n",
       "\n",
       "mpl.figure.prototype._key_event_extra = function(event, name) {\n",
       "    var manager = IPython.notebook.keyboard_manager;\n",
       "    if (!manager)\n",
       "        manager = IPython.keyboard_manager;\n",
       "\n",
       "    // Check for shift+enter\n",
       "    if (event.shiftKey && event.which == 13) {\n",
       "        this.canvas_div.blur();\n",
       "        event.shiftKey = false;\n",
       "        // Send a \"J\" for go to next cell\n",
       "        event.which = 74;\n",
       "        event.keyCode = 74;\n",
       "        manager.command_mode();\n",
       "        manager.handle_keydown(event);\n",
       "    }\n",
       "}\n",
       "\n",
       "mpl.figure.prototype.handle_save = function(fig, msg) {\n",
       "    fig.ondownload(fig, null);\n",
       "}\n",
       "\n",
       "\n",
       "mpl.find_output_cell = function(html_output) {\n",
       "    // Return the cell and output element which can be found *uniquely* in the notebook.\n",
       "    // Note - this is a bit hacky, but it is done because the \"notebook_saving.Notebook\"\n",
       "    // IPython event is triggered only after the cells have been serialised, which for\n",
       "    // our purposes (turning an active figure into a static one), is too late.\n",
       "    var cells = IPython.notebook.get_cells();\n",
       "    var ncells = cells.length;\n",
       "    for (var i=0; i<ncells; i++) {\n",
       "        var cell = cells[i];\n",
       "        if (cell.cell_type === 'code'){\n",
       "            for (var j=0; j<cell.output_area.outputs.length; j++) {\n",
       "                var data = cell.output_area.outputs[j];\n",
       "                if (data.data) {\n",
       "                    // IPython >= 3 moved mimebundle to data attribute of output\n",
       "                    data = data.data;\n",
       "                }\n",
       "                if (data['text/html'] == html_output) {\n",
       "                    return [cell, data, j];\n",
       "                }\n",
       "            }\n",
       "        }\n",
       "    }\n",
       "}\n",
       "\n",
       "// Register the function which deals with the matplotlib target/channel.\n",
       "// The kernel may be null if the page has been refreshed.\n",
       "if (IPython.notebook.kernel != null) {\n",
       "    IPython.notebook.kernel.comm_manager.register_target('matplotlib', mpl.mpl_figure_comm);\n",
       "}\n"
      ],
      "text/plain": [
       "<IPython.core.display.Javascript object>"
      ]
     },
     "metadata": {},
     "output_type": "display_data"
    },
    {
     "data": {
      "text/html": [
       "<img src=\"data:image/png;base64,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\" width=\"639.4710340596957\">"
      ],
      "text/plain": [
       "<IPython.core.display.HTML object>"
      ]
     },
     "metadata": {},
     "output_type": "display_data"
    }
   ],
   "source": [
    "plot_pr_curve(precision_baby, recall_baby, \"Precision-Recall (Baby)\")"
   ]
  },
  {
   "cell_type": "code",
   "execution_count": null,
   "metadata": {},
   "outputs": [],
   "source": []
  }
 ],
 "metadata": {
  "kernelspec": {
   "display_name": "Python 3",
   "language": "python",
   "name": "python3"
  },
  "language_info": {
   "codemirror_mode": {
    "name": "ipython",
    "version": 3
   },
   "file_extension": ".py",
   "mimetype": "text/x-python",
   "name": "python",
   "nbconvert_exporter": "python",
   "pygments_lexer": "ipython3",
   "version": "3.6.3"
  },
  "toc": {
   "nav_menu": {},
   "number_sections": true,
   "sideBar": true,
   "skip_h1_title": false,
   "title_cell": "Table of Contents",
   "title_sidebar": "Contents",
   "toc_cell": false,
   "toc_position": {},
   "toc_section_display": true,
   "toc_window_display": false
  },
  "varInspector": {
   "cols": {
    "lenName": 16,
    "lenType": 16,
    "lenVar": 40
   },
   "kernels_config": {
    "python": {
     "delete_cmd_postfix": "",
     "delete_cmd_prefix": "del ",
     "library": "var_list.py",
     "varRefreshCmd": "print(var_dic_list())"
    },
    "r": {
     "delete_cmd_postfix": ") ",
     "delete_cmd_prefix": "rm(",
     "library": "var_list.r",
     "varRefreshCmd": "cat(var_dic_list()) "
    }
   },
   "types_to_exclude": [
    "module",
    "function",
    "builtin_function_or_method",
    "instance",
    "_Feature"
   ],
   "window_display": false
  }
 },
 "nbformat": 4,
 "nbformat_minor": 2
}
