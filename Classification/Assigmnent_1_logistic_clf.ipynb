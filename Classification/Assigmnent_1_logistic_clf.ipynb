{
 "cells": [
  {
   "cell_type": "code",
   "execution_count": 1,
   "metadata": {
    "ExecuteTime": {
     "end_time": "2018-02-25T16:32:39.090014Z",
     "start_time": "2018-02-25T16:32:38.578301Z"
    }
   },
   "outputs": [],
   "source": [
    "import pandas as pd\n",
    "import numpy as np"
   ]
  },
  {
   "cell_type": "code",
   "execution_count": 4,
   "metadata": {
    "ExecuteTime": {
     "end_time": "2018-02-25T16:32:49.307791Z",
     "start_time": "2018-02-25T16:32:47.827450Z"
    }
   },
   "outputs": [],
   "source": [
    "products=pd.read_csv(\"amazon_baby.csv\")\n",
    "products = products.fillna({'review':''})"
   ]
  },
  {
   "cell_type": "code",
   "execution_count": 5,
   "metadata": {
    "ExecuteTime": {
     "end_time": "2018-02-25T16:32:49.996370Z",
     "start_time": "2018-02-25T16:32:49.978844Z"
    }
   },
   "outputs": [
    {
     "data": {
      "text/html": [
       "<div>\n",
       "<style>\n",
       "    .dataframe thead tr:only-child th {\n",
       "        text-align: right;\n",
       "    }\n",
       "\n",
       "    .dataframe thead th {\n",
       "        text-align: left;\n",
       "    }\n",
       "\n",
       "    .dataframe tbody tr th {\n",
       "        vertical-align: top;\n",
       "    }\n",
       "</style>\n",
       "<table border=\"1\" class=\"dataframe\">\n",
       "  <thead>\n",
       "    <tr style=\"text-align: right;\">\n",
       "      <th></th>\n",
       "      <th>name</th>\n",
       "      <th>review</th>\n",
       "      <th>rating</th>\n",
       "    </tr>\n",
       "  </thead>\n",
       "  <tbody>\n",
       "    <tr>\n",
       "      <th>0</th>\n",
       "      <td>Planetwise Flannel Wipes</td>\n",
       "      <td>These flannel wipes are OK, but in my opinion ...</td>\n",
       "      <td>3</td>\n",
       "    </tr>\n",
       "    <tr>\n",
       "      <th>1</th>\n",
       "      <td>Planetwise Wipe Pouch</td>\n",
       "      <td>it came early and was not disappointed. i love...</td>\n",
       "      <td>5</td>\n",
       "    </tr>\n",
       "    <tr>\n",
       "      <th>2</th>\n",
       "      <td>Annas Dream Full Quilt with 2 Shams</td>\n",
       "      <td>Very soft and comfortable and warmer than it l...</td>\n",
       "      <td>5</td>\n",
       "    </tr>\n",
       "    <tr>\n",
       "      <th>3</th>\n",
       "      <td>Stop Pacifier Sucking without tears with Thumb...</td>\n",
       "      <td>This is a product well worth the purchase.  I ...</td>\n",
       "      <td>5</td>\n",
       "    </tr>\n",
       "    <tr>\n",
       "      <th>4</th>\n",
       "      <td>Stop Pacifier Sucking without tears with Thumb...</td>\n",
       "      <td>All of my kids have cried non-stop when I trie...</td>\n",
       "      <td>5</td>\n",
       "    </tr>\n",
       "  </tbody>\n",
       "</table>\n",
       "</div>"
      ],
      "text/plain": [
       "                                                name  \\\n",
       "0                           Planetwise Flannel Wipes   \n",
       "1                              Planetwise Wipe Pouch   \n",
       "2                Annas Dream Full Quilt with 2 Shams   \n",
       "3  Stop Pacifier Sucking without tears with Thumb...   \n",
       "4  Stop Pacifier Sucking without tears with Thumb...   \n",
       "\n",
       "                                              review  rating  \n",
       "0  These flannel wipes are OK, but in my opinion ...       3  \n",
       "1  it came early and was not disappointed. i love...       5  \n",
       "2  Very soft and comfortable and warmer than it l...       5  \n",
       "3  This is a product well worth the purchase.  I ...       5  \n",
       "4  All of my kids have cried non-stop when I trie...       5  "
      ]
     },
     "execution_count": 5,
     "metadata": {},
     "output_type": "execute_result"
    }
   ],
   "source": [
    "products.head()"
   ]
  },
  {
   "cell_type": "code",
   "execution_count": 6,
   "metadata": {
    "ExecuteTime": {
     "end_time": "2018-02-25T16:32:51.018905Z",
     "start_time": "2018-02-25T16:32:51.011404Z"
    }
   },
   "outputs": [],
   "source": [
    "def remove_punctuation(text):\n",
    "    import string #still good for vairables like puntcuation \n",
    "    import re\n",
    "    \n",
    "    punctuation=string.punctuation #list of punctuation simbols\n",
    "    clean=re.sub(r'[{}]'.format(punctuation),'',text) #make pattern with symbols and replace them\n",
    "    \n",
    "    return clean"
   ]
  },
  {
   "cell_type": "code",
   "execution_count": 7,
   "metadata": {
    "ExecuteTime": {
     "end_time": "2018-02-25T16:32:54.120714Z",
     "start_time": "2018-02-25T16:32:51.986753Z"
    }
   },
   "outputs": [],
   "source": [
    "products[\"review clean\"]=products[\"review\"].apply(remove_punctuation)\n"
   ]
  },
  {
   "cell_type": "code",
   "execution_count": 41,
   "metadata": {
    "ExecuteTime": {
     "end_time": "2018-02-25T17:09:50.235887Z",
     "start_time": "2018-02-25T17:09:50.181881Z"
    }
   },
   "outputs": [
    {
     "data": {
      "text/plain": [
       "166752"
      ]
     },
     "execution_count": 41,
     "metadata": {},
     "output_type": "execute_result"
    }
   ],
   "source": [
    "# ignore reviews with ratin=3 --> neutral sentiment\n",
    "\n",
    "products=products[products[\"rating\"] !=3].copy()\n",
    "len(products)"
   ]
  },
  {
   "cell_type": "code",
   "execution_count": 9,
   "metadata": {
    "ExecuteTime": {
     "end_time": "2018-02-25T16:32:57.116843Z",
     "start_time": "2018-02-25T16:32:57.040331Z"
    }
   },
   "outputs": [],
   "source": [
    "#reviews with rating 4+ are positive, revs with rating 2- are negative\n",
    "products[\"sentiment\"]=products[\"rating\"].apply(lambda rating: +1 if rating >3 else -1)"
   ]
  },
  {
   "cell_type": "code",
   "execution_count": 20,
   "metadata": {
    "ExecuteTime": {
     "end_time": "2018-02-25T16:36:16.544738Z",
     "start_time": "2018-02-25T16:36:16.468208Z"
    }
   },
   "outputs": [],
   "source": [
    "#split data\n",
    "\n",
    "test_index=pd.read_json(\"module-2-assignment-test-idx.json\", typ=\"series\")\n",
    "train_index=pd.read_json(\"module-2-assignment-train-idx.json\", typ=\"series\")\n"
   ]
  },
  {
   "cell_type": "code",
   "execution_count": 11,
   "metadata": {
    "ExecuteTime": {
     "end_time": "2018-02-25T16:33:21.392473Z",
     "start_time": "2018-02-25T16:33:21.361438Z"
    }
   },
   "outputs": [],
   "source": [
    "test=products.iloc[test_index]\n",
    "\n",
    "train=products.iloc[train_index]\n",
    "#could screw mw over, since index "
   ]
  },
  {
   "cell_type": "code",
   "execution_count": 23,
   "metadata": {
    "ExecuteTime": {
     "end_time": "2018-02-25T16:45:16.385828Z",
     "start_time": "2018-02-25T16:45:00.820522Z"
    }
   },
   "outputs": [],
   "source": [
    "# make vectorizer\n",
    "\n",
    "from sklearn.feature_extraction.text import CountVectorizer\n",
    "\n",
    "vectorizer=CountVectorizer(token_pattern=r\"\\b\\w+\\b\") #keeps single letter words\n",
    "\n",
    "#learn vocabulary from data and assign columns to words\n",
    "#then convert data into sparse matrix\n",
    "train_matrix=vectorizer.fit_transform(train[\"review clean\"])\n",
    "test_matrix=vectorizer.transform(test[\"review clean\"])"
   ]
  },
  {
   "cell_type": "code",
   "execution_count": 24,
   "metadata": {
    "ExecuteTime": {
     "end_time": "2018-02-25T16:54:13.522899Z",
     "start_time": "2018-02-25T16:52:08.478372Z"
    }
   },
   "outputs": [],
   "source": [
    "# train clf with log regresson\n",
    "X_train=train_matrix.copy()\n",
    "y_train=train[\"sentiment\"].copy()\n",
    "\n",
    "from sklearn.linear_model import LogisticRegression\n",
    "sentiment_model=LogisticRegression().fit(X_train, y_train)"
   ]
  },
  {
   "cell_type": "code",
   "execution_count": 25,
   "metadata": {
    "ExecuteTime": {
     "end_time": "2018-02-25T16:54:27.531805Z",
     "start_time": "2018-02-25T16:54:27.526304Z"
    }
   },
   "outputs": [
    {
     "data": {
      "text/plain": [
       "(1, 121706)"
      ]
     },
     "execution_count": 25,
     "metadata": {},
     "output_type": "execute_result"
    }
   ],
   "source": [
    "sentiment_model.coef_.shape"
   ]
  },
  {
   "cell_type": "markdown",
   "metadata": {},
   "source": [
    "# Q1 How many weights are greater than or equal to 0?\n",
    "\n",
    "Q1=86973"
   ]
  },
  {
   "cell_type": "code",
   "execution_count": 44,
   "metadata": {
    "ExecuteTime": {
     "end_time": "2018-02-25T17:12:28.558589Z",
     "start_time": "2018-02-25T17:12:28.554089Z"
    }
   },
   "outputs": [],
   "source": [
    "Q1=(sentiment_model.coef_ >=0).sum()\n",
    "neg=(sentiment_model.coef_ <0).sum()"
   ]
  },
  {
   "cell_type": "code",
   "execution_count": 46,
   "metadata": {
    "ExecuteTime": {
     "end_time": "2018-02-25T17:12:38.124294Z",
     "start_time": "2018-02-25T17:12:38.118796Z"
    }
   },
   "outputs": [
    {
     "data": {
      "text/plain": [
       "(86973, 34733)"
      ]
     },
     "execution_count": 46,
     "metadata": {},
     "output_type": "execute_result"
    }
   ],
   "source": [
    "Q1, neg"
   ]
  },
  {
   "cell_type": "markdown",
   "metadata": {
    "ExecuteTime": {
     "end_time": "2018-02-25T16:58:15.665071Z",
     "start_time": "2018-02-25T16:58:15.662068Z"
    }
   },
   "source": [
    "# Q2 Of the three data points in sample_test_data, which one has the lowest probability of being classified as a positive review?\n",
    "\n",
    "Q2=third"
   ]
  },
  {
   "cell_type": "code",
   "execution_count": 33,
   "metadata": {
    "ExecuteTime": {
     "end_time": "2018-02-25T16:59:19.445572Z",
     "start_time": "2018-02-25T16:59:19.441571Z"
    }
   },
   "outputs": [],
   "source": [
    "sample_test_data=test[10:13]"
   ]
  },
  {
   "cell_type": "code",
   "execution_count": 35,
   "metadata": {
    "ExecuteTime": {
     "end_time": "2018-02-25T17:02:02.096388Z",
     "start_time": "2018-02-25T17:02:02.089387Z"
    }
   },
   "outputs": [
    {
     "name": "stdout",
     "output_type": "stream",
     "text": [
      "[  5.60115395  -3.16926451 -10.42289435]\n"
     ]
    }
   ],
   "source": [
    "sample_test_matrix=vectorizer.transform(sample_test_data[\"review clean\"])\n",
    "scores=sentiment_model.decision_function(sample_test_matrix)\n",
    "print(scores)"
   ]
  },
  {
   "cell_type": "code",
   "execution_count": 47,
   "metadata": {
    "ExecuteTime": {
     "end_time": "2018-02-25T17:14:24.580995Z",
     "start_time": "2018-02-25T17:14:24.570992Z"
    }
   },
   "outputs": [],
   "source": [
    "def class_prediction(scores):\n",
    "    \n",
    "    preds=[]\n",
    "    for score in scores:\n",
    "        if score >0:\n",
    "            pred=1\n",
    "        else:\n",
    "            pred=-1\n",
    "        preds.append(pred)\n",
    "    return preds"
   ]
  },
  {
   "cell_type": "code",
   "execution_count": 48,
   "metadata": {
    "ExecuteTime": {
     "end_time": "2018-02-25T17:14:36.788560Z",
     "start_time": "2018-02-25T17:14:36.783561Z"
    },
    "cell_style": "split"
   },
   "outputs": [
    {
     "data": {
      "text/plain": [
       "[1, -1, -1]"
      ]
     },
     "execution_count": 48,
     "metadata": {},
     "output_type": "execute_result"
    }
   ],
   "source": [
    "class_prediction(scores)"
   ]
  },
  {
   "cell_type": "code",
   "execution_count": 49,
   "metadata": {
    "ExecuteTime": {
     "end_time": "2018-02-25T17:14:57.182061Z",
     "start_time": "2018-02-25T17:14:57.176062Z"
    },
    "cell_style": "split"
   },
   "outputs": [
    {
     "data": {
      "text/plain": [
       "array([ 1, -1, -1], dtype=int64)"
      ]
     },
     "execution_count": 49,
     "metadata": {},
     "output_type": "execute_result"
    }
   ],
   "source": [
    "#check\n",
    "sentiment_model.predict(sample_test_matrix)"
   ]
  },
  {
   "cell_type": "code",
   "execution_count": 83,
   "metadata": {
    "ExecuteTime": {
     "end_time": "2018-02-25T17:30:25.484230Z",
     "start_time": "2018-02-25T17:30:25.470708Z"
    }
   },
   "outputs": [
    {
     "data": {
      "text/plain": [
       "array([  9.96319993e-01,   4.03388779e-02,   2.97427814e-05])"
      ]
     },
     "execution_count": 83,
     "metadata": {},
     "output_type": "execute_result"
    }
   ],
   "source": [
    "def calc_prob(scores):\n",
    "    \"\"\" Calculate the probability predictions from the scores.\n",
    "    \"\"\"\n",
    "    import numpy as np\n",
    "    #scores=scores.reshape([1,3])\n",
    "    prob_preds=[]\n",
    "    for score in scores:\n",
    "        prob_pred=1/( 1+np.exp(-scores) )\n",
    "        prob_preds.append(prob_pred)\n",
    "    return prob_preds[1]\n",
    "\n",
    "calc_prob(scores)"
   ]
  },
  {
   "cell_type": "code",
   "execution_count": 84,
   "metadata": {
    "ExecuteTime": {
     "end_time": "2018-02-25T17:30:32.960484Z",
     "start_time": "2018-02-25T17:30:32.953486Z"
    }
   },
   "outputs": [
    {
     "data": {
      "text/plain": [
       "array([  9.96319993e-01,   4.03388779e-02,   2.97427814e-05])"
      ]
     },
     "execution_count": 84,
     "metadata": {},
     "output_type": "execute_result"
    }
   ],
   "source": [
    "#check\n",
    "probs=sentiment_model.predict_proba(sample_test_matrix)[:,1]\n",
    "probs"
   ]
  },
  {
   "cell_type": "markdown",
   "metadata": {
    "ExecuteTime": {
     "end_time": "2018-02-25T17:31:57.943664Z",
     "start_time": "2018-02-25T17:31:57.939665Z"
    }
   },
   "source": [
    "# Q3 top 20 reviews\n",
    "\n",
    "Q3= Britax decathlon....."
   ]
  },
  {
   "cell_type": "code",
   "execution_count": 107,
   "metadata": {
    "ExecuteTime": {
     "end_time": "2018-02-25T17:39:31.008967Z",
     "start_time": "2018-02-25T17:39:27.833566Z"
    }
   },
   "outputs": [],
   "source": [
    "test_matrix=vectorizer.transform(test[\"review clean\"])\n",
    "test[\"predicted_proba\"]=sentiment_model.predict_proba(test_matrix)[:,1]"
   ]
  },
  {
   "cell_type": "code",
   "execution_count": 114,
   "metadata": {
    "ExecuteTime": {
     "end_time": "2018-02-25T17:41:35.579790Z",
     "start_time": "2018-02-25T17:41:35.564771Z"
    }
   },
   "outputs": [],
   "source": [
    "top20=test.sort_values(by=\"predicted_proba\", ascending=False)[:21]"
   ]
  },
  {
   "cell_type": "code",
   "execution_count": 115,
   "metadata": {
    "ExecuteTime": {
     "end_time": "2018-02-25T17:41:37.622533Z",
     "start_time": "2018-02-25T17:41:37.597527Z"
    },
    "scrolled": true
   },
   "outputs": [
    {
     "data": {
      "text/html": [
       "<div>\n",
       "<style>\n",
       "    .dataframe thead tr:only-child th {\n",
       "        text-align: right;\n",
       "    }\n",
       "\n",
       "    .dataframe thead th {\n",
       "        text-align: left;\n",
       "    }\n",
       "\n",
       "    .dataframe tbody tr th {\n",
       "        vertical-align: top;\n",
       "    }\n",
       "</style>\n",
       "<table border=\"1\" class=\"dataframe\">\n",
       "  <thead>\n",
       "    <tr style=\"text-align: right;\">\n",
       "      <th></th>\n",
       "      <th>name</th>\n",
       "      <th>review</th>\n",
       "      <th>rating</th>\n",
       "      <th>review clean</th>\n",
       "      <th>sentiment</th>\n",
       "      <th>predicted_proba</th>\n",
       "    </tr>\n",
       "  </thead>\n",
       "  <tbody>\n",
       "    <tr>\n",
       "      <th>52631</th>\n",
       "      <td>Evenflo X Sport Plus Convenience Stroller - Ch...</td>\n",
       "      <td>After seeing this in Parent's Magazine and rea...</td>\n",
       "      <td>5</td>\n",
       "      <td>After seeing this in Parents Magazine and read...</td>\n",
       "      <td>1</td>\n",
       "      <td>1.0</td>\n",
       "    </tr>\n",
       "    <tr>\n",
       "      <th>80155</th>\n",
       "      <td>Simple Wishes Hands-Free Breastpump Bra, Pink,...</td>\n",
       "      <td>I just tried this hands free breastpump bra, a...</td>\n",
       "      <td>5</td>\n",
       "      <td>I just tried this hands free breastpump bra an...</td>\n",
       "      <td>1</td>\n",
       "      <td>1.0</td>\n",
       "    </tr>\n",
       "    <tr>\n",
       "      <th>50315</th>\n",
       "      <td>P'Kolino Silly Soft Seating in Tias, Green</td>\n",
       "      <td>I've purchased both the P'Kolino Little Reader...</td>\n",
       "      <td>4</td>\n",
       "      <td>Ive purchased both the PKolino Little Reader C...</td>\n",
       "      <td>1</td>\n",
       "      <td>1.0</td>\n",
       "    </tr>\n",
       "    <tr>\n",
       "      <th>87017</th>\n",
       "      <td>Baby Einstein Around The World Discovery Center</td>\n",
       "      <td>I am so HAPPY I brought this item for my 7 mon...</td>\n",
       "      <td>5</td>\n",
       "      <td>I am so HAPPY I brought this item for my 7 mon...</td>\n",
       "      <td>1</td>\n",
       "      <td>1.0</td>\n",
       "    </tr>\n",
       "    <tr>\n",
       "      <th>66059</th>\n",
       "      <td>Evenflo 6 Pack Classic Glass Bottle, 4-Ounce</td>\n",
       "      <td>It's always fun to write a review on those pro...</td>\n",
       "      <td>5</td>\n",
       "      <td>Its always fun to write a review on those prod...</td>\n",
       "      <td>1</td>\n",
       "      <td>1.0</td>\n",
       "    </tr>\n",
       "    <tr>\n",
       "      <th>168081</th>\n",
       "      <td>Buttons Cloth Diaper Cover - One Size - 8 Colo...</td>\n",
       "      <td>We are big Best Bottoms fans here, but I wante...</td>\n",
       "      <td>4</td>\n",
       "      <td>We are big Best Bottoms fans here but I wanted...</td>\n",
       "      <td>1</td>\n",
       "      <td>1.0</td>\n",
       "    </tr>\n",
       "    <tr>\n",
       "      <th>97325</th>\n",
       "      <td>Freemie Hands-Free Concealable Breast Pump Col...</td>\n",
       "      <td>I absolutely love this product.  I work as a C...</td>\n",
       "      <td>5</td>\n",
       "      <td>I absolutely love this product  I work as a Cu...</td>\n",
       "      <td>1</td>\n",
       "      <td>1.0</td>\n",
       "    </tr>\n",
       "    <tr>\n",
       "      <th>140816</th>\n",
       "      <td>Diono RadianRXT Convertible Car Seat, Plum</td>\n",
       "      <td>I bought this seat for my tall (38in) and thin...</td>\n",
       "      <td>5</td>\n",
       "      <td>I bought this seat for my tall 38in and thin 2...</td>\n",
       "      <td>1</td>\n",
       "      <td>1.0</td>\n",
       "    </tr>\n",
       "    <tr>\n",
       "      <th>168697</th>\n",
       "      <td>Graco FastAction Fold Jogger Click Connect Str...</td>\n",
       "      <td>Graco's FastAction Jogging Stroller definitely...</td>\n",
       "      <td>5</td>\n",
       "      <td>Gracos FastAction Jogging Stroller definitely ...</td>\n",
       "      <td>1</td>\n",
       "      <td>1.0</td>\n",
       "    </tr>\n",
       "    <tr>\n",
       "      <th>22586</th>\n",
       "      <td>Britax Decathlon Convertible Car Seat, Tiffany</td>\n",
       "      <td>I researched a few different seats to put in o...</td>\n",
       "      <td>4</td>\n",
       "      <td>I researched a few different seats to put in o...</td>\n",
       "      <td>1</td>\n",
       "      <td>1.0</td>\n",
       "    </tr>\n",
       "    <tr>\n",
       "      <th>137034</th>\n",
       "      <td>Graco Pack 'n Play Element Playard - Flint</td>\n",
       "      <td>My husband and I assembled this Pack n' Play l...</td>\n",
       "      <td>4</td>\n",
       "      <td>My husband and I assembled this Pack n Play la...</td>\n",
       "      <td>1</td>\n",
       "      <td>1.0</td>\n",
       "    </tr>\n",
       "    <tr>\n",
       "      <th>133651</th>\n",
       "      <td>Britax 2012 B-Agile Stroller, Red</td>\n",
       "      <td>[I got this stroller for my daughter prior to ...</td>\n",
       "      <td>4</td>\n",
       "      <td>I got this stroller for my daughter prior to t...</td>\n",
       "      <td>1</td>\n",
       "      <td>1.0</td>\n",
       "    </tr>\n",
       "    <tr>\n",
       "      <th>147949</th>\n",
       "      <td>Baby Jogger City Mini GT Single Stroller, Shad...</td>\n",
       "      <td>Amazing, Love, Love, Love it !!! All 5 STARS a...</td>\n",
       "      <td>5</td>\n",
       "      <td>Amazing Love Love Love it  All 5 STARS all the...</td>\n",
       "      <td>1</td>\n",
       "      <td>1.0</td>\n",
       "    </tr>\n",
       "    <tr>\n",
       "      <th>119182</th>\n",
       "      <td>Roan Rocco Classic Pram Stroller 2-in-1 with B...</td>\n",
       "      <td>Great Pram Rocco!!!!!!I bought this pram from ...</td>\n",
       "      <td>5</td>\n",
       "      <td>Great Pram RoccoI bought this pram from Europe...</td>\n",
       "      <td>1</td>\n",
       "      <td>1.0</td>\n",
       "    </tr>\n",
       "    <tr>\n",
       "      <th>100166</th>\n",
       "      <td>Infantino Wrap and Tie Baby Carrier, Black Blu...</td>\n",
       "      <td>I bought this carrier when my daughter was abo...</td>\n",
       "      <td>5</td>\n",
       "      <td>I bought this carrier when my daughter was abo...</td>\n",
       "      <td>1</td>\n",
       "      <td>1.0</td>\n",
       "    </tr>\n",
       "    <tr>\n",
       "      <th>114796</th>\n",
       "      <td>Fisher-Price Cradle 'N Swing,  My Little Snuga...</td>\n",
       "      <td>My husband and I cannot state enough how much ...</td>\n",
       "      <td>5</td>\n",
       "      <td>My husband and I cannot state enough how much ...</td>\n",
       "      <td>1</td>\n",
       "      <td>1.0</td>\n",
       "    </tr>\n",
       "    <tr>\n",
       "      <th>180646</th>\n",
       "      <td>Mamas &amp;amp; Papas 2014 Urbo2 Stroller - Black</td>\n",
       "      <td>After much research I purchased an Urbo2. It's...</td>\n",
       "      <td>4</td>\n",
       "      <td>After much research I purchased an Urbo2 Its e...</td>\n",
       "      <td>1</td>\n",
       "      <td>1.0</td>\n",
       "    </tr>\n",
       "    <tr>\n",
       "      <th>165593</th>\n",
       "      <td>Ikea 36 Pcs Kalas Kids Plastic BPA Free Flatwa...</td>\n",
       "      <td>For the price this set is unbelievable- and tr...</td>\n",
       "      <td>5</td>\n",
       "      <td>For the price this set is unbelievable and tru...</td>\n",
       "      <td>1</td>\n",
       "      <td>1.0</td>\n",
       "    </tr>\n",
       "    <tr>\n",
       "      <th>182089</th>\n",
       "      <td>Summer Infant Wide View Digital Color Video Mo...</td>\n",
       "      <td>I love this baby monitor.  I can compare this ...</td>\n",
       "      <td>5</td>\n",
       "      <td>I love this baby monitor  I can compare this o...</td>\n",
       "      <td>1</td>\n",
       "      <td>1.0</td>\n",
       "    </tr>\n",
       "    <tr>\n",
       "      <th>147996</th>\n",
       "      <td>Baby Jogger City Mini GT Double Stroller, Shad...</td>\n",
       "      <td>We are well pleased with this stroller, and I ...</td>\n",
       "      <td>4</td>\n",
       "      <td>We are well pleased with this stroller and I w...</td>\n",
       "      <td>1</td>\n",
       "      <td>1.0</td>\n",
       "    </tr>\n",
       "    <tr>\n",
       "      <th>172351</th>\n",
       "      <td>Phil &amp;amp; Teds Navigator Buggy Golden Kiwi Fr...</td>\n",
       "      <td>I'm pretty happy with this stroller. I use it ...</td>\n",
       "      <td>4</td>\n",
       "      <td>Im pretty happy with this stroller I use it wi...</td>\n",
       "      <td>1</td>\n",
       "      <td>1.0</td>\n",
       "    </tr>\n",
       "  </tbody>\n",
       "</table>\n",
       "</div>"
      ],
      "text/plain": [
       "                                                     name  \\\n",
       "52631   Evenflo X Sport Plus Convenience Stroller - Ch...   \n",
       "80155   Simple Wishes Hands-Free Breastpump Bra, Pink,...   \n",
       "50315          P'Kolino Silly Soft Seating in Tias, Green   \n",
       "87017     Baby Einstein Around The World Discovery Center   \n",
       "66059        Evenflo 6 Pack Classic Glass Bottle, 4-Ounce   \n",
       "168081  Buttons Cloth Diaper Cover - One Size - 8 Colo...   \n",
       "97325   Freemie Hands-Free Concealable Breast Pump Col...   \n",
       "140816         Diono RadianRXT Convertible Car Seat, Plum   \n",
       "168697  Graco FastAction Fold Jogger Click Connect Str...   \n",
       "22586      Britax Decathlon Convertible Car Seat, Tiffany   \n",
       "137034         Graco Pack 'n Play Element Playard - Flint   \n",
       "133651                  Britax 2012 B-Agile Stroller, Red   \n",
       "147949  Baby Jogger City Mini GT Single Stroller, Shad...   \n",
       "119182  Roan Rocco Classic Pram Stroller 2-in-1 with B...   \n",
       "100166  Infantino Wrap and Tie Baby Carrier, Black Blu...   \n",
       "114796  Fisher-Price Cradle 'N Swing,  My Little Snuga...   \n",
       "180646      Mamas &amp; Papas 2014 Urbo2 Stroller - Black   \n",
       "165593  Ikea 36 Pcs Kalas Kids Plastic BPA Free Flatwa...   \n",
       "182089  Summer Infant Wide View Digital Color Video Mo...   \n",
       "147996  Baby Jogger City Mini GT Double Stroller, Shad...   \n",
       "172351  Phil &amp; Teds Navigator Buggy Golden Kiwi Fr...   \n",
       "\n",
       "                                                   review  rating  \\\n",
       "52631   After seeing this in Parent's Magazine and rea...       5   \n",
       "80155   I just tried this hands free breastpump bra, a...       5   \n",
       "50315   I've purchased both the P'Kolino Little Reader...       4   \n",
       "87017   I am so HAPPY I brought this item for my 7 mon...       5   \n",
       "66059   It's always fun to write a review on those pro...       5   \n",
       "168081  We are big Best Bottoms fans here, but I wante...       4   \n",
       "97325   I absolutely love this product.  I work as a C...       5   \n",
       "140816  I bought this seat for my tall (38in) and thin...       5   \n",
       "168697  Graco's FastAction Jogging Stroller definitely...       5   \n",
       "22586   I researched a few different seats to put in o...       4   \n",
       "137034  My husband and I assembled this Pack n' Play l...       4   \n",
       "133651  [I got this stroller for my daughter prior to ...       4   \n",
       "147949  Amazing, Love, Love, Love it !!! All 5 STARS a...       5   \n",
       "119182  Great Pram Rocco!!!!!!I bought this pram from ...       5   \n",
       "100166  I bought this carrier when my daughter was abo...       5   \n",
       "114796  My husband and I cannot state enough how much ...       5   \n",
       "180646  After much research I purchased an Urbo2. It's...       4   \n",
       "165593  For the price this set is unbelievable- and tr...       5   \n",
       "182089  I love this baby monitor.  I can compare this ...       5   \n",
       "147996  We are well pleased with this stroller, and I ...       4   \n",
       "172351  I'm pretty happy with this stroller. I use it ...       4   \n",
       "\n",
       "                                             review clean  sentiment  \\\n",
       "52631   After seeing this in Parents Magazine and read...          1   \n",
       "80155   I just tried this hands free breastpump bra an...          1   \n",
       "50315   Ive purchased both the PKolino Little Reader C...          1   \n",
       "87017   I am so HAPPY I brought this item for my 7 mon...          1   \n",
       "66059   Its always fun to write a review on those prod...          1   \n",
       "168081  We are big Best Bottoms fans here but I wanted...          1   \n",
       "97325   I absolutely love this product  I work as a Cu...          1   \n",
       "140816  I bought this seat for my tall 38in and thin 2...          1   \n",
       "168697  Gracos FastAction Jogging Stroller definitely ...          1   \n",
       "22586   I researched a few different seats to put in o...          1   \n",
       "137034  My husband and I assembled this Pack n Play la...          1   \n",
       "133651  I got this stroller for my daughter prior to t...          1   \n",
       "147949  Amazing Love Love Love it  All 5 STARS all the...          1   \n",
       "119182  Great Pram RoccoI bought this pram from Europe...          1   \n",
       "100166  I bought this carrier when my daughter was abo...          1   \n",
       "114796  My husband and I cannot state enough how much ...          1   \n",
       "180646  After much research I purchased an Urbo2 Its e...          1   \n",
       "165593  For the price this set is unbelievable and tru...          1   \n",
       "182089  I love this baby monitor  I can compare this o...          1   \n",
       "147996  We are well pleased with this stroller and I w...          1   \n",
       "172351  Im pretty happy with this stroller I use it wi...          1   \n",
       "\n",
       "        predicted_proba  \n",
       "52631               1.0  \n",
       "80155               1.0  \n",
       "50315               1.0  \n",
       "87017               1.0  \n",
       "66059               1.0  \n",
       "168081              1.0  \n",
       "97325               1.0  \n",
       "140816              1.0  \n",
       "168697              1.0  \n",
       "22586               1.0  \n",
       "137034              1.0  \n",
       "133651              1.0  \n",
       "147949              1.0  \n",
       "119182              1.0  \n",
       "100166              1.0  \n",
       "114796              1.0  \n",
       "180646              1.0  \n",
       "165593              1.0  \n",
       "182089              1.0  \n",
       "147996              1.0  \n",
       "172351              1.0  "
      ]
     },
     "execution_count": 115,
     "metadata": {},
     "output_type": "execute_result"
    }
   ],
   "source": [
    "top20"
   ]
  },
  {
   "cell_type": "markdown",
   "metadata": {
    "ExecuteTime": {
     "end_time": "2018-02-25T17:44:34.737577Z",
     "start_time": "2018-02-25T17:44:34.720075Z"
    }
   },
   "source": [
    "# Q4 looser20 (most neg revs)\n",
    "\n",
    "Q4= the first year..., Peg-perego, safety 1st high def monitor"
   ]
  },
  {
   "cell_type": "code",
   "execution_count": 118,
   "metadata": {
    "ExecuteTime": {
     "end_time": "2018-02-25T17:44:40.269313Z",
     "start_time": "2018-02-25T17:44:40.245310Z"
    },
    "scrolled": true
   },
   "outputs": [
    {
     "data": {
      "text/html": [
       "<div>\n",
       "<style>\n",
       "    .dataframe thead tr:only-child th {\n",
       "        text-align: right;\n",
       "    }\n",
       "\n",
       "    .dataframe thead th {\n",
       "        text-align: left;\n",
       "    }\n",
       "\n",
       "    .dataframe tbody tr th {\n",
       "        vertical-align: top;\n",
       "    }\n",
       "</style>\n",
       "<table border=\"1\" class=\"dataframe\">\n",
       "  <thead>\n",
       "    <tr style=\"text-align: right;\">\n",
       "      <th></th>\n",
       "      <th>name</th>\n",
       "      <th>review</th>\n",
       "      <th>rating</th>\n",
       "      <th>review clean</th>\n",
       "      <th>sentiment</th>\n",
       "      <th>predicted_proba</th>\n",
       "    </tr>\n",
       "  </thead>\n",
       "  <tbody>\n",
       "    <tr>\n",
       "      <th>16042</th>\n",
       "      <td>Fisher-Price Ocean Wonders Aquarium Bouncer</td>\n",
       "      <td>We have not had ANY luck with Fisher-Price pro...</td>\n",
       "      <td>2</td>\n",
       "      <td>We have not had ANY luck with FisherPrice prod...</td>\n",
       "      <td>-1</td>\n",
       "      <td>8.348850e-16</td>\n",
       "    </tr>\n",
       "    <tr>\n",
       "      <th>120209</th>\n",
       "      <td>Levana Safe N'See Digital Video Baby Monitor w...</td>\n",
       "      <td>This is the first review I have ever written o...</td>\n",
       "      <td>1</td>\n",
       "      <td>This is the first review I have ever written o...</td>\n",
       "      <td>-1</td>\n",
       "      <td>1.591034e-15</td>\n",
       "    </tr>\n",
       "    <tr>\n",
       "      <th>77072</th>\n",
       "      <td>Safety 1st Exchangeable Tip 3 in 1 Thermometer</td>\n",
       "      <td>I thought it sounded great to have different t...</td>\n",
       "      <td>1</td>\n",
       "      <td>I thought it sounded great to have different t...</td>\n",
       "      <td>-1</td>\n",
       "      <td>8.101970e-14</td>\n",
       "    </tr>\n",
       "    <tr>\n",
       "      <th>48694</th>\n",
       "      <td>Adiri BPA Free Natural Nurser Ultimate Bottle ...</td>\n",
       "      <td>I will try to write an objective review of the...</td>\n",
       "      <td>2</td>\n",
       "      <td>I will try to write an objective review of the...</td>\n",
       "      <td>-1</td>\n",
       "      <td>9.767978e-14</td>\n",
       "    </tr>\n",
       "    <tr>\n",
       "      <th>155287</th>\n",
       "      <td>VTech Communications Safe &amp;amp; Sounds Full Co...</td>\n",
       "      <td>This is my second video monitoring system, the...</td>\n",
       "      <td>1</td>\n",
       "      <td>This is my second video monitoring system the ...</td>\n",
       "      <td>-1</td>\n",
       "      <td>1.946115e-13</td>\n",
       "    </tr>\n",
       "    <tr>\n",
       "      <th>94560</th>\n",
       "      <td>The First Years True Choice P400 Premium Digit...</td>\n",
       "      <td>Note: we never installed batteries in these un...</td>\n",
       "      <td>1</td>\n",
       "      <td>Note we never installed batteries in these uni...</td>\n",
       "      <td>-1</td>\n",
       "      <td>3.258344e-13</td>\n",
       "    </tr>\n",
       "    <tr>\n",
       "      <th>53207</th>\n",
       "      <td>Safety 1st High-Def Digital Monitor</td>\n",
       "      <td>We bought this baby monitor to replace a diffe...</td>\n",
       "      <td>1</td>\n",
       "      <td>We bought this baby monitor to replace a diffe...</td>\n",
       "      <td>-1</td>\n",
       "      <td>3.296419e-11</td>\n",
       "    </tr>\n",
       "    <tr>\n",
       "      <th>81332</th>\n",
       "      <td>Cloth Diaper Sprayer--styles may vary</td>\n",
       "      <td>I bought this sprayer out of desperation durin...</td>\n",
       "      <td>1</td>\n",
       "      <td>I bought this sprayer out of desperation durin...</td>\n",
       "      <td>-1</td>\n",
       "      <td>3.309140e-11</td>\n",
       "    </tr>\n",
       "    <tr>\n",
       "      <th>113995</th>\n",
       "      <td>Motorola Digital Video Baby Monitor with Room ...</td>\n",
       "      <td>DO NOT BUY THIS BABY MONITOR!I purchased this ...</td>\n",
       "      <td>1</td>\n",
       "      <td>DO NOT BUY THIS BABY MONITORI purchased this m...</td>\n",
       "      <td>-1</td>\n",
       "      <td>9.533157e-11</td>\n",
       "    </tr>\n",
       "    <tr>\n",
       "      <th>10677</th>\n",
       "      <td>Philips AVENT Newborn Starter Set</td>\n",
       "      <td>It's 3am in the morning and needless to say, t...</td>\n",
       "      <td>1</td>\n",
       "      <td>Its 3am in the morning and needless to say thi...</td>\n",
       "      <td>-1</td>\n",
       "      <td>9.621635e-11</td>\n",
       "    </tr>\n",
       "    <tr>\n",
       "      <th>59546</th>\n",
       "      <td>Ellaroo Mei Tai Baby Carrier - Hershey</td>\n",
       "      <td>This is basically an overpriced piece of fabri...</td>\n",
       "      <td>1</td>\n",
       "      <td>This is basically an overpriced piece of fabri...</td>\n",
       "      <td>-1</td>\n",
       "      <td>4.334115e-10</td>\n",
       "    </tr>\n",
       "    <tr>\n",
       "      <th>9915</th>\n",
       "      <td>Cosco Alpha Omega Elite Convertible Car Seat</td>\n",
       "      <td>I bought this car seat after both seeing  the ...</td>\n",
       "      <td>1</td>\n",
       "      <td>I bought this car seat after both seeing  the ...</td>\n",
       "      <td>-1</td>\n",
       "      <td>4.385972e-10</td>\n",
       "    </tr>\n",
       "    <tr>\n",
       "      <th>40079</th>\n",
       "      <td>Chicco Cortina KeyFit 30 Travel System in Adve...</td>\n",
       "      <td>My wife and I have used this system in two car...</td>\n",
       "      <td>1</td>\n",
       "      <td>My wife and I have used this system in two car...</td>\n",
       "      <td>-1</td>\n",
       "      <td>5.605989e-10</td>\n",
       "    </tr>\n",
       "    <tr>\n",
       "      <th>172090</th>\n",
       "      <td>Belkin WeMo Wi-Fi Baby Monitor for Apple iPhon...</td>\n",
       "      <td>I read so many reviews saying the Belkin WiFi ...</td>\n",
       "      <td>2</td>\n",
       "      <td>I read so many reviews saying the Belkin WiFi ...</td>\n",
       "      <td>-1</td>\n",
       "      <td>5.660962e-10</td>\n",
       "    </tr>\n",
       "    <tr>\n",
       "      <th>75994</th>\n",
       "      <td>Peg-Perego Tatamia High Chair, White Latte</td>\n",
       "      <td>I can see why there are so many good reviews o...</td>\n",
       "      <td>2</td>\n",
       "      <td>I can see why there are so many good reviews o...</td>\n",
       "      <td>-1</td>\n",
       "      <td>5.782217e-10</td>\n",
       "    </tr>\n",
       "    <tr>\n",
       "      <th>149987</th>\n",
       "      <td>NUK Cook-n-Blend Baby Food Maker</td>\n",
       "      <td>It thought this would be great. I did a lot of...</td>\n",
       "      <td>1</td>\n",
       "      <td>It thought this would be great I did a lot of ...</td>\n",
       "      <td>-1</td>\n",
       "      <td>6.146777e-10</td>\n",
       "    </tr>\n",
       "    <tr>\n",
       "      <th>154878</th>\n",
       "      <td>VTech Communications Safe &amp;amp; Sound Digital ...</td>\n",
       "      <td>First, the distance on these are no more than ...</td>\n",
       "      <td>1</td>\n",
       "      <td>First the distance on these are no more than 7...</td>\n",
       "      <td>-1</td>\n",
       "      <td>7.993501e-10</td>\n",
       "    </tr>\n",
       "    <tr>\n",
       "      <th>1116</th>\n",
       "      <td>Safety 1st Deluxe 4-in-1 Bath Station</td>\n",
       "      <td>This item is junk.  I originally chose it beca...</td>\n",
       "      <td>1</td>\n",
       "      <td>This item is junk  I originally chose it becau...</td>\n",
       "      <td>-1</td>\n",
       "      <td>1.074797e-09</td>\n",
       "    </tr>\n",
       "    <tr>\n",
       "      <th>83234</th>\n",
       "      <td>Thirsties Hemp Inserts 2 Pack, Small 6-18 Lbs</td>\n",
       "      <td>My Experience: Babykicks Inserts failure vs RA...</td>\n",
       "      <td>5</td>\n",
       "      <td>My Experience Babykicks Inserts failure vs RAV...</td>\n",
       "      <td>1</td>\n",
       "      <td>1.599421e-09</td>\n",
       "    </tr>\n",
       "    <tr>\n",
       "      <th>31741</th>\n",
       "      <td>Regalo My Cot Portable Bed, Royal Blue</td>\n",
       "      <td>If I could give this product zero stars I woul...</td>\n",
       "      <td>1</td>\n",
       "      <td>If I could give this product zero stars I woul...</td>\n",
       "      <td>-1</td>\n",
       "      <td>1.601176e-09</td>\n",
       "    </tr>\n",
       "    <tr>\n",
       "      <th>105055</th>\n",
       "      <td>Angelcare Baby Sound Monitor, White</td>\n",
       "      <td>Worthless.  We bought two, for two separate be...</td>\n",
       "      <td>1</td>\n",
       "      <td>Worthless  We bought two for two separate bedr...</td>\n",
       "      <td>-1</td>\n",
       "      <td>1.831002e-09</td>\n",
       "    </tr>\n",
       "  </tbody>\n",
       "</table>\n",
       "</div>"
      ],
      "text/plain": [
       "                                                     name  \\\n",
       "16042         Fisher-Price Ocean Wonders Aquarium Bouncer   \n",
       "120209  Levana Safe N'See Digital Video Baby Monitor w...   \n",
       "77072      Safety 1st Exchangeable Tip 3 in 1 Thermometer   \n",
       "48694   Adiri BPA Free Natural Nurser Ultimate Bottle ...   \n",
       "155287  VTech Communications Safe &amp; Sounds Full Co...   \n",
       "94560   The First Years True Choice P400 Premium Digit...   \n",
       "53207                 Safety 1st High-Def Digital Monitor   \n",
       "81332               Cloth Diaper Sprayer--styles may vary   \n",
       "113995  Motorola Digital Video Baby Monitor with Room ...   \n",
       "10677                   Philips AVENT Newborn Starter Set   \n",
       "59546              Ellaroo Mei Tai Baby Carrier - Hershey   \n",
       "9915         Cosco Alpha Omega Elite Convertible Car Seat   \n",
       "40079   Chicco Cortina KeyFit 30 Travel System in Adve...   \n",
       "172090  Belkin WeMo Wi-Fi Baby Monitor for Apple iPhon...   \n",
       "75994          Peg-Perego Tatamia High Chair, White Latte   \n",
       "149987                   NUK Cook-n-Blend Baby Food Maker   \n",
       "154878  VTech Communications Safe &amp; Sound Digital ...   \n",
       "1116                Safety 1st Deluxe 4-in-1 Bath Station   \n",
       "83234       Thirsties Hemp Inserts 2 Pack, Small 6-18 Lbs   \n",
       "31741              Regalo My Cot Portable Bed, Royal Blue   \n",
       "105055                Angelcare Baby Sound Monitor, White   \n",
       "\n",
       "                                                   review  rating  \\\n",
       "16042   We have not had ANY luck with Fisher-Price pro...       2   \n",
       "120209  This is the first review I have ever written o...       1   \n",
       "77072   I thought it sounded great to have different t...       1   \n",
       "48694   I will try to write an objective review of the...       2   \n",
       "155287  This is my second video monitoring system, the...       1   \n",
       "94560   Note: we never installed batteries in these un...       1   \n",
       "53207   We bought this baby monitor to replace a diffe...       1   \n",
       "81332   I bought this sprayer out of desperation durin...       1   \n",
       "113995  DO NOT BUY THIS BABY MONITOR!I purchased this ...       1   \n",
       "10677   It's 3am in the morning and needless to say, t...       1   \n",
       "59546   This is basically an overpriced piece of fabri...       1   \n",
       "9915    I bought this car seat after both seeing  the ...       1   \n",
       "40079   My wife and I have used this system in two car...       1   \n",
       "172090  I read so many reviews saying the Belkin WiFi ...       2   \n",
       "75994   I can see why there are so many good reviews o...       2   \n",
       "149987  It thought this would be great. I did a lot of...       1   \n",
       "154878  First, the distance on these are no more than ...       1   \n",
       "1116    This item is junk.  I originally chose it beca...       1   \n",
       "83234   My Experience: Babykicks Inserts failure vs RA...       5   \n",
       "31741   If I could give this product zero stars I woul...       1   \n",
       "105055  Worthless.  We bought two, for two separate be...       1   \n",
       "\n",
       "                                             review clean  sentiment  \\\n",
       "16042   We have not had ANY luck with FisherPrice prod...         -1   \n",
       "120209  This is the first review I have ever written o...         -1   \n",
       "77072   I thought it sounded great to have different t...         -1   \n",
       "48694   I will try to write an objective review of the...         -1   \n",
       "155287  This is my second video monitoring system the ...         -1   \n",
       "94560   Note we never installed batteries in these uni...         -1   \n",
       "53207   We bought this baby monitor to replace a diffe...         -1   \n",
       "81332   I bought this sprayer out of desperation durin...         -1   \n",
       "113995  DO NOT BUY THIS BABY MONITORI purchased this m...         -1   \n",
       "10677   Its 3am in the morning and needless to say thi...         -1   \n",
       "59546   This is basically an overpriced piece of fabri...         -1   \n",
       "9915    I bought this car seat after both seeing  the ...         -1   \n",
       "40079   My wife and I have used this system in two car...         -1   \n",
       "172090  I read so many reviews saying the Belkin WiFi ...         -1   \n",
       "75994   I can see why there are so many good reviews o...         -1   \n",
       "149987  It thought this would be great I did a lot of ...         -1   \n",
       "154878  First the distance on these are no more than 7...         -1   \n",
       "1116    This item is junk  I originally chose it becau...         -1   \n",
       "83234   My Experience Babykicks Inserts failure vs RAV...          1   \n",
       "31741   If I could give this product zero stars I woul...         -1   \n",
       "105055  Worthless  We bought two for two separate bedr...         -1   \n",
       "\n",
       "        predicted_proba  \n",
       "16042      8.348850e-16  \n",
       "120209     1.591034e-15  \n",
       "77072      8.101970e-14  \n",
       "48694      9.767978e-14  \n",
       "155287     1.946115e-13  \n",
       "94560      3.258344e-13  \n",
       "53207      3.296419e-11  \n",
       "81332      3.309140e-11  \n",
       "113995     9.533157e-11  \n",
       "10677      9.621635e-11  \n",
       "59546      4.334115e-10  \n",
       "9915       4.385972e-10  \n",
       "40079      5.605989e-10  \n",
       "172090     5.660962e-10  \n",
       "75994      5.782217e-10  \n",
       "149987     6.146777e-10  \n",
       "154878     7.993501e-10  \n",
       "1116       1.074797e-09  \n",
       "83234      1.599421e-09  \n",
       "31741      1.601176e-09  \n",
       "105055     1.831002e-09  "
      ]
     },
     "execution_count": 118,
     "metadata": {},
     "output_type": "execute_result"
    }
   ],
   "source": [
    "looser=test.sort_values(by=\"predicted_proba\")[:21]\n",
    "looser"
   ]
  },
  {
   "cell_type": "markdown",
   "metadata": {
    "ExecuteTime": {
     "end_time": "2018-02-25T17:47:54.767213Z",
     "start_time": "2018-02-25T17:47:54.764211Z"
    }
   },
   "source": [
    "# Q5 accuracy on test data\n",
    "\n",
    "Q5=0.93"
   ]
  },
  {
   "cell_type": "code",
   "execution_count": 120,
   "metadata": {
    "ExecuteTime": {
     "end_time": "2018-02-25T17:50:46.212407Z",
     "start_time": "2018-02-25T17:50:43.215918Z"
    }
   },
   "outputs": [
    {
     "name": "stdout",
     "output_type": "stream",
     "text": [
      "0.932235421166\n"
     ]
    }
   ],
   "source": [
    "test_matrix=vectorizer.transform(test[\"review clean\"])\n",
    "y_test=test[\"sentiment\"]\n",
    "print(sentiment_model.score(test_matrix,y_test))\n",
    "#answer=0.93"
   ]
  },
  {
   "cell_type": "markdown",
   "metadata": {
    "ExecuteTime": {
     "end_time": "2018-02-25T17:53:36.622478Z",
     "start_time": "2018-02-25T17:53:36.618479Z"
    }
   },
   "source": [
    "# second clf, less words"
   ]
  },
  {
   "cell_type": "code",
   "execution_count": 122,
   "metadata": {
    "ExecuteTime": {
     "end_time": "2018-02-25T17:53:45.981210Z",
     "start_time": "2018-02-25T17:53:45.976211Z"
    }
   },
   "outputs": [],
   "source": [
    "significant_words = ['love', 'great', 'easy', 'old', 'little', 'perfect', 'loves', \n",
    "      'well', 'able', 'car', 'broke', 'less', 'even', 'waste', 'disappointed', \n",
    "      'work', 'product', 'money', 'would', 'return']"
   ]
  },
  {
   "cell_type": "code",
   "execution_count": 124,
   "metadata": {
    "ExecuteTime": {
     "end_time": "2018-02-25T17:57:23.220363Z",
     "start_time": "2018-02-25T17:57:11.233817Z"
    }
   },
   "outputs": [],
   "source": [
    "sub_vectorizer=CountVectorizer(vocabulary=significant_words)\n",
    "train_sub_matrix=sub_vectorizer.fit_transform(train[\"review clean\"])\n",
    "test_sub_matrix=sub_vectorizer.transform(test[\"review clean\"])"
   ]
  },
  {
   "cell_type": "code",
   "execution_count": 162,
   "metadata": {
    "ExecuteTime": {
     "end_time": "2018-02-25T18:15:37.088852Z",
     "start_time": "2018-02-25T18:15:36.598292Z"
    }
   },
   "outputs": [],
   "source": [
    "# train clf with log regresson\n",
    "\n",
    "X_train_sub=train_sub_matrix.copy()\n",
    "y_train_sub=train[\"sentiment\"].copy()\n",
    "\n",
    "from sklearn.linear_model import LogisticRegression\n",
    "sentiment_model_sub=LogisticRegression().fit(X_train_sub, y_train_sub)"
   ]
  },
  {
   "cell_type": "code",
   "execution_count": 152,
   "metadata": {
    "ExecuteTime": {
     "end_time": "2018-02-25T18:07:08.189730Z",
     "start_time": "2018-02-25T18:07:08.186231Z"
    }
   },
   "outputs": [],
   "source": [
    "intercept=sentiment_model_sub.intercept_"
   ]
  },
  {
   "cell_type": "code",
   "execution_count": 155,
   "metadata": {
    "ExecuteTime": {
     "end_time": "2018-02-25T18:08:05.017368Z",
     "start_time": "2018-02-25T18:08:05.013369Z"
    }
   },
   "outputs": [],
   "source": [
    "coef=sentiment_model_sub.coef_.reshape(1,20)"
   ]
  },
  {
   "cell_type": "code",
   "execution_count": 149,
   "metadata": {
    "ExecuteTime": {
     "end_time": "2018-02-25T18:06:44.616949Z",
     "start_time": "2018-02-25T18:06:44.603449Z"
    },
    "collapsed": true
   },
   "outputs": [
    {
     "data": {
      "text/html": [
       "<div>\n",
       "<style>\n",
       "    .dataframe thead tr:only-child th {\n",
       "        text-align: right;\n",
       "    }\n",
       "\n",
       "    .dataframe thead th {\n",
       "        text-align: left;\n",
       "    }\n",
       "\n",
       "    .dataframe tbody tr th {\n",
       "        vertical-align: top;\n",
       "    }\n",
       "</style>\n",
       "<table border=\"1\" class=\"dataframe\">\n",
       "  <thead>\n",
       "    <tr style=\"text-align: right;\">\n",
       "      <th></th>\n",
       "      <th>coeff</th>\n",
       "      <th>word</th>\n",
       "    </tr>\n",
       "  </thead>\n",
       "  <tbody>\n",
       "    <tr>\n",
       "      <th>0</th>\n",
       "      <td>1.363688</td>\n",
       "      <td>love</td>\n",
       "    </tr>\n",
       "    <tr>\n",
       "      <th>1</th>\n",
       "      <td>0.943998</td>\n",
       "      <td>great</td>\n",
       "    </tr>\n",
       "    <tr>\n",
       "      <th>2</th>\n",
       "      <td>1.192537</td>\n",
       "      <td>easy</td>\n",
       "    </tr>\n",
       "    <tr>\n",
       "      <th>3</th>\n",
       "      <td>0.085509</td>\n",
       "      <td>old</td>\n",
       "    </tr>\n",
       "    <tr>\n",
       "      <th>4</th>\n",
       "      <td>0.520183</td>\n",
       "      <td>little</td>\n",
       "    </tr>\n",
       "    <tr>\n",
       "      <th>5</th>\n",
       "      <td>1.509810</td>\n",
       "      <td>perfect</td>\n",
       "    </tr>\n",
       "    <tr>\n",
       "      <th>6</th>\n",
       "      <td>1.673118</td>\n",
       "      <td>loves</td>\n",
       "    </tr>\n",
       "    <tr>\n",
       "      <th>7</th>\n",
       "      <td>0.503759</td>\n",
       "      <td>well</td>\n",
       "    </tr>\n",
       "    <tr>\n",
       "      <th>8</th>\n",
       "      <td>0.190906</td>\n",
       "      <td>able</td>\n",
       "    </tr>\n",
       "    <tr>\n",
       "      <th>9</th>\n",
       "      <td>0.058854</td>\n",
       "      <td>car</td>\n",
       "    </tr>\n",
       "    <tr>\n",
       "      <th>10</th>\n",
       "      <td>-1.651577</td>\n",
       "      <td>broke</td>\n",
       "    </tr>\n",
       "    <tr>\n",
       "      <th>11</th>\n",
       "      <td>-0.209565</td>\n",
       "      <td>less</td>\n",
       "    </tr>\n",
       "    <tr>\n",
       "      <th>12</th>\n",
       "      <td>-0.511382</td>\n",
       "      <td>even</td>\n",
       "    </tr>\n",
       "    <tr>\n",
       "      <th>13</th>\n",
       "      <td>-2.033699</td>\n",
       "      <td>waste</td>\n",
       "    </tr>\n",
       "    <tr>\n",
       "      <th>14</th>\n",
       "      <td>-2.348300</td>\n",
       "      <td>disappointed</td>\n",
       "    </tr>\n",
       "    <tr>\n",
       "      <th>15</th>\n",
       "      <td>-0.621170</td>\n",
       "      <td>work</td>\n",
       "    </tr>\n",
       "    <tr>\n",
       "      <th>16</th>\n",
       "      <td>-0.320558</td>\n",
       "      <td>product</td>\n",
       "    </tr>\n",
       "    <tr>\n",
       "      <th>17</th>\n",
       "      <td>-0.898032</td>\n",
       "      <td>money</td>\n",
       "    </tr>\n",
       "    <tr>\n",
       "      <th>18</th>\n",
       "      <td>-0.362156</td>\n",
       "      <td>would</td>\n",
       "    </tr>\n",
       "    <tr>\n",
       "      <th>19</th>\n",
       "      <td>-2.109333</td>\n",
       "      <td>return</td>\n",
       "    </tr>\n",
       "  </tbody>\n",
       "</table>\n",
       "</div>"
      ],
      "text/plain": [
       "       coeff          word\n",
       "0   1.363688          love\n",
       "1   0.943998         great\n",
       "2   1.192537          easy\n",
       "3   0.085509           old\n",
       "4   0.520183        little\n",
       "5   1.509810       perfect\n",
       "6   1.673118         loves\n",
       "7   0.503759          well\n",
       "8   0.190906          able\n",
       "9   0.058854           car\n",
       "10 -1.651577         broke\n",
       "11 -0.209565          less\n",
       "12 -0.511382          even\n",
       "13 -2.033699         waste\n",
       "14 -2.348300  disappointed\n",
       "15 -0.621170          work\n",
       "16 -0.320558       product\n",
       "17 -0.898032         money\n",
       "18 -0.362156         would\n",
       "19 -2.109333        return"
      ]
     },
     "execution_count": 149,
     "metadata": {},
     "output_type": "execute_result"
    }
   ],
   "source": [
    "coef_table_sub=pd.DataFrame({\"word\":significant_words, \"coeff\":coef.flatten()})\n",
    "coef_table_sub"
   ]
  },
  {
   "cell_type": "markdown",
   "metadata": {},
   "source": [
    "# Q7 How many of the 20 coefficients (corresponding to the 20 significant_words and excluding the intercept term) are positive for the simple_model?\n",
    "\n",
    "Q7=10"
   ]
  },
  {
   "cell_type": "code",
   "execution_count": 156,
   "metadata": {
    "ExecuteTime": {
     "end_time": "2018-02-25T18:09:27.787150Z",
     "start_time": "2018-02-25T18:09:27.778131Z"
    }
   },
   "outputs": [
    {
     "data": {
      "text/plain": [
       "coeff    10\n",
       "word     20\n",
       "dtype: int64"
      ]
     },
     "execution_count": 156,
     "metadata": {},
     "output_type": "execute_result"
    }
   ],
   "source": [
    "q7=(coef_table_sub >0).sum()\n",
    "q7"
   ]
  },
  {
   "cell_type": "markdown",
   "metadata": {},
   "source": [
    "q8=yes"
   ]
  },
  {
   "cell_type": "markdown",
   "metadata": {
    "ExecuteTime": {
     "end_time": "2018-02-25T18:33:42.149211Z",
     "start_time": "2018-02-25T18:33:42.145712Z"
    }
   },
   "source": [
    "# Q8 Are the positive words in the simple_model also positive words in the sentiment_model?\n",
    "\n",
    "Q8=yes"
   ]
  },
  {
   "cell_type": "markdown",
   "metadata": {},
   "source": [
    "# Q9 Which model (sentiment_model or simple_model) has higher accuracy on the TRAINING set?\n"
   ]
  },
  {
   "cell_type": "code",
   "execution_count": 160,
   "metadata": {
    "ExecuteTime": {
     "end_time": "2018-02-25T18:14:22.249111Z",
     "start_time": "2018-02-25T18:14:22.140600Z"
    },
    "cell_style": "split"
   },
   "outputs": [
    {
     "name": "stdout",
     "output_type": "stream",
     "text": [
      "0.96849703184\n"
     ]
    }
   ],
   "source": [
    "#1st model on train \n",
    "print(sentiment_model.score(train_matrix,y_train))"
   ]
  },
  {
   "cell_type": "code",
   "execution_count": 163,
   "metadata": {
    "ExecuteTime": {
     "end_time": "2018-02-25T18:16:14.418070Z",
     "start_time": "2018-02-25T18:16:14.381566Z"
    },
    "cell_style": "split"
   },
   "outputs": [
    {
     "name": "stdout",
     "output_type": "stream",
     "text": [
      "0.866822570007\n"
     ]
    }
   ],
   "source": [
    "#simple model on train \n",
    "\n",
    "print(sentiment_model_sub.score(X_train_sub, y_train_sub))"
   ]
  },
  {
   "cell_type": "markdown",
   "metadata": {},
   "source": [
    "Q9 which models has highest score on train?\n",
    "\n",
    "Q10=which models has highest score on test?\n",
    "\n",
    "q9=sentiment_model\n",
    "q10=sentiment"
   ]
  },
  {
   "cell_type": "markdown",
   "metadata": {},
   "source": [
    "# Q10 Which model (sentiment_model or simple_model) has higher accuracy on the TEST set?"
   ]
  },
  {
   "cell_type": "code",
   "execution_count": 158,
   "metadata": {
    "ExecuteTime": {
     "end_time": "2018-02-25T18:11:25.916181Z",
     "start_time": "2018-02-25T18:11:22.891289Z"
    },
    "cell_style": "split"
   },
   "outputs": [
    {
     "name": "stdout",
     "output_type": "stream",
     "text": [
      "0.932235421166\n"
     ]
    }
   ],
   "source": [
    "#1st model on test\n",
    "test_matrix=vectorizer.transform(test[\"review clean\"])\n",
    "y_test=test[\"sentiment\"]\n",
    "print(sentiment_model.score(test_matrix,y_test))"
   ]
  },
  {
   "cell_type": "code",
   "execution_count": 165,
   "metadata": {
    "ExecuteTime": {
     "end_time": "2018-02-25T18:22:15.154064Z",
     "start_time": "2018-02-25T18:22:12.792531Z"
    },
    "cell_style": "split",
    "collapsed": true
   },
   "outputs": [
    {
     "name": "stdout",
     "output_type": "stream",
     "text": [
      "0.869360451164\n"
     ]
    }
   ],
   "source": [
    "#simple model\n",
    "\n",
    "test_sub_matrix=sub_vectorizer.transform(test[\"review clean\"])\n",
    "y_test_sub=test[\"sentiment\"]\n",
    "print(sentiment_model_sub.score(test_sub_matrix,y_test_sub))"
   ]
  },
  {
   "cell_type": "markdown",
   "metadata": {},
   "source": [
    "# Q11 is the sentiment classifier better than dummy clf?\n",
    "\n",
    "q11=0.84"
   ]
  },
  {
   "cell_type": "code",
   "execution_count": 168,
   "metadata": {
    "ExecuteTime": {
     "end_time": "2018-02-25T18:28:06.959500Z",
     "start_time": "2018-02-25T18:28:06.944500Z"
    }
   },
   "outputs": [
    {
     "data": {
      "text/plain": [
       "0.84278257739380846"
      ]
     },
     "execution_count": 168,
     "metadata": {},
     "output_type": "execute_result"
    }
   ],
   "source": [
    "from sklearn.dummy import DummyClassifier\n",
    "#neg class 0 is most frequent\n",
    "dummy_majority=DummyClassifier(strategy= \"most_frequent\").fit(test_matrix,y_test)\n",
    "#therefore the dummy \"most_freq\" class always predicts class 0\n",
    "\n",
    "y_dummy_predictions=dummy_majority.predict(test_matrix)\n",
    "y_dummy_predictions\n",
    "dummy_majority.score(test_matrix,y_test)"
   ]
  },
  {
   "cell_type": "code",
   "execution_count": null,
   "metadata": {},
   "outputs": [],
   "source": []
  }
 ],
 "metadata": {
  "kernelspec": {
   "display_name": "Python 3",
   "language": "python",
   "name": "python3"
  },
  "language_info": {
   "codemirror_mode": {
    "name": "ipython",
    "version": 3
   },
   "file_extension": ".py",
   "mimetype": "text/x-python",
   "name": "python",
   "nbconvert_exporter": "python",
   "pygments_lexer": "ipython3",
   "version": "3.6.3"
  },
  "toc": {
   "nav_menu": {},
   "number_sections": true,
   "sideBar": true,
   "skip_h1_title": false,
   "title_cell": "Table of Contents",
   "title_sidebar": "Contents",
   "toc_cell": false,
   "toc_position": {},
   "toc_section_display": true,
   "toc_window_display": false
  },
  "varInspector": {
   "cols": {
    "lenName": 16,
    "lenType": 16,
    "lenVar": 40
   },
   "kernels_config": {
    "python": {
     "delete_cmd_postfix": "",
     "delete_cmd_prefix": "del ",
     "library": "var_list.py",
     "varRefreshCmd": "print(var_dic_list())"
    },
    "r": {
     "delete_cmd_postfix": ") ",
     "delete_cmd_prefix": "rm(",
     "library": "var_list.r",
     "varRefreshCmd": "cat(var_dic_list()) "
    }
   },
   "types_to_exclude": [
    "module",
    "function",
    "builtin_function_or_method",
    "instance",
    "_Feature"
   ],
   "window_display": false
  }
 },
 "nbformat": 4,
 "nbformat_minor": 2
}
